{
 "cells": [
  {
   "cell_type": "markdown",
   "metadata": {},
   "source": [
    "# Scénario\n",
    "\n",
    "Vous êtes consultant Data Analyst chez Lapage, une grande librairie généraliste en ligne très réputée. Vous êtes directement rattaché au service Marketing.\n",
    "\n",
    "![Food](https://user.oc-static.com/upload/2020/11/23/16061367402655_Capture%20d%E2%80%99e%CC%81cran%202020-11-23%20a%CC%80%2014.05.04.png)\n",
    "\n",
    "Lapage était originellement une librairie physique avec plusieurs points de vente. Mais devant le succès de certains de ses produits et l’engouement de ses clients, elle a décidé depuis 2 ans d’ouvrir un site de vente en ligne. Vous intervenez car l’entreprise souhaite faire le point après deux ans d’exercice, et pouvoir analyser ses points forts, ses points faibles, les comportements clients, etc."
   ]
  },
  {
   "cell_type": "markdown",
   "metadata": {},
   "source": [
    "## Importation des librairies"
   ]
  },
  {
   "cell_type": "code",
   "execution_count": 1,
   "metadata": {},
   "outputs": [],
   "source": [
    "import numpy as np\n",
    "import pandas as pd\n",
    "import matplotlib.pyplot as plt\n",
    "import scipy.stats as st\n",
    "from scipy.stats import chi2_contingency "
   ]
  },
  {
   "cell_type": "markdown",
   "metadata": {},
   "source": [
    "## Déclaration des Fonctions"
   ]
  },
  {
   "cell_type": "code",
   "execution_count": 2,
   "metadata": {},
   "outputs": [],
   "source": [
    "def keyTester(df):\n",
    "    \"\"\"Fonction qui vérifie si la clé du dataframe peut être utilisée comme clé primaire\"\"\"\n",
    "    # On compare la taille du dataframe avant et après la suppression des doublons\n",
    "    if df.size == df[~df.index.duplicated(keep='first')].size :\n",
    "        print(\"La clé peut être utilisée comme clé primaire car elle est unique\")\n",
    "    else:\n",
    "        print(\"La clé ne peut être utilisée comme clé primaire car elle n'est pas unique\")\n",
    "        print(f\"Voici le nombre de doublons : {df.index[df.index.duplicated(keep='first')].nunique()}\")\n",
    "    \n",
    "    # On print la forme du Dataframe\n",
    "    print(f\"Le dataframe contient {df.shape} (lignes, colonnes)\")"
   ]
  },
  {
   "cell_type": "markdown",
   "metadata": {},
   "source": [
    "## Charger et voir les données "
   ]
  },
  {
   "cell_type": "markdown",
   "metadata": {},
   "source": [
    "## Analyse de la forme des données"
   ]
  },
  {
   "cell_type": "markdown",
   "metadata": {},
   "source": [
    "### 1- Données sur les clients"
   ]
  },
  {
   "cell_type": "code",
   "execution_count": 3,
   "metadata": {},
   "outputs": [],
   "source": [
    "url = 'C:\\\\Users\\\\asus\\\\OneDrive\\\\Cours Openclassrooms\\\\P6_darosa_kim\\\\DAN-P6-donnees\\\\DAN-P6-donnees\\\\customers.csv'\n",
    "df_1 = pd.read_csv(url, index_col=0, encoding = \"utf-8\")\n",
    "df_customers=df_1.copy()\n"
   ]
  },
  {
   "cell_type": "code",
   "execution_count": 4,
   "metadata": {},
   "outputs": [
    {
     "data": {
      "text/html": [
       "<div>\n",
       "<style scoped>\n",
       "    .dataframe tbody tr th:only-of-type {\n",
       "        vertical-align: middle;\n",
       "    }\n",
       "\n",
       "    .dataframe tbody tr th {\n",
       "        vertical-align: top;\n",
       "    }\n",
       "\n",
       "    .dataframe thead th {\n",
       "        text-align: right;\n",
       "    }\n",
       "</style>\n",
       "<table border=\"1\" class=\"dataframe\">\n",
       "  <thead>\n",
       "    <tr style=\"text-align: right;\">\n",
       "      <th></th>\n",
       "      <th>sex</th>\n",
       "      <th>birth</th>\n",
       "    </tr>\n",
       "    <tr>\n",
       "      <th>client_id</th>\n",
       "      <th></th>\n",
       "      <th></th>\n",
       "    </tr>\n",
       "  </thead>\n",
       "  <tbody>\n",
       "    <tr>\n",
       "      <th>c_4410</th>\n",
       "      <td>f</td>\n",
       "      <td>1967</td>\n",
       "    </tr>\n",
       "    <tr>\n",
       "      <th>c_7839</th>\n",
       "      <td>f</td>\n",
       "      <td>1975</td>\n",
       "    </tr>\n",
       "    <tr>\n",
       "      <th>c_1699</th>\n",
       "      <td>f</td>\n",
       "      <td>1984</td>\n",
       "    </tr>\n",
       "    <tr>\n",
       "      <th>c_5961</th>\n",
       "      <td>f</td>\n",
       "      <td>1962</td>\n",
       "    </tr>\n",
       "    <tr>\n",
       "      <th>c_5320</th>\n",
       "      <td>m</td>\n",
       "      <td>1943</td>\n",
       "    </tr>\n",
       "  </tbody>\n",
       "</table>\n",
       "</div>"
      ],
      "text/plain": [
       "          sex  birth\n",
       "client_id           \n",
       "c_4410      f   1967\n",
       "c_7839      f   1975\n",
       "c_1699      f   1984\n",
       "c_5961      f   1962\n",
       "c_5320      m   1943"
      ]
     },
     "execution_count": 4,
     "metadata": {},
     "output_type": "execute_result"
    }
   ],
   "source": [
    "df_customers.head()"
   ]
  },
  {
   "cell_type": "code",
   "execution_count": 6,
   "metadata": {},
   "outputs": [
    {
     "name": "stdout",
     "output_type": "stream",
     "text": [
      "<class 'pandas.core.frame.DataFrame'>\n",
      "Index: 8623 entries, c_4410 to c_84\n",
      "Data columns (total 2 columns):\n",
      " #   Column  Non-Null Count  Dtype \n",
      "---  ------  --------------  ----- \n",
      " 0   sex     8623 non-null   object\n",
      " 1   birth   8623 non-null   int64 \n",
      "dtypes: int64(1), object(1)\n",
      "memory usage: 202.1+ KB\n"
     ]
    }
   ],
   "source": [
    "df_customers.info()"
   ]
  },
  {
   "cell_type": "markdown",
   "metadata": {},
   "source": [
    "#### Compter les valeurs NaN "
   ]
  },
  {
   "cell_type": "code",
   "execution_count": 10,
   "metadata": {},
   "outputs": [
    {
     "data": {
      "text/plain": [
       "sex      0.0\n",
       "birth    0.0\n",
       "dtype: float64"
      ]
     },
     "execution_count": 10,
     "metadata": {},
     "output_type": "execute_result"
    }
   ],
   "source": [
    "(df_customers.isnull().sum()/df_customers.shape[0]).sort_values(ascending=True)"
   ]
  },
  {
   "cell_type": "markdown",
   "metadata": {},
   "source": [
    "Il n'y a aucune valeur manquante."
   ]
  },
  {
   "cell_type": "markdown",
   "metadata": {},
   "source": [
    "#### Compter les valeurs de la colonne **birth**"
   ]
  },
  {
   "cell_type": "code",
   "execution_count": 16,
   "metadata": {},
   "outputs": [
    {
     "data": {
      "text/plain": [
       "2004-01-01    440\n",
       "1979-01-01    215\n",
       "1988-01-01    207\n",
       "1986-01-01    203\n",
       "1978-01-01    199\n",
       "             ... \n",
       "1933-01-01      8\n",
       "1932-01-01      6\n",
       "1931-01-01      4\n",
       "1930-01-01      4\n",
       "1929-01-01      3\n",
       "Name: birth, Length: 76, dtype: int64"
      ]
     },
     "execution_count": 16,
     "metadata": {},
     "output_type": "execute_result"
    },
    {
     "data": {
      "text/plain": [
       "<Figure size 432x288 with 0 Axes>"
      ]
     },
     "metadata": {},
     "output_type": "display_data"
    }
   ],
   "source": [
    "plt.figure()\n",
    "df_customers[\"birth\"].value_counts()"
   ]
  },
  {
   "cell_type": "markdown",
   "metadata": {},
   "source": [
    "On remarque qu'il y a beaucoup de personnes ayant 18 ans, peut être qu'il faut être majeur pour pouvoir s'inscrire sur le site et ils ont dû mentir sur leur age. "
   ]
  },
  {
   "cell_type": "markdown",
   "metadata": {},
   "source": [
    "#### Compter les valeurs de la colonne **sex**"
   ]
  },
  {
   "cell_type": "code",
   "execution_count": 28,
   "metadata": {},
   "outputs": [
    {
     "data": {
      "text/plain": [
       "f    4491\n",
       "m    4132\n",
       "Name: sex, dtype: int64"
      ]
     },
     "execution_count": 28,
     "metadata": {},
     "output_type": "execute_result"
    },
    {
     "data": {
      "text/plain": [
       "<Figure size 432x288 with 0 Axes>"
      ]
     },
     "metadata": {},
     "output_type": "display_data"
    }
   ],
   "source": [
    "plt.figure()\n",
    "df_customers[\"sex\"].value_counts()"
   ]
  },
  {
   "cell_type": "code",
   "execution_count": 4,
   "metadata": {},
   "outputs": [
    {
     "name": "stdout",
     "output_type": "stream",
     "text": [
      "La clé peut être utilisée comme clé primaire car elle est unique\n",
      "Le dataframe contient (8623, 2) (lignes, colonnes)\n"
     ]
    }
   ],
   "source": [
    "keyTester(df_customers)"
   ]
  },
  {
   "cell_type": "markdown",
   "metadata": {},
   "source": [
    "Il n'y a aucun prétraitement à faire sur ce Dataframe."
   ]
  },
  {
   "cell_type": "markdown",
   "metadata": {},
   "source": [
    "### 2- Données sur les produits"
   ]
  },
  {
   "cell_type": "code",
   "execution_count": 4,
   "metadata": {},
   "outputs": [],
   "source": [
    "url = 'C:\\\\Users\\\\asus\\\\OneDrive\\\\Cours Openclassrooms\\\\P6_darosa_kim\\\\DAN-P6-donnees\\\\DAN-P6-donnees\\\\products.csv'\n",
    "df_1 = pd.read_csv(url, index_col=0, encoding = \"utf-8\")\n",
    "df_products=df_1.copy()\n"
   ]
  },
  {
   "cell_type": "code",
   "execution_count": 18,
   "metadata": {},
   "outputs": [
    {
     "data": {
      "text/html": [
       "<div>\n",
       "<style scoped>\n",
       "    .dataframe tbody tr th:only-of-type {\n",
       "        vertical-align: middle;\n",
       "    }\n",
       "\n",
       "    .dataframe tbody tr th {\n",
       "        vertical-align: top;\n",
       "    }\n",
       "\n",
       "    .dataframe thead th {\n",
       "        text-align: right;\n",
       "    }\n",
       "</style>\n",
       "<table border=\"1\" class=\"dataframe\">\n",
       "  <thead>\n",
       "    <tr style=\"text-align: right;\">\n",
       "      <th></th>\n",
       "      <th>price</th>\n",
       "      <th>categ</th>\n",
       "    </tr>\n",
       "    <tr>\n",
       "      <th>id_prod</th>\n",
       "      <th></th>\n",
       "      <th></th>\n",
       "    </tr>\n",
       "  </thead>\n",
       "  <tbody>\n",
       "    <tr>\n",
       "      <th>0_1421</th>\n",
       "      <td>19.99</td>\n",
       "      <td>0</td>\n",
       "    </tr>\n",
       "    <tr>\n",
       "      <th>0_1368</th>\n",
       "      <td>5.13</td>\n",
       "      <td>0</td>\n",
       "    </tr>\n",
       "    <tr>\n",
       "      <th>0_731</th>\n",
       "      <td>17.99</td>\n",
       "      <td>0</td>\n",
       "    </tr>\n",
       "    <tr>\n",
       "      <th>1_587</th>\n",
       "      <td>4.99</td>\n",
       "      <td>1</td>\n",
       "    </tr>\n",
       "    <tr>\n",
       "      <th>0_1507</th>\n",
       "      <td>3.99</td>\n",
       "      <td>0</td>\n",
       "    </tr>\n",
       "  </tbody>\n",
       "</table>\n",
       "</div>"
      ],
      "text/plain": [
       "         price  categ\n",
       "id_prod              \n",
       "0_1421   19.99      0\n",
       "0_1368    5.13      0\n",
       "0_731    17.99      0\n",
       "1_587     4.99      1\n",
       "0_1507    3.99      0"
      ]
     },
     "execution_count": 18,
     "metadata": {},
     "output_type": "execute_result"
    }
   ],
   "source": [
    "df_products.head()"
   ]
  },
  {
   "cell_type": "code",
   "execution_count": 6,
   "metadata": {},
   "outputs": [
    {
     "name": "stdout",
     "output_type": "stream",
     "text": [
      "<class 'pandas.core.frame.DataFrame'>\n",
      "Index: 3287 entries, 0_1421 to 0_1920\n",
      "Data columns (total 2 columns):\n",
      " #   Column  Non-Null Count  Dtype  \n",
      "---  ------  --------------  -----  \n",
      " 0   price   3287 non-null   float64\n",
      " 1   categ   3287 non-null   int64  \n",
      "dtypes: float64(1), int64(1)\n",
      "memory usage: 77.0+ KB\n"
     ]
    }
   ],
   "source": [
    "df_products.info()"
   ]
  },
  {
   "cell_type": "markdown",
   "metadata": {},
   "source": [
    "#### Convertir le dtype de la colonne **categ** en object car c'est une catégorie donc une valeur qualitative"
   ]
  },
  {
   "cell_type": "code",
   "execution_count": 7,
   "metadata": {},
   "outputs": [],
   "source": [
    "df_products[\"categ\"] = df_products[\"categ\"].astype(\"object\")"
   ]
  },
  {
   "cell_type": "markdown",
   "metadata": {},
   "source": [
    "#### Compter les valeurs NaN "
   ]
  },
  {
   "cell_type": "code",
   "execution_count": 24,
   "metadata": {},
   "outputs": [
    {
     "data": {
      "text/plain": [
       "price    0.0\n",
       "categ    0.0\n",
       "dtype: float64"
      ]
     },
     "execution_count": 24,
     "metadata": {},
     "output_type": "execute_result"
    }
   ],
   "source": [
    "(df_products.isnull().sum()/df_products.shape[0]).sort_values(ascending=True)"
   ]
  },
  {
   "cell_type": "markdown",
   "metadata": {},
   "source": [
    "Il n'y a aucune valeur manquante."
   ]
  },
  {
   "cell_type": "markdown",
   "metadata": {},
   "source": [
    "#### Compter les valeurs de la colonne **categ** et **price**"
   ]
  },
  {
   "cell_type": "code",
   "execution_count": 23,
   "metadata": {},
   "outputs": [
    {
     "data": {
      "text/plain": [
       "0    2309\n",
       "1     739\n",
       "2     239\n",
       "Name: categ, dtype: int64"
      ]
     },
     "execution_count": 23,
     "metadata": {},
     "output_type": "execute_result"
    },
    {
     "data": {
      "text/plain": [
       "<Figure size 432x288 with 0 Axes>"
      ]
     },
     "metadata": {},
     "output_type": "display_data"
    }
   ],
   "source": [
    "plt.figure()\n",
    "df_products[\"categ\"].value_counts()"
   ]
  },
  {
   "cell_type": "markdown",
   "metadata": {},
   "source": [
    "La cat0 est la plus abondante."
   ]
  },
  {
   "cell_type": "code",
   "execution_count": 30,
   "metadata": {},
   "outputs": [
    {
     "data": {
      "text/plain": [
       "4.99     85\n",
       "6.99     84\n",
       "3.99     80\n",
       "5.99     78\n",
       "8.99     74\n",
       "         ..\n",
       "4.13      1\n",
       "2.84      1\n",
       "13.13     1\n",
       "18.77     1\n",
       "9.00      1\n",
       "Name: price, Length: 1455, dtype: int64"
      ]
     },
     "execution_count": 30,
     "metadata": {},
     "output_type": "execute_result"
    },
    {
     "data": {
      "text/plain": [
       "<Figure size 432x288 with 0 Axes>"
      ]
     },
     "metadata": {},
     "output_type": "display_data"
    }
   ],
   "source": [
    "plt.figure()\n",
    "df_products[\"price\"].value_counts()"
   ]
  },
  {
   "cell_type": "code",
   "execution_count": 8,
   "metadata": {},
   "outputs": [
    {
     "name": "stdout",
     "output_type": "stream",
     "text": [
      "La clé peut être utilisée comme clé primaire car elle est unique\n",
      "Le dataframe contient (3287, 2) (lignes, colonnes)\n"
     ]
    }
   ],
   "source": [
    "keyTester(df_products)"
   ]
  },
  {
   "cell_type": "markdown",
   "metadata": {},
   "source": [
    "Il n'y a aucun autre prétraitement à faire sur ce Dataframe."
   ]
  },
  {
   "cell_type": "markdown",
   "metadata": {},
   "source": [
    "### 3- Données sur les transactions"
   ]
  },
  {
   "cell_type": "code",
   "execution_count": 5,
   "metadata": {},
   "outputs": [],
   "source": [
    "url = 'C:\\\\Users\\\\asus\\\\OneDrive\\\\Cours Openclassrooms\\\\P6_darosa_kim\\\\DAN-P6-donnees\\\\DAN-P6-donnees\\\\transactions.csv'\n",
    "df_1 = pd.read_csv(url, index_col=0, encoding = \"utf-8\")\n",
    "df_transactions=df_1.copy()\n"
   ]
  },
  {
   "cell_type": "code",
   "execution_count": 32,
   "metadata": {},
   "outputs": [
    {
     "data": {
      "text/html": [
       "<div>\n",
       "<style scoped>\n",
       "    .dataframe tbody tr th:only-of-type {\n",
       "        vertical-align: middle;\n",
       "    }\n",
       "\n",
       "    .dataframe tbody tr th {\n",
       "        vertical-align: top;\n",
       "    }\n",
       "\n",
       "    .dataframe thead th {\n",
       "        text-align: right;\n",
       "    }\n",
       "</style>\n",
       "<table border=\"1\" class=\"dataframe\">\n",
       "  <thead>\n",
       "    <tr style=\"text-align: right;\">\n",
       "      <th></th>\n",
       "      <th>date</th>\n",
       "      <th>session_id</th>\n",
       "      <th>client_id</th>\n",
       "    </tr>\n",
       "    <tr>\n",
       "      <th>id_prod</th>\n",
       "      <th></th>\n",
       "      <th></th>\n",
       "      <th></th>\n",
       "    </tr>\n",
       "  </thead>\n",
       "  <tbody>\n",
       "    <tr>\n",
       "      <th>0_1518</th>\n",
       "      <td>2022-05-20 13:21:29.043970</td>\n",
       "      <td>s_211425</td>\n",
       "      <td>c_103</td>\n",
       "    </tr>\n",
       "    <tr>\n",
       "      <th>1_251</th>\n",
       "      <td>2022-02-02 07:55:19.149409</td>\n",
       "      <td>s_158752</td>\n",
       "      <td>c_8534</td>\n",
       "    </tr>\n",
       "    <tr>\n",
       "      <th>0_1277</th>\n",
       "      <td>2022-06-18 15:44:33.155329</td>\n",
       "      <td>s_225667</td>\n",
       "      <td>c_6714</td>\n",
       "    </tr>\n",
       "    <tr>\n",
       "      <th>2_209</th>\n",
       "      <td>2021-06-24 04:19:29.835891</td>\n",
       "      <td>s_52962</td>\n",
       "      <td>c_6941</td>\n",
       "    </tr>\n",
       "    <tr>\n",
       "      <th>0_1509</th>\n",
       "      <td>2023-01-11 08:22:08.194479</td>\n",
       "      <td>s_325227</td>\n",
       "      <td>c_4232</td>\n",
       "    </tr>\n",
       "  </tbody>\n",
       "</table>\n",
       "</div>"
      ],
      "text/plain": [
       "                               date session_id client_id\n",
       "id_prod                                                 \n",
       "0_1518   2022-05-20 13:21:29.043970   s_211425     c_103\n",
       "1_251    2022-02-02 07:55:19.149409   s_158752    c_8534\n",
       "0_1277   2022-06-18 15:44:33.155329   s_225667    c_6714\n",
       "2_209    2021-06-24 04:19:29.835891    s_52962    c_6941\n",
       "0_1509   2023-01-11 08:22:08.194479   s_325227    c_4232"
      ]
     },
     "execution_count": 32,
     "metadata": {},
     "output_type": "execute_result"
    }
   ],
   "source": [
    "df_transactions.head()"
   ]
  },
  {
   "cell_type": "code",
   "execution_count": 33,
   "metadata": {},
   "outputs": [
    {
     "name": "stdout",
     "output_type": "stream",
     "text": [
      "<class 'pandas.core.frame.DataFrame'>\n",
      "Index: 679532 entries, 0_1518 to 1_523\n",
      "Data columns (total 3 columns):\n",
      " #   Column      Non-Null Count   Dtype \n",
      "---  ------      --------------   ----- \n",
      " 0   date        679532 non-null  object\n",
      " 1   session_id  679532 non-null  object\n",
      " 2   client_id   679532 non-null  object\n",
      "dtypes: object(3)\n",
      "memory usage: 20.7+ MB\n"
     ]
    }
   ],
   "source": [
    "df_transactions.info()"
   ]
  },
  {
   "cell_type": "markdown",
   "metadata": {},
   "source": [
    "#### Compter les valeurs NaN "
   ]
  },
  {
   "cell_type": "code",
   "execution_count": 36,
   "metadata": {},
   "outputs": [
    {
     "data": {
      "text/plain": [
       "date          0.0\n",
       "session_id    0.0\n",
       "client_id     0.0\n",
       "dtype: float64"
      ]
     },
     "execution_count": 36,
     "metadata": {},
     "output_type": "execute_result"
    }
   ],
   "source": [
    "(df_transactions.isnull().sum()/df_transactions.shape[0]).sort_values(ascending=True)"
   ]
  },
  {
   "cell_type": "markdown",
   "metadata": {},
   "source": [
    "Il n'y a aucune valeur manquante."
   ]
  },
  {
   "cell_type": "code",
   "execution_count": 10,
   "metadata": {},
   "outputs": [
    {
     "name": "stdout",
     "output_type": "stream",
     "text": [
      "La clé ne peut être utilisée comme clé primaire car elle n'est pas unique\n",
      "Voici le nombre de doublons : 3249\n",
      "Le dataframe contient (679532, 3) (lignes, colonnes)\n"
     ]
    }
   ],
   "source": [
    "keyTester(df_transactions)"
   ]
  },
  {
   "cell_type": "markdown",
   "metadata": {},
   "source": [
    "#### Compter le nombre de clients unique"
   ]
  },
  {
   "cell_type": "code",
   "execution_count": 117,
   "metadata": {},
   "outputs": [
    {
     "data": {
      "text/plain": [
       "3266"
      ]
     },
     "execution_count": 117,
     "metadata": {},
     "output_type": "execute_result"
    }
   ],
   "source": [
    "df_transactions.index.nunique() "
   ]
  },
  {
   "cell_type": "markdown",
   "metadata": {},
   "source": [
    "#### Compter les valeurs de la colonne **date**"
   ]
  },
  {
   "cell_type": "code",
   "execution_count": 38,
   "metadata": {},
   "outputs": [
    {
     "data": {
      "text/plain": [
       "test_2021-03-01 02:30:02.237413    13\n",
       "test_2021-03-01 02:30:02.237444     8\n",
       "test_2021-03-01 02:30:02.237427     8\n",
       "test_2021-03-01 02:30:02.237428     8\n",
       "test_2021-03-01 02:30:02.237414     8\n",
       "                                   ..\n",
       "2022-01-02 11:50:26.298391          1\n",
       "2021-12-03 20:43:02.536365          1\n",
       "2021-07-23 01:24:22.395175          1\n",
       "2021-05-02 14:03:17.898852          1\n",
       "2022-01-27 21:48:02.206867          1\n",
       "Name: date, Length: 679371, dtype: int64"
      ]
     },
     "execution_count": 38,
     "metadata": {},
     "output_type": "execute_result"
    },
    {
     "data": {
      "text/plain": [
       "<Figure size 432x288 with 0 Axes>"
      ]
     },
     "metadata": {},
     "output_type": "display_data"
    }
   ],
   "source": [
    "plt.figure()\n",
    "df_transactions[\"date\"].value_counts()"
   ]
  },
  {
   "cell_type": "markdown",
   "metadata": {},
   "source": [
    "Ici, l'on peut remarquer qu'il y a une anomalie dans la colonne **date**. Une chaîne de caractère a été ajouté donc impossible de convertir le dtype en datetime."
   ]
  },
  {
   "cell_type": "markdown",
   "metadata": {},
   "source": [
    "Le prétraitement serait de supprimer ces lignes."
   ]
  },
  {
   "cell_type": "code",
   "execution_count": 11,
   "metadata": {},
   "outputs": [
    {
     "data": {
      "text/html": [
       "<div>\n",
       "<style scoped>\n",
       "    .dataframe tbody tr th:only-of-type {\n",
       "        vertical-align: middle;\n",
       "    }\n",
       "\n",
       "    .dataframe tbody tr th {\n",
       "        vertical-align: top;\n",
       "    }\n",
       "\n",
       "    .dataframe thead th {\n",
       "        text-align: right;\n",
       "    }\n",
       "</style>\n",
       "<table border=\"1\" class=\"dataframe\">\n",
       "  <thead>\n",
       "    <tr style=\"text-align: right;\">\n",
       "      <th></th>\n",
       "      <th>date</th>\n",
       "      <th>session_id</th>\n",
       "      <th>client_id</th>\n",
       "    </tr>\n",
       "    <tr>\n",
       "      <th>id_prod</th>\n",
       "      <th></th>\n",
       "      <th></th>\n",
       "      <th></th>\n",
       "    </tr>\n",
       "  </thead>\n",
       "  <tbody>\n",
       "    <tr>\n",
       "      <th>T_0</th>\n",
       "      <td>test_2021-03-01 02:30:02.237419</td>\n",
       "      <td>s_0</td>\n",
       "      <td>ct_0</td>\n",
       "    </tr>\n",
       "    <tr>\n",
       "      <th>T_0</th>\n",
       "      <td>test_2021-03-01 02:30:02.237425</td>\n",
       "      <td>s_0</td>\n",
       "      <td>ct_0</td>\n",
       "    </tr>\n",
       "    <tr>\n",
       "      <th>T_0</th>\n",
       "      <td>test_2021-03-01 02:30:02.237437</td>\n",
       "      <td>s_0</td>\n",
       "      <td>ct_1</td>\n",
       "    </tr>\n",
       "    <tr>\n",
       "      <th>T_0</th>\n",
       "      <td>test_2021-03-01 02:30:02.237436</td>\n",
       "      <td>s_0</td>\n",
       "      <td>ct_0</td>\n",
       "    </tr>\n",
       "    <tr>\n",
       "      <th>T_0</th>\n",
       "      <td>test_2021-03-01 02:30:02.237430</td>\n",
       "      <td>s_0</td>\n",
       "      <td>ct_0</td>\n",
       "    </tr>\n",
       "    <tr>\n",
       "      <th>...</th>\n",
       "      <td>...</td>\n",
       "      <td>...</td>\n",
       "      <td>...</td>\n",
       "    </tr>\n",
       "    <tr>\n",
       "      <th>T_0</th>\n",
       "      <td>test_2021-03-01 02:30:02.237417</td>\n",
       "      <td>s_0</td>\n",
       "      <td>ct_0</td>\n",
       "    </tr>\n",
       "    <tr>\n",
       "      <th>T_0</th>\n",
       "      <td>test_2021-03-01 02:30:02.237427</td>\n",
       "      <td>s_0</td>\n",
       "      <td>ct_1</td>\n",
       "    </tr>\n",
       "    <tr>\n",
       "      <th>T_0</th>\n",
       "      <td>test_2021-03-01 02:30:02.237449</td>\n",
       "      <td>s_0</td>\n",
       "      <td>ct_1</td>\n",
       "    </tr>\n",
       "    <tr>\n",
       "      <th>T_0</th>\n",
       "      <td>test_2021-03-01 02:30:02.237424</td>\n",
       "      <td>s_0</td>\n",
       "      <td>ct_1</td>\n",
       "    </tr>\n",
       "    <tr>\n",
       "      <th>T_0</th>\n",
       "      <td>test_2021-03-01 02:30:02.237425</td>\n",
       "      <td>s_0</td>\n",
       "      <td>ct_1</td>\n",
       "    </tr>\n",
       "  </tbody>\n",
       "</table>\n",
       "<p>200 rows × 3 columns</p>\n",
       "</div>"
      ],
      "text/plain": [
       "                                    date session_id client_id\n",
       "id_prod                                                      \n",
       "T_0      test_2021-03-01 02:30:02.237419        s_0      ct_0\n",
       "T_0      test_2021-03-01 02:30:02.237425        s_0      ct_0\n",
       "T_0      test_2021-03-01 02:30:02.237437        s_0      ct_1\n",
       "T_0      test_2021-03-01 02:30:02.237436        s_0      ct_0\n",
       "T_0      test_2021-03-01 02:30:02.237430        s_0      ct_0\n",
       "...                                  ...        ...       ...\n",
       "T_0      test_2021-03-01 02:30:02.237417        s_0      ct_0\n",
       "T_0      test_2021-03-01 02:30:02.237427        s_0      ct_1\n",
       "T_0      test_2021-03-01 02:30:02.237449        s_0      ct_1\n",
       "T_0      test_2021-03-01 02:30:02.237424        s_0      ct_1\n",
       "T_0      test_2021-03-01 02:30:02.237425        s_0      ct_1\n",
       "\n",
       "[200 rows x 3 columns]"
      ]
     },
     "execution_count": 11,
     "metadata": {},
     "output_type": "execute_result"
    }
   ],
   "source": [
    "df_transactions[df_transactions['date'].str.contains(\"test_\")]"
   ]
  },
  {
   "cell_type": "markdown",
   "metadata": {},
   "source": [
    "L'id_prod **T_0** représente un id test. "
   ]
  },
  {
   "cell_type": "markdown",
   "metadata": {},
   "source": [
    "Suppression de ces lignes"
   ]
  },
  {
   "cell_type": "code",
   "execution_count": 6,
   "metadata": {},
   "outputs": [],
   "source": [
    "df_transactions = df_transactions[~df_transactions['date'].str.contains(\"test_\")]"
   ]
  },
  {
   "cell_type": "markdown",
   "metadata": {},
   "source": [
    "Et maintenant, je peux convertir le dtype de la colonne **date** en datetime"
   ]
  },
  {
   "cell_type": "code",
   "execution_count": 7,
   "metadata": {},
   "outputs": [],
   "source": [
    "df_transactions[\"date\"]= pd.to_datetime(df_transactions['date'])\n"
   ]
  },
  {
   "cell_type": "markdown",
   "metadata": {},
   "source": [
    "#### Compter les valeurs de la colonne **session_id** et **client_id**"
   ]
  },
  {
   "cell_type": "code",
   "execution_count": 39,
   "metadata": {},
   "outputs": [
    {
     "data": {
      "text/plain": [
       "s_0         200\n",
       "s_118668     14\n",
       "s_96857      13\n",
       "s_215292     13\n",
       "s_21005      13\n",
       "           ... \n",
       "s_314833      1\n",
       "s_221956      1\n",
       "s_255832      1\n",
       "s_4278        1\n",
       "s_138107      1\n",
       "Name: session_id, Length: 342316, dtype: int64"
      ]
     },
     "execution_count": 39,
     "metadata": {},
     "output_type": "execute_result"
    },
    {
     "data": {
      "text/plain": [
       "<Figure size 432x288 with 0 Axes>"
      ]
     },
     "metadata": {},
     "output_type": "display_data"
    }
   ],
   "source": [
    "plt.figure()\n",
    "df_transactions[\"session_id\"].value_counts()"
   ]
  },
  {
   "cell_type": "code",
   "execution_count": 40,
   "metadata": {},
   "outputs": [
    {
     "data": {
      "text/plain": [
       "c_1609    25488\n",
       "c_6714     9187\n",
       "c_3454     6773\n",
       "c_4958     5195\n",
       "c_3263      403\n",
       "          ...  \n",
       "c_6292        1\n",
       "c_1624        1\n",
       "c_240         1\n",
       "c_4478        1\n",
       "c_8351        1\n",
       "Name: client_id, Length: 8602, dtype: int64"
      ]
     },
     "execution_count": 40,
     "metadata": {},
     "output_type": "execute_result"
    },
    {
     "data": {
      "text/plain": [
       "<Figure size 432x288 with 0 Axes>"
      ]
     },
     "metadata": {},
     "output_type": "display_data"
    }
   ],
   "source": [
    "plt.figure()\n",
    "df_transactions[\"client_id\"].value_counts()"
   ]
  },
  {
   "cell_type": "markdown",
   "metadata": {},
   "source": [
    "# MISSIONS données par Antoine"
   ]
  },
  {
   "cell_type": "markdown",
   "metadata": {},
   "source": [
    "### **1- Différents indicateurs et graphiques autour du chiffre d'affaires, avec notamment l’évolution dans le temps**"
   ]
  },
  {
   "cell_type": "markdown",
   "metadata": {},
   "source": [
    "Ici, je fais 2 jointures :\n",
    " - df_products avec df_transaction sur la colonne id_prod (référence des produits)\n",
    " - jointure précédente avec df_customers sur la colonne client_id (identifiant unique client)"
   ]
  },
  {
   "cell_type": "code",
   "execution_count": 9,
   "metadata": {},
   "outputs": [],
   "source": [
    "df = pd.merge(df_products, df_transactions, how = \"outer\", on= \"id_prod\")"
   ]
  },
  {
   "cell_type": "code",
   "execution_count": 24,
   "metadata": {},
   "outputs": [
    {
     "data": {
      "text/html": [
       "<div>\n",
       "<style scoped>\n",
       "    .dataframe tbody tr th:only-of-type {\n",
       "        vertical-align: middle;\n",
       "    }\n",
       "\n",
       "    .dataframe tbody tr th {\n",
       "        vertical-align: top;\n",
       "    }\n",
       "\n",
       "    .dataframe thead th {\n",
       "        text-align: right;\n",
       "    }\n",
       "</style>\n",
       "<table border=\"1\" class=\"dataframe\">\n",
       "  <thead>\n",
       "    <tr style=\"text-align: right;\">\n",
       "      <th></th>\n",
       "      <th>price</th>\n",
       "      <th>categ</th>\n",
       "      <th>date</th>\n",
       "      <th>session_id</th>\n",
       "      <th>client_id</th>\n",
       "    </tr>\n",
       "    <tr>\n",
       "      <th>id_prod</th>\n",
       "      <th></th>\n",
       "      <th></th>\n",
       "      <th></th>\n",
       "      <th></th>\n",
       "      <th></th>\n",
       "    </tr>\n",
       "  </thead>\n",
       "  <tbody>\n",
       "    <tr>\n",
       "      <th>0_1421</th>\n",
       "      <td>19.99</td>\n",
       "      <td>0</td>\n",
       "      <td>2022-02-20 17:04:37.204937</td>\n",
       "      <td>s_168213</td>\n",
       "      <td>c_6389</td>\n",
       "    </tr>\n",
       "    <tr>\n",
       "      <th>0_1421</th>\n",
       "      <td>19.99</td>\n",
       "      <td>0</td>\n",
       "      <td>2022-11-19 03:42:20.707442</td>\n",
       "      <td>s_299590</td>\n",
       "      <td>c_8364</td>\n",
       "    </tr>\n",
       "    <tr>\n",
       "      <th>0_1421</th>\n",
       "      <td>19.99</td>\n",
       "      <td>0</td>\n",
       "      <td>2021-09-19 14:58:46.726179</td>\n",
       "      <td>s_92304</td>\n",
       "      <td>c_3544</td>\n",
       "    </tr>\n",
       "    <tr>\n",
       "      <th>0_1421</th>\n",
       "      <td>19.99</td>\n",
       "      <td>0</td>\n",
       "      <td>2023-01-11 16:04:24.367855</td>\n",
       "      <td>s_325369</td>\n",
       "      <td>c_1025</td>\n",
       "    </tr>\n",
       "    <tr>\n",
       "      <th>0_1421</th>\n",
       "      <td>19.99</td>\n",
       "      <td>0</td>\n",
       "      <td>2021-08-01 19:33:18.877168</td>\n",
       "      <td>s_70071</td>\n",
       "      <td>c_2298</td>\n",
       "    </tr>\n",
       "    <tr>\n",
       "      <th>...</th>\n",
       "      <td>...</td>\n",
       "      <td>...</td>\n",
       "      <td>...</td>\n",
       "      <td>...</td>\n",
       "      <td>...</td>\n",
       "    </tr>\n",
       "    <tr>\n",
       "      <th>0_2245</th>\n",
       "      <td>NaN</td>\n",
       "      <td>NaN</td>\n",
       "      <td>2021-08-25 09:06:03.504061</td>\n",
       "      <td>s_80395</td>\n",
       "      <td>c_131</td>\n",
       "    </tr>\n",
       "    <tr>\n",
       "      <th>0_2245</th>\n",
       "      <td>NaN</td>\n",
       "      <td>NaN</td>\n",
       "      <td>2022-03-06 19:59:19.462288</td>\n",
       "      <td>s_175311</td>\n",
       "      <td>c_4167</td>\n",
       "    </tr>\n",
       "    <tr>\n",
       "      <th>0_2245</th>\n",
       "      <td>NaN</td>\n",
       "      <td>NaN</td>\n",
       "      <td>2022-05-16 11:35:20.319501</td>\n",
       "      <td>s_209381</td>\n",
       "      <td>c_4453</td>\n",
       "    </tr>\n",
       "    <tr>\n",
       "      <th>0_2245</th>\n",
       "      <td>NaN</td>\n",
       "      <td>NaN</td>\n",
       "      <td>2022-02-11 09:05:43.952857</td>\n",
       "      <td>s_163405</td>\n",
       "      <td>c_1098</td>\n",
       "    </tr>\n",
       "    <tr>\n",
       "      <th>0_2245</th>\n",
       "      <td>NaN</td>\n",
       "      <td>NaN</td>\n",
       "      <td>2021-12-14 22:34:54.589921</td>\n",
       "      <td>s_134446</td>\n",
       "      <td>c_4854</td>\n",
       "    </tr>\n",
       "  </tbody>\n",
       "</table>\n",
       "<p>679354 rows × 5 columns</p>\n",
       "</div>"
      ],
      "text/plain": [
       "         price categ                       date session_id client_id\n",
       "id_prod                                                             \n",
       "0_1421   19.99     0 2022-02-20 17:04:37.204937   s_168213    c_6389\n",
       "0_1421   19.99     0 2022-11-19 03:42:20.707442   s_299590    c_8364\n",
       "0_1421   19.99     0 2021-09-19 14:58:46.726179    s_92304    c_3544\n",
       "0_1421   19.99     0 2023-01-11 16:04:24.367855   s_325369    c_1025\n",
       "0_1421   19.99     0 2021-08-01 19:33:18.877168    s_70071    c_2298\n",
       "...        ...   ...                        ...        ...       ...\n",
       "0_2245     NaN   NaN 2021-08-25 09:06:03.504061    s_80395     c_131\n",
       "0_2245     NaN   NaN 2022-03-06 19:59:19.462288   s_175311    c_4167\n",
       "0_2245     NaN   NaN 2022-05-16 11:35:20.319501   s_209381    c_4453\n",
       "0_2245     NaN   NaN 2022-02-11 09:05:43.952857   s_163405    c_1098\n",
       "0_2245     NaN   NaN 2021-12-14 22:34:54.589921   s_134446    c_4854\n",
       "\n",
       "[679354 rows x 5 columns]"
      ]
     },
     "execution_count": 24,
     "metadata": {},
     "output_type": "execute_result"
    }
   ],
   "source": [
    "df"
   ]
  },
  {
   "cell_type": "markdown",
   "metadata": {},
   "source": [
    "Je remarque qu'il y a des caractéristiques produits manquantes, probablement des nouveaux produits qui n'ont pas été référencé sur le site. Il faudrait en parler avec l'équipe pricing."
   ]
  },
  {
   "cell_type": "code",
   "execution_count": 13,
   "metadata": {},
   "outputs": [
    {
     "data": {
      "text/html": [
       "<div>\n",
       "<style scoped>\n",
       "    .dataframe tbody tr th:only-of-type {\n",
       "        vertical-align: middle;\n",
       "    }\n",
       "\n",
       "    .dataframe tbody tr th {\n",
       "        vertical-align: top;\n",
       "    }\n",
       "\n",
       "    .dataframe thead th {\n",
       "        text-align: right;\n",
       "    }\n",
       "</style>\n",
       "<table border=\"1\" class=\"dataframe\">\n",
       "  <thead>\n",
       "    <tr style=\"text-align: right;\">\n",
       "      <th></th>\n",
       "      <th>price</th>\n",
       "      <th>categ</th>\n",
       "      <th>date</th>\n",
       "      <th>session_id</th>\n",
       "      <th>client_id</th>\n",
       "    </tr>\n",
       "    <tr>\n",
       "      <th>id_prod</th>\n",
       "      <th></th>\n",
       "      <th></th>\n",
       "      <th></th>\n",
       "      <th></th>\n",
       "      <th></th>\n",
       "    </tr>\n",
       "  </thead>\n",
       "  <tbody>\n",
       "    <tr>\n",
       "      <th>0_2245</th>\n",
       "      <td>NaN</td>\n",
       "      <td>NaN</td>\n",
       "      <td>2022-09-23 07:22:38.636773</td>\n",
       "      <td>s_272266</td>\n",
       "      <td>c_4746</td>\n",
       "    </tr>\n",
       "    <tr>\n",
       "      <th>0_2245</th>\n",
       "      <td>NaN</td>\n",
       "      <td>NaN</td>\n",
       "      <td>2022-07-23 09:24:14.133889</td>\n",
       "      <td>s_242482</td>\n",
       "      <td>c_6713</td>\n",
       "    </tr>\n",
       "    <tr>\n",
       "      <th>0_2245</th>\n",
       "      <td>NaN</td>\n",
       "      <td>NaN</td>\n",
       "      <td>2022-12-03 03:26:35.696673</td>\n",
       "      <td>s_306338</td>\n",
       "      <td>c_5108</td>\n",
       "    </tr>\n",
       "    <tr>\n",
       "      <th>0_2245</th>\n",
       "      <td>NaN</td>\n",
       "      <td>NaN</td>\n",
       "      <td>2021-08-16 11:33:25.481411</td>\n",
       "      <td>s_76493</td>\n",
       "      <td>c_1391</td>\n",
       "    </tr>\n",
       "    <tr>\n",
       "      <th>0_2245</th>\n",
       "      <td>NaN</td>\n",
       "      <td>NaN</td>\n",
       "      <td>2022-07-16 05:53:01.627491</td>\n",
       "      <td>s_239078</td>\n",
       "      <td>c_7954</td>\n",
       "    </tr>\n",
       "    <tr>\n",
       "      <th>...</th>\n",
       "      <td>...</td>\n",
       "      <td>...</td>\n",
       "      <td>...</td>\n",
       "      <td>...</td>\n",
       "      <td>...</td>\n",
       "    </tr>\n",
       "    <tr>\n",
       "      <th>0_2245</th>\n",
       "      <td>NaN</td>\n",
       "      <td>NaN</td>\n",
       "      <td>2021-08-25 09:06:03.504061</td>\n",
       "      <td>s_80395</td>\n",
       "      <td>c_131</td>\n",
       "    </tr>\n",
       "    <tr>\n",
       "      <th>0_2245</th>\n",
       "      <td>NaN</td>\n",
       "      <td>NaN</td>\n",
       "      <td>2022-03-06 19:59:19.462288</td>\n",
       "      <td>s_175311</td>\n",
       "      <td>c_4167</td>\n",
       "    </tr>\n",
       "    <tr>\n",
       "      <th>0_2245</th>\n",
       "      <td>NaN</td>\n",
       "      <td>NaN</td>\n",
       "      <td>2022-05-16 11:35:20.319501</td>\n",
       "      <td>s_209381</td>\n",
       "      <td>c_4453</td>\n",
       "    </tr>\n",
       "    <tr>\n",
       "      <th>0_2245</th>\n",
       "      <td>NaN</td>\n",
       "      <td>NaN</td>\n",
       "      <td>2022-02-11 09:05:43.952857</td>\n",
       "      <td>s_163405</td>\n",
       "      <td>c_1098</td>\n",
       "    </tr>\n",
       "    <tr>\n",
       "      <th>0_2245</th>\n",
       "      <td>NaN</td>\n",
       "      <td>NaN</td>\n",
       "      <td>2021-12-14 22:34:54.589921</td>\n",
       "      <td>s_134446</td>\n",
       "      <td>c_4854</td>\n",
       "    </tr>\n",
       "  </tbody>\n",
       "</table>\n",
       "<p>221 rows × 5 columns</p>\n",
       "</div>"
      ],
      "text/plain": [
       "         price  categ                       date session_id client_id\n",
       "id_prod                                                              \n",
       "0_2245     NaN    NaN 2022-09-23 07:22:38.636773   s_272266    c_4746\n",
       "0_2245     NaN    NaN 2022-07-23 09:24:14.133889   s_242482    c_6713\n",
       "0_2245     NaN    NaN 2022-12-03 03:26:35.696673   s_306338    c_5108\n",
       "0_2245     NaN    NaN 2021-08-16 11:33:25.481411    s_76493    c_1391\n",
       "0_2245     NaN    NaN 2022-07-16 05:53:01.627491   s_239078    c_7954\n",
       "...        ...    ...                        ...        ...       ...\n",
       "0_2245     NaN    NaN 2021-08-25 09:06:03.504061    s_80395     c_131\n",
       "0_2245     NaN    NaN 2022-03-06 19:59:19.462288   s_175311    c_4167\n",
       "0_2245     NaN    NaN 2022-05-16 11:35:20.319501   s_209381    c_4453\n",
       "0_2245     NaN    NaN 2022-02-11 09:05:43.952857   s_163405    c_1098\n",
       "0_2245     NaN    NaN 2021-12-14 22:34:54.589921   s_134446    c_4854\n",
       "\n",
       "[221 rows x 5 columns]"
      ]
     },
     "execution_count": 13,
     "metadata": {},
     "output_type": "execute_result"
    }
   ],
   "source": [
    "df.loc[\"0_2245\"]"
   ]
  },
  {
   "cell_type": "markdown",
   "metadata": {},
   "source": [
    "Je décide de remplacer le prix de ces NaN par la médiane des catégories 0 car la cat0 est la plus abondante."
   ]
  },
  {
   "cell_type": "code",
   "execution_count": 14,
   "metadata": {},
   "outputs": [],
   "source": [
    "df[\"price\"].fillna(df[(df[\"categ\"] == 0)][\"price\"].median(), inplace =True)"
   ]
  },
  {
   "cell_type": "markdown",
   "metadata": {},
   "source": [
    "Et je les associe à la cat0"
   ]
  },
  {
   "cell_type": "code",
   "execution_count": 15,
   "metadata": {},
   "outputs": [],
   "source": [
    "df[\"categ\"].fillna(0, inplace =True)"
   ]
  },
  {
   "cell_type": "markdown",
   "metadata": {},
   "source": [
    "J'ajoute une colonne **id_prod** car après la fusion elle disparaîtra et j'en aurais besoin pour la suite."
   ]
  },
  {
   "cell_type": "code",
   "execution_count": 16,
   "metadata": {},
   "outputs": [],
   "source": [
    "df[\"id_prod\"] = df.index"
   ]
  },
  {
   "cell_type": "markdown",
   "metadata": {},
   "source": [
    "Je passe à la 2ème jointure :"
   ]
  },
  {
   "cell_type": "code",
   "execution_count": 48,
   "metadata": {},
   "outputs": [],
   "source": [
    "df3 = pd.merge(df ,df_customers, how = \"outer\", on= \"client_id\")"
   ]
  },
  {
   "cell_type": "markdown",
   "metadata": {},
   "source": [
    "Je mets la colonne date en index pour les futures manipulations sur le CA"
   ]
  },
  {
   "cell_type": "code",
   "execution_count": 49,
   "metadata": {},
   "outputs": [],
   "source": [
    "df3 = df3.set_index(pd.DatetimeIndex(df3['date']))\n",
    "df3.drop(columns=\"date\", inplace=True)"
   ]
  },
  {
   "cell_type": "markdown",
   "metadata": {},
   "source": [
    "Je crée une colonne Age pour la mission sur le profil client"
   ]
  },
  {
   "cell_type": "code",
   "execution_count": 50,
   "metadata": {},
   "outputs": [],
   "source": [
    "df3[\"Age\"] = df3.index.year - df3.birth"
   ]
  },
  {
   "cell_type": "markdown",
   "metadata": {},
   "source": [
    "Regardons les non correspondances de la fusion"
   ]
  },
  {
   "cell_type": "code",
   "execution_count": 507,
   "metadata": {},
   "outputs": [
    {
     "data": {
      "text/html": [
       "<div>\n",
       "<style scoped>\n",
       "    .dataframe tbody tr th:only-of-type {\n",
       "        vertical-align: middle;\n",
       "    }\n",
       "\n",
       "    .dataframe tbody tr th {\n",
       "        vertical-align: top;\n",
       "    }\n",
       "\n",
       "    .dataframe thead th {\n",
       "        text-align: right;\n",
       "    }\n",
       "</style>\n",
       "<table border=\"1\" class=\"dataframe\">\n",
       "  <thead>\n",
       "    <tr style=\"text-align: right;\">\n",
       "      <th></th>\n",
       "      <th>price</th>\n",
       "      <th>categ</th>\n",
       "      <th>session_id</th>\n",
       "      <th>client_id</th>\n",
       "      <th>id_prod</th>\n",
       "      <th>sex</th>\n",
       "      <th>birth</th>\n",
       "      <th>Age</th>\n",
       "      <th>nb vente</th>\n",
       "      <th>CA par produit</th>\n",
       "    </tr>\n",
       "    <tr>\n",
       "      <th>date</th>\n",
       "      <th></th>\n",
       "      <th></th>\n",
       "      <th></th>\n",
       "      <th></th>\n",
       "      <th></th>\n",
       "      <th></th>\n",
       "      <th></th>\n",
       "      <th></th>\n",
       "      <th></th>\n",
       "      <th></th>\n",
       "    </tr>\n",
       "  </thead>\n",
       "  <tbody>\n",
       "    <tr>\n",
       "      <th>NaT</th>\n",
       "      <td>35.06</td>\n",
       "      <td>0</td>\n",
       "      <td>NaN</td>\n",
       "      <td>NaN</td>\n",
       "      <td>0_1016</td>\n",
       "      <td>NaN</td>\n",
       "      <td>NaN</td>\n",
       "      <td>NaN</td>\n",
       "      <td>NaN</td>\n",
       "      <td>NaN</td>\n",
       "    </tr>\n",
       "    <tr>\n",
       "      <th>NaT</th>\n",
       "      <td>1.67</td>\n",
       "      <td>0</td>\n",
       "      <td>NaN</td>\n",
       "      <td>NaN</td>\n",
       "      <td>0_1780</td>\n",
       "      <td>NaN</td>\n",
       "      <td>NaN</td>\n",
       "      <td>NaN</td>\n",
       "      <td>NaN</td>\n",
       "      <td>NaN</td>\n",
       "    </tr>\n",
       "    <tr>\n",
       "      <th>NaT</th>\n",
       "      <td>-1.00</td>\n",
       "      <td>0</td>\n",
       "      <td>NaN</td>\n",
       "      <td>NaN</td>\n",
       "      <td>T_0</td>\n",
       "      <td>NaN</td>\n",
       "      <td>NaN</td>\n",
       "      <td>NaN</td>\n",
       "      <td>NaN</td>\n",
       "      <td>NaN</td>\n",
       "    </tr>\n",
       "    <tr>\n",
       "      <th>NaT</th>\n",
       "      <td>20.08</td>\n",
       "      <td>0</td>\n",
       "      <td>NaN</td>\n",
       "      <td>NaN</td>\n",
       "      <td>0_1062</td>\n",
       "      <td>NaN</td>\n",
       "      <td>NaN</td>\n",
       "      <td>NaN</td>\n",
       "      <td>NaN</td>\n",
       "      <td>NaN</td>\n",
       "    </tr>\n",
       "    <tr>\n",
       "      <th>NaT</th>\n",
       "      <td>2.99</td>\n",
       "      <td>0</td>\n",
       "      <td>NaN</td>\n",
       "      <td>NaN</td>\n",
       "      <td>0_1119</td>\n",
       "      <td>NaN</td>\n",
       "      <td>NaN</td>\n",
       "      <td>NaN</td>\n",
       "      <td>NaN</td>\n",
       "      <td>NaN</td>\n",
       "    </tr>\n",
       "    <tr>\n",
       "      <th>NaT</th>\n",
       "      <td>1.15</td>\n",
       "      <td>0</td>\n",
       "      <td>NaN</td>\n",
       "      <td>NaN</td>\n",
       "      <td>0_1014</td>\n",
       "      <td>NaN</td>\n",
       "      <td>NaN</td>\n",
       "      <td>NaN</td>\n",
       "      <td>NaN</td>\n",
       "      <td>NaN</td>\n",
       "    </tr>\n",
       "    <tr>\n",
       "      <th>NaT</th>\n",
       "      <td>31.82</td>\n",
       "      <td>1</td>\n",
       "      <td>NaN</td>\n",
       "      <td>NaN</td>\n",
       "      <td>1_0</td>\n",
       "      <td>NaN</td>\n",
       "      <td>NaN</td>\n",
       "      <td>NaN</td>\n",
       "      <td>NaN</td>\n",
       "      <td>NaN</td>\n",
       "    </tr>\n",
       "    <tr>\n",
       "      <th>NaT</th>\n",
       "      <td>20.92</td>\n",
       "      <td>0</td>\n",
       "      <td>NaN</td>\n",
       "      <td>NaN</td>\n",
       "      <td>0_1318</td>\n",
       "      <td>NaN</td>\n",
       "      <td>NaN</td>\n",
       "      <td>NaN</td>\n",
       "      <td>NaN</td>\n",
       "      <td>NaN</td>\n",
       "    </tr>\n",
       "    <tr>\n",
       "      <th>NaT</th>\n",
       "      <td>22.05</td>\n",
       "      <td>0</td>\n",
       "      <td>NaN</td>\n",
       "      <td>NaN</td>\n",
       "      <td>0_1800</td>\n",
       "      <td>NaN</td>\n",
       "      <td>NaN</td>\n",
       "      <td>NaN</td>\n",
       "      <td>NaN</td>\n",
       "      <td>NaN</td>\n",
       "    </tr>\n",
       "    <tr>\n",
       "      <th>NaT</th>\n",
       "      <td>2.99</td>\n",
       "      <td>0</td>\n",
       "      <td>NaN</td>\n",
       "      <td>NaN</td>\n",
       "      <td>0_1645</td>\n",
       "      <td>NaN</td>\n",
       "      <td>NaN</td>\n",
       "      <td>NaN</td>\n",
       "      <td>NaN</td>\n",
       "      <td>NaN</td>\n",
       "    </tr>\n",
       "    <tr>\n",
       "      <th>NaT</th>\n",
       "      <td>2.99</td>\n",
       "      <td>0</td>\n",
       "      <td>NaN</td>\n",
       "      <td>NaN</td>\n",
       "      <td>0_322</td>\n",
       "      <td>NaN</td>\n",
       "      <td>NaN</td>\n",
       "      <td>NaN</td>\n",
       "      <td>NaN</td>\n",
       "      <td>NaN</td>\n",
       "    </tr>\n",
       "    <tr>\n",
       "      <th>NaT</th>\n",
       "      <td>0.80</td>\n",
       "      <td>0</td>\n",
       "      <td>NaN</td>\n",
       "      <td>NaN</td>\n",
       "      <td>0_1620</td>\n",
       "      <td>NaN</td>\n",
       "      <td>NaN</td>\n",
       "      <td>NaN</td>\n",
       "      <td>NaN</td>\n",
       "      <td>NaN</td>\n",
       "    </tr>\n",
       "    <tr>\n",
       "      <th>NaT</th>\n",
       "      <td>24.99</td>\n",
       "      <td>0</td>\n",
       "      <td>NaN</td>\n",
       "      <td>NaN</td>\n",
       "      <td>0_1025</td>\n",
       "      <td>NaN</td>\n",
       "      <td>NaN</td>\n",
       "      <td>NaN</td>\n",
       "      <td>NaN</td>\n",
       "      <td>NaN</td>\n",
       "    </tr>\n",
       "    <tr>\n",
       "      <th>NaT</th>\n",
       "      <td>220.99</td>\n",
       "      <td>2</td>\n",
       "      <td>NaN</td>\n",
       "      <td>NaN</td>\n",
       "      <td>2_87</td>\n",
       "      <td>NaN</td>\n",
       "      <td>NaN</td>\n",
       "      <td>NaN</td>\n",
       "      <td>NaN</td>\n",
       "      <td>NaN</td>\n",
       "    </tr>\n",
       "    <tr>\n",
       "      <th>NaT</th>\n",
       "      <td>39.73</td>\n",
       "      <td>1</td>\n",
       "      <td>NaN</td>\n",
       "      <td>NaN</td>\n",
       "      <td>1_394</td>\n",
       "      <td>NaN</td>\n",
       "      <td>NaN</td>\n",
       "      <td>NaN</td>\n",
       "      <td>NaN</td>\n",
       "      <td>NaN</td>\n",
       "    </tr>\n",
       "    <tr>\n",
       "      <th>NaT</th>\n",
       "      <td>141.32</td>\n",
       "      <td>2</td>\n",
       "      <td>NaN</td>\n",
       "      <td>NaN</td>\n",
       "      <td>2_72</td>\n",
       "      <td>NaN</td>\n",
       "      <td>NaN</td>\n",
       "      <td>NaN</td>\n",
       "      <td>NaN</td>\n",
       "      <td>NaN</td>\n",
       "    </tr>\n",
       "    <tr>\n",
       "      <th>NaT</th>\n",
       "      <td>1.94</td>\n",
       "      <td>0</td>\n",
       "      <td>NaN</td>\n",
       "      <td>NaN</td>\n",
       "      <td>0_310</td>\n",
       "      <td>NaN</td>\n",
       "      <td>NaN</td>\n",
       "      <td>NaN</td>\n",
       "      <td>NaN</td>\n",
       "      <td>NaN</td>\n",
       "    </tr>\n",
       "    <tr>\n",
       "      <th>NaT</th>\n",
       "      <td>24.50</td>\n",
       "      <td>0</td>\n",
       "      <td>NaN</td>\n",
       "      <td>NaN</td>\n",
       "      <td>0_1624</td>\n",
       "      <td>NaN</td>\n",
       "      <td>NaN</td>\n",
       "      <td>NaN</td>\n",
       "      <td>NaN</td>\n",
       "      <td>NaN</td>\n",
       "    </tr>\n",
       "    <tr>\n",
       "      <th>NaT</th>\n",
       "      <td>132.36</td>\n",
       "      <td>2</td>\n",
       "      <td>NaN</td>\n",
       "      <td>NaN</td>\n",
       "      <td>2_86</td>\n",
       "      <td>NaN</td>\n",
       "      <td>NaN</td>\n",
       "      <td>NaN</td>\n",
       "      <td>NaN</td>\n",
       "      <td>NaN</td>\n",
       "    </tr>\n",
       "    <tr>\n",
       "      <th>NaT</th>\n",
       "      <td>22.99</td>\n",
       "      <td>0</td>\n",
       "      <td>NaN</td>\n",
       "      <td>NaN</td>\n",
       "      <td>0_299</td>\n",
       "      <td>NaN</td>\n",
       "      <td>NaN</td>\n",
       "      <td>NaN</td>\n",
       "      <td>NaN</td>\n",
       "      <td>NaN</td>\n",
       "    </tr>\n",
       "    <tr>\n",
       "      <th>NaT</th>\n",
       "      <td>23.66</td>\n",
       "      <td>0</td>\n",
       "      <td>NaN</td>\n",
       "      <td>NaN</td>\n",
       "      <td>0_510</td>\n",
       "      <td>NaN</td>\n",
       "      <td>NaN</td>\n",
       "      <td>NaN</td>\n",
       "      <td>NaN</td>\n",
       "      <td>NaN</td>\n",
       "    </tr>\n",
       "    <tr>\n",
       "      <th>NaT</th>\n",
       "      <td>20.28</td>\n",
       "      <td>0</td>\n",
       "      <td>NaN</td>\n",
       "      <td>NaN</td>\n",
       "      <td>0_2308</td>\n",
       "      <td>NaN</td>\n",
       "      <td>NaN</td>\n",
       "      <td>NaN</td>\n",
       "      <td>NaN</td>\n",
       "      <td>NaN</td>\n",
       "    </tr>\n",
       "    <tr>\n",
       "      <th>NaT</th>\n",
       "      <td>NaN</td>\n",
       "      <td>NaN</td>\n",
       "      <td>NaN</td>\n",
       "      <td>c_8253</td>\n",
       "      <td>NaN</td>\n",
       "      <td>f</td>\n",
       "      <td>2001.0</td>\n",
       "      <td>NaN</td>\n",
       "      <td>NaN</td>\n",
       "      <td>NaN</td>\n",
       "    </tr>\n",
       "    <tr>\n",
       "      <th>NaT</th>\n",
       "      <td>NaN</td>\n",
       "      <td>NaN</td>\n",
       "      <td>NaN</td>\n",
       "      <td>c_3789</td>\n",
       "      <td>NaN</td>\n",
       "      <td>f</td>\n",
       "      <td>1997.0</td>\n",
       "      <td>NaN</td>\n",
       "      <td>NaN</td>\n",
       "      <td>NaN</td>\n",
       "    </tr>\n",
       "    <tr>\n",
       "      <th>NaT</th>\n",
       "      <td>NaN</td>\n",
       "      <td>NaN</td>\n",
       "      <td>NaN</td>\n",
       "      <td>c_4406</td>\n",
       "      <td>NaN</td>\n",
       "      <td>f</td>\n",
       "      <td>1998.0</td>\n",
       "      <td>NaN</td>\n",
       "      <td>NaN</td>\n",
       "      <td>NaN</td>\n",
       "    </tr>\n",
       "    <tr>\n",
       "      <th>NaT</th>\n",
       "      <td>NaN</td>\n",
       "      <td>NaN</td>\n",
       "      <td>NaN</td>\n",
       "      <td>ct_0</td>\n",
       "      <td>NaN</td>\n",
       "      <td>f</td>\n",
       "      <td>2001.0</td>\n",
       "      <td>NaN</td>\n",
       "      <td>NaN</td>\n",
       "      <td>NaN</td>\n",
       "    </tr>\n",
       "    <tr>\n",
       "      <th>NaT</th>\n",
       "      <td>NaN</td>\n",
       "      <td>NaN</td>\n",
       "      <td>NaN</td>\n",
       "      <td>c_2706</td>\n",
       "      <td>NaN</td>\n",
       "      <td>f</td>\n",
       "      <td>1967.0</td>\n",
       "      <td>NaN</td>\n",
       "      <td>NaN</td>\n",
       "      <td>NaN</td>\n",
       "    </tr>\n",
       "    <tr>\n",
       "      <th>NaT</th>\n",
       "      <td>NaN</td>\n",
       "      <td>NaN</td>\n",
       "      <td>NaN</td>\n",
       "      <td>c_3443</td>\n",
       "      <td>NaN</td>\n",
       "      <td>m</td>\n",
       "      <td>1959.0</td>\n",
       "      <td>NaN</td>\n",
       "      <td>NaN</td>\n",
       "      <td>NaN</td>\n",
       "    </tr>\n",
       "    <tr>\n",
       "      <th>NaT</th>\n",
       "      <td>NaN</td>\n",
       "      <td>NaN</td>\n",
       "      <td>NaN</td>\n",
       "      <td>c_4447</td>\n",
       "      <td>NaN</td>\n",
       "      <td>m</td>\n",
       "      <td>1956.0</td>\n",
       "      <td>NaN</td>\n",
       "      <td>NaN</td>\n",
       "      <td>NaN</td>\n",
       "    </tr>\n",
       "    <tr>\n",
       "      <th>NaT</th>\n",
       "      <td>NaN</td>\n",
       "      <td>NaN</td>\n",
       "      <td>NaN</td>\n",
       "      <td>c_3017</td>\n",
       "      <td>NaN</td>\n",
       "      <td>f</td>\n",
       "      <td>1992.0</td>\n",
       "      <td>NaN</td>\n",
       "      <td>NaN</td>\n",
       "      <td>NaN</td>\n",
       "    </tr>\n",
       "    <tr>\n",
       "      <th>NaT</th>\n",
       "      <td>NaN</td>\n",
       "      <td>NaN</td>\n",
       "      <td>NaN</td>\n",
       "      <td>c_4086</td>\n",
       "      <td>NaN</td>\n",
       "      <td>f</td>\n",
       "      <td>1992.0</td>\n",
       "      <td>NaN</td>\n",
       "      <td>NaN</td>\n",
       "      <td>NaN</td>\n",
       "    </tr>\n",
       "    <tr>\n",
       "      <th>NaT</th>\n",
       "      <td>NaN</td>\n",
       "      <td>NaN</td>\n",
       "      <td>NaN</td>\n",
       "      <td>c_6930</td>\n",
       "      <td>NaN</td>\n",
       "      <td>m</td>\n",
       "      <td>2004.0</td>\n",
       "      <td>NaN</td>\n",
       "      <td>NaN</td>\n",
       "      <td>NaN</td>\n",
       "    </tr>\n",
       "    <tr>\n",
       "      <th>NaT</th>\n",
       "      <td>NaN</td>\n",
       "      <td>NaN</td>\n",
       "      <td>NaN</td>\n",
       "      <td>c_4358</td>\n",
       "      <td>NaN</td>\n",
       "      <td>m</td>\n",
       "      <td>1999.0</td>\n",
       "      <td>NaN</td>\n",
       "      <td>NaN</td>\n",
       "      <td>NaN</td>\n",
       "    </tr>\n",
       "    <tr>\n",
       "      <th>NaT</th>\n",
       "      <td>NaN</td>\n",
       "      <td>NaN</td>\n",
       "      <td>NaN</td>\n",
       "      <td>c_8381</td>\n",
       "      <td>NaN</td>\n",
       "      <td>f</td>\n",
       "      <td>1965.0</td>\n",
       "      <td>NaN</td>\n",
       "      <td>NaN</td>\n",
       "      <td>NaN</td>\n",
       "    </tr>\n",
       "    <tr>\n",
       "      <th>NaT</th>\n",
       "      <td>NaN</td>\n",
       "      <td>NaN</td>\n",
       "      <td>NaN</td>\n",
       "      <td>c_1223</td>\n",
       "      <td>NaN</td>\n",
       "      <td>m</td>\n",
       "      <td>1963.0</td>\n",
       "      <td>NaN</td>\n",
       "      <td>NaN</td>\n",
       "      <td>NaN</td>\n",
       "    </tr>\n",
       "    <tr>\n",
       "      <th>NaT</th>\n",
       "      <td>NaN</td>\n",
       "      <td>NaN</td>\n",
       "      <td>NaN</td>\n",
       "      <td>c_6862</td>\n",
       "      <td>NaN</td>\n",
       "      <td>f</td>\n",
       "      <td>2002.0</td>\n",
       "      <td>NaN</td>\n",
       "      <td>NaN</td>\n",
       "      <td>NaN</td>\n",
       "    </tr>\n",
       "    <tr>\n",
       "      <th>NaT</th>\n",
       "      <td>NaN</td>\n",
       "      <td>NaN</td>\n",
       "      <td>NaN</td>\n",
       "      <td>c_5245</td>\n",
       "      <td>NaN</td>\n",
       "      <td>f</td>\n",
       "      <td>2004.0</td>\n",
       "      <td>NaN</td>\n",
       "      <td>NaN</td>\n",
       "      <td>NaN</td>\n",
       "    </tr>\n",
       "    <tr>\n",
       "      <th>NaT</th>\n",
       "      <td>NaN</td>\n",
       "      <td>NaN</td>\n",
       "      <td>NaN</td>\n",
       "      <td>c_5223</td>\n",
       "      <td>NaN</td>\n",
       "      <td>m</td>\n",
       "      <td>2003.0</td>\n",
       "      <td>NaN</td>\n",
       "      <td>NaN</td>\n",
       "      <td>NaN</td>\n",
       "    </tr>\n",
       "    <tr>\n",
       "      <th>NaT</th>\n",
       "      <td>NaN</td>\n",
       "      <td>NaN</td>\n",
       "      <td>NaN</td>\n",
       "      <td>c_6735</td>\n",
       "      <td>NaN</td>\n",
       "      <td>m</td>\n",
       "      <td>2004.0</td>\n",
       "      <td>NaN</td>\n",
       "      <td>NaN</td>\n",
       "      <td>NaN</td>\n",
       "    </tr>\n",
       "    <tr>\n",
       "      <th>NaT</th>\n",
       "      <td>NaN</td>\n",
       "      <td>NaN</td>\n",
       "      <td>NaN</td>\n",
       "      <td>c_862</td>\n",
       "      <td>NaN</td>\n",
       "      <td>f</td>\n",
       "      <td>1956.0</td>\n",
       "      <td>NaN</td>\n",
       "      <td>NaN</td>\n",
       "      <td>NaN</td>\n",
       "    </tr>\n",
       "    <tr>\n",
       "      <th>NaT</th>\n",
       "      <td>NaN</td>\n",
       "      <td>NaN</td>\n",
       "      <td>NaN</td>\n",
       "      <td>c_7584</td>\n",
       "      <td>NaN</td>\n",
       "      <td>f</td>\n",
       "      <td>1960.0</td>\n",
       "      <td>NaN</td>\n",
       "      <td>NaN</td>\n",
       "      <td>NaN</td>\n",
       "    </tr>\n",
       "    <tr>\n",
       "      <th>NaT</th>\n",
       "      <td>NaN</td>\n",
       "      <td>NaN</td>\n",
       "      <td>NaN</td>\n",
       "      <td>c_90</td>\n",
       "      <td>NaN</td>\n",
       "      <td>m</td>\n",
       "      <td>2001.0</td>\n",
       "      <td>NaN</td>\n",
       "      <td>NaN</td>\n",
       "      <td>NaN</td>\n",
       "    </tr>\n",
       "    <tr>\n",
       "      <th>NaT</th>\n",
       "      <td>NaN</td>\n",
       "      <td>NaN</td>\n",
       "      <td>NaN</td>\n",
       "      <td>c_587</td>\n",
       "      <td>NaN</td>\n",
       "      <td>m</td>\n",
       "      <td>1993.0</td>\n",
       "      <td>NaN</td>\n",
       "      <td>NaN</td>\n",
       "      <td>NaN</td>\n",
       "    </tr>\n",
       "    <tr>\n",
       "      <th>NaT</th>\n",
       "      <td>NaN</td>\n",
       "      <td>NaN</td>\n",
       "      <td>NaN</td>\n",
       "      <td>ct_1</td>\n",
       "      <td>NaN</td>\n",
       "      <td>m</td>\n",
       "      <td>2001.0</td>\n",
       "      <td>NaN</td>\n",
       "      <td>NaN</td>\n",
       "      <td>NaN</td>\n",
       "    </tr>\n",
       "    <tr>\n",
       "      <th>NaT</th>\n",
       "      <td>NaN</td>\n",
       "      <td>NaN</td>\n",
       "      <td>NaN</td>\n",
       "      <td>c_3526</td>\n",
       "      <td>NaN</td>\n",
       "      <td>m</td>\n",
       "      <td>1956.0</td>\n",
       "      <td>NaN</td>\n",
       "      <td>NaN</td>\n",
       "      <td>NaN</td>\n",
       "    </tr>\n",
       "  </tbody>\n",
       "</table>\n",
       "</div>"
      ],
      "text/plain": [
       "       price categ session_id client_id id_prod  sex   birth  Age  nb vente  \\\n",
       "date                                                                          \n",
       "NaT    35.06     0        NaN       NaN  0_1016  NaN     NaN  NaN       NaN   \n",
       "NaT     1.67     0        NaN       NaN  0_1780  NaN     NaN  NaN       NaN   \n",
       "NaT    -1.00     0        NaN       NaN     T_0  NaN     NaN  NaN       NaN   \n",
       "NaT    20.08     0        NaN       NaN  0_1062  NaN     NaN  NaN       NaN   \n",
       "NaT     2.99     0        NaN       NaN  0_1119  NaN     NaN  NaN       NaN   \n",
       "NaT     1.15     0        NaN       NaN  0_1014  NaN     NaN  NaN       NaN   \n",
       "NaT    31.82     1        NaN       NaN     1_0  NaN     NaN  NaN       NaN   \n",
       "NaT    20.92     0        NaN       NaN  0_1318  NaN     NaN  NaN       NaN   \n",
       "NaT    22.05     0        NaN       NaN  0_1800  NaN     NaN  NaN       NaN   \n",
       "NaT     2.99     0        NaN       NaN  0_1645  NaN     NaN  NaN       NaN   \n",
       "NaT     2.99     0        NaN       NaN   0_322  NaN     NaN  NaN       NaN   \n",
       "NaT     0.80     0        NaN       NaN  0_1620  NaN     NaN  NaN       NaN   \n",
       "NaT    24.99     0        NaN       NaN  0_1025  NaN     NaN  NaN       NaN   \n",
       "NaT   220.99     2        NaN       NaN    2_87  NaN     NaN  NaN       NaN   \n",
       "NaT    39.73     1        NaN       NaN   1_394  NaN     NaN  NaN       NaN   \n",
       "NaT   141.32     2        NaN       NaN    2_72  NaN     NaN  NaN       NaN   \n",
       "NaT     1.94     0        NaN       NaN   0_310  NaN     NaN  NaN       NaN   \n",
       "NaT    24.50     0        NaN       NaN  0_1624  NaN     NaN  NaN       NaN   \n",
       "NaT   132.36     2        NaN       NaN    2_86  NaN     NaN  NaN       NaN   \n",
       "NaT    22.99     0        NaN       NaN   0_299  NaN     NaN  NaN       NaN   \n",
       "NaT    23.66     0        NaN       NaN   0_510  NaN     NaN  NaN       NaN   \n",
       "NaT    20.28     0        NaN       NaN  0_2308  NaN     NaN  NaN       NaN   \n",
       "NaT      NaN   NaN        NaN    c_8253     NaN    f  2001.0  NaN       NaN   \n",
       "NaT      NaN   NaN        NaN    c_3789     NaN    f  1997.0  NaN       NaN   \n",
       "NaT      NaN   NaN        NaN    c_4406     NaN    f  1998.0  NaN       NaN   \n",
       "NaT      NaN   NaN        NaN      ct_0     NaN    f  2001.0  NaN       NaN   \n",
       "NaT      NaN   NaN        NaN    c_2706     NaN    f  1967.0  NaN       NaN   \n",
       "NaT      NaN   NaN        NaN    c_3443     NaN    m  1959.0  NaN       NaN   \n",
       "NaT      NaN   NaN        NaN    c_4447     NaN    m  1956.0  NaN       NaN   \n",
       "NaT      NaN   NaN        NaN    c_3017     NaN    f  1992.0  NaN       NaN   \n",
       "NaT      NaN   NaN        NaN    c_4086     NaN    f  1992.0  NaN       NaN   \n",
       "NaT      NaN   NaN        NaN    c_6930     NaN    m  2004.0  NaN       NaN   \n",
       "NaT      NaN   NaN        NaN    c_4358     NaN    m  1999.0  NaN       NaN   \n",
       "NaT      NaN   NaN        NaN    c_8381     NaN    f  1965.0  NaN       NaN   \n",
       "NaT      NaN   NaN        NaN    c_1223     NaN    m  1963.0  NaN       NaN   \n",
       "NaT      NaN   NaN        NaN    c_6862     NaN    f  2002.0  NaN       NaN   \n",
       "NaT      NaN   NaN        NaN    c_5245     NaN    f  2004.0  NaN       NaN   \n",
       "NaT      NaN   NaN        NaN    c_5223     NaN    m  2003.0  NaN       NaN   \n",
       "NaT      NaN   NaN        NaN    c_6735     NaN    m  2004.0  NaN       NaN   \n",
       "NaT      NaN   NaN        NaN     c_862     NaN    f  1956.0  NaN       NaN   \n",
       "NaT      NaN   NaN        NaN    c_7584     NaN    f  1960.0  NaN       NaN   \n",
       "NaT      NaN   NaN        NaN      c_90     NaN    m  2001.0  NaN       NaN   \n",
       "NaT      NaN   NaN        NaN     c_587     NaN    m  1993.0  NaN       NaN   \n",
       "NaT      NaN   NaN        NaN      ct_1     NaN    m  2001.0  NaN       NaN   \n",
       "NaT      NaN   NaN        NaN    c_3526     NaN    m  1956.0  NaN       NaN   \n",
       "\n",
       "      CA par produit  \n",
       "date                  \n",
       "NaT              NaN  \n",
       "NaT              NaN  \n",
       "NaT              NaN  \n",
       "NaT              NaN  \n",
       "NaT              NaN  \n",
       "NaT              NaN  \n",
       "NaT              NaN  \n",
       "NaT              NaN  \n",
       "NaT              NaN  \n",
       "NaT              NaN  \n",
       "NaT              NaN  \n",
       "NaT              NaN  \n",
       "NaT              NaN  \n",
       "NaT              NaN  \n",
       "NaT              NaN  \n",
       "NaT              NaN  \n",
       "NaT              NaN  \n",
       "NaT              NaN  \n",
       "NaT              NaN  \n",
       "NaT              NaN  \n",
       "NaT              NaN  \n",
       "NaT              NaN  \n",
       "NaT              NaN  \n",
       "NaT              NaN  \n",
       "NaT              NaN  \n",
       "NaT              NaN  \n",
       "NaT              NaN  \n",
       "NaT              NaN  \n",
       "NaT              NaN  \n",
       "NaT              NaN  \n",
       "NaT              NaN  \n",
       "NaT              NaN  \n",
       "NaT              NaN  \n",
       "NaT              NaN  \n",
       "NaT              NaN  \n",
       "NaT              NaN  \n",
       "NaT              NaN  \n",
       "NaT              NaN  \n",
       "NaT              NaN  \n",
       "NaT              NaN  \n",
       "NaT              NaN  \n",
       "NaT              NaN  \n",
       "NaT              NaN  \n",
       "NaT              NaN  \n",
       "NaT              NaN  "
      ]
     },
     "execution_count": 507,
     "metadata": {},
     "output_type": "execute_result"
    }
   ],
   "source": [
    "df3[df3.index.isnull()]"
   ]
  },
  {
   "cell_type": "markdown",
   "metadata": {},
   "source": [
    "L'on voit que la première partie montre des références produits avec leurs caractéristiques mais sans le client_id associé donc on ne sait pas par qui le produit a été acheté.\n",
    "\n",
    "Enfin la 2ème partie représente simplement le profil client mais sans références produits du coup nous ne savons pas quel produit il a acheté et s'il en a acheté (peut être un client qui s'est inscrit sans acheter).\n",
    "\n",
    "Après avoir calculé le Chiffre d'affaires Total, je les supprimerai car trop peu d'informations et cela n'influera pas sur l'étude du dataset."
   ]
  },
  {
   "cell_type": "markdown",
   "metadata": {},
   "source": [
    "### Chiffre d'affaires Total "
   ]
  },
  {
   "cell_type": "code",
   "execution_count": 36,
   "metadata": {},
   "outputs": [
    {
     "name": "stdout",
     "output_type": "stream",
     "text": [
      "CA total est de : 11.85 Millions\n"
     ]
    }
   ],
   "source": [
    "print(f\"CA total est de : {round(df3.price.sum() / 10 **6,2)} Millions\")"
   ]
  },
  {
   "cell_type": "markdown",
   "metadata": {},
   "source": [
    "Suppression des NaN"
   ]
  },
  {
   "cell_type": "code",
   "execution_count": 51,
   "metadata": {},
   "outputs": [],
   "source": [
    "df3 = df3[df3.index.notnull()]"
   ]
  },
  {
   "cell_type": "markdown",
   "metadata": {},
   "source": [
    "#### Créer un Dataframe pour calculer le chiffre d'affaires par année afin de répondre à la requête"
   ]
  },
  {
   "cell_type": "code",
   "execution_count": 676,
   "metadata": {
    "jupyter": {
     "source_hidden": true
    }
   },
   "outputs": [],
   "source": [
    "CA_per_y=[df3.loc[\"2021-03\":\"2022-02\"]['price'].sum(), \n",
    "              df3.loc[\"2022-03\":\"2023-03\"]['price'].sum()\n",
    "            \n",
    "             ]\n",
    "client_per_y = [df3.loc[\"2021-03\":\"2022-02\"]['client_id'].nunique(),\n",
    "               df3.loc[\"2022-03\":\"2023-03\"]['client_id'].nunique()\n",
    "               ]\n",
    "age_mean_y = [round(df3.loc[\"2021-03\":\"2022-02\"][\"Age\"].mean()),\n",
    "             round(df3.loc[\"2022-03\":\"2023-03\"][\"Age\"].mean())]\n",
    "\n",
    "cat0_CA_y = [df3.loc[\"2021-03\":\"2022-02\"][(df3.loc[\"2021-03\":\"2022-02\"].categ == 0)][\"price\"].sum(),\n",
    "            df3.loc[\"2022-03\":\"2023-02\"][(df3.loc[\"2022-03\":\"2023-02\"].categ == 0)][\"price\"].sum()]\n",
    "\n",
    "cat1_CA_y = [df3.loc[\"2021-03\":\"2022-02\"][(df3.loc[\"2021-03\":\"2022-02\"].categ == 1)][\"price\"].sum(),\n",
    "            df3.loc[\"2022-03\":\"2023-02\"][(df3.loc[\"2022-03\":\"2023-02\"].categ == 1)][\"price\"].sum()]\n",
    "\n",
    "cat2_CA_y = [df3.loc[\"2021-03\":\"2022-02\"][(df3.loc[\"2021-03\":\"2022-02\"].categ == 2)][\"price\"].sum(),\n",
    "            df3.loc[\"2022-03\":\"2023-02\"][(df3.loc[\"2022-03\":\"2023-02\"].categ == 2)][\"price\"].sum()]\n",
    "\n",
    "Sum = {'Année': [2021,2022],\n",
    "         'Nb Clients' : client_per_y,\n",
    "        \"Chiffre d'affaires\":CA_per_y,\n",
    "       \"Age Moyen\" : age_mean_y,\n",
    "       \"Cat0_CA\" : cat0_CA_y,\n",
    "       \"Cat1_CA\" : cat1_CA_y,\n",
    "       \"Cat2_CA\" : cat2_CA_y\n",
    "        }\n",
    "\n",
    "df3_CA = pd.DataFrame(Sum, columns = ['Année',\"Nb Clients\",\"Chiffre d'affaires\", \"Age Moyen\",\"Cat0_CA\",\"Cat1_CA\",\"Cat2_CA\"])"
   ]
  },
  {
   "cell_type": "markdown",
   "metadata": {},
   "source": [
    "Je filtre par ordre décroissant les années , je convertis le dtype de la colonne **Année** en datetime et je le mets en index"
   ]
  },
  {
   "cell_type": "code",
   "execution_count": 677,
   "metadata": {},
   "outputs": [],
   "source": [
    "df3_CA = df3_CA.sort_values(by=\"Année\", ascending= True)\n",
    "df3_CA[\"Année\"] = pd.to_datetime(df3_CA[\"Année\"], format=\"%Y\")\n",
    "df3_CA = df3_CA.set_index(pd.DatetimeIndex(df3_CA['Année']))\n",
    "df3_CA.drop(columns=\"Année\", inplace=True)"
   ]
  },
  {
   "cell_type": "code",
   "execution_count": 678,
   "metadata": {},
   "outputs": [],
   "source": [
    "df3_CA[\"Revenu Moyen par Client\"] = df3_CA[\"Chiffre d'affaires\"] / df3_CA[\"Nb Clients\"] \n"
   ]
  },
  {
   "cell_type": "code",
   "execution_count": 23,
   "metadata": {
    "collapsed": true,
    "jupyter": {
     "outputs_hidden": true,
     "source_hidden": true
    }
   },
   "outputs": [
    {
     "data": {
      "text/html": [
       "<div>\n",
       "<style scoped>\n",
       "    .dataframe tbody tr th:only-of-type {\n",
       "        vertical-align: middle;\n",
       "    }\n",
       "\n",
       "    .dataframe tbody tr th {\n",
       "        vertical-align: top;\n",
       "    }\n",
       "\n",
       "    .dataframe thead th {\n",
       "        text-align: right;\n",
       "    }\n",
       "</style>\n",
       "<table border=\"1\" class=\"dataframe\">\n",
       "  <thead>\n",
       "    <tr style=\"text-align: right;\">\n",
       "      <th></th>\n",
       "      <th>Nb Clients</th>\n",
       "      <th>Chiffre d'affaires</th>\n",
       "      <th>Age Moyen</th>\n",
       "      <th>Cat0_CA</th>\n",
       "      <th>Cat1_CA</th>\n",
       "      <th>Cat2_CA</th>\n",
       "      <th>Revenu Moyen par Client</th>\n",
       "    </tr>\n",
       "    <tr>\n",
       "      <th>Année</th>\n",
       "      <th></th>\n",
       "      <th></th>\n",
       "      <th></th>\n",
       "      <th></th>\n",
       "      <th></th>\n",
       "      <th></th>\n",
       "      <th></th>\n",
       "    </tr>\n",
       "  </thead>\n",
       "  <tbody>\n",
       "    <tr>\n",
       "      <th>2021-01-01</th>\n",
       "      <td>8600</td>\n",
       "      <td>5831737.05</td>\n",
       "      <td>43</td>\n",
       "      <td>2230428.29</td>\n",
       "      <td>2247384.41</td>\n",
       "      <td>1353924.35</td>\n",
       "      <td>678.108959</td>\n",
       "    </tr>\n",
       "    <tr>\n",
       "      <th>2022-01-01</th>\n",
       "      <td>8524</td>\n",
       "      <td>6021991.63</td>\n",
       "      <td>44</td>\n",
       "      <td>2189302.68</td>\n",
       "      <td>2406338.28</td>\n",
       "      <td>1426350.67</td>\n",
       "      <td>706.474851</td>\n",
       "    </tr>\n",
       "  </tbody>\n",
       "</table>\n",
       "</div>"
      ],
      "text/plain": [
       "            Nb Clients  Chiffre d'affaires  Age Moyen     Cat0_CA     Cat1_CA  \\\n",
       "Année                                                                           \n",
       "2021-01-01        8600          5831737.05         43  2230428.29  2247384.41   \n",
       "2022-01-01        8524          6021991.63         44  2189302.68  2406338.28   \n",
       "\n",
       "               Cat2_CA  Revenu Moyen par Client  \n",
       "Année                                            \n",
       "2021-01-01  1353924.35               678.108959  \n",
       "2022-01-01  1426350.67               706.474851  "
      ]
     },
     "execution_count": 23,
     "metadata": {},
     "output_type": "execute_result"
    }
   ],
   "source": [
    "df3_CA"
   ]
  },
  {
   "cell_type": "code",
   "execution_count": 690,
   "metadata": {},
   "outputs": [],
   "source": [
    "df3_CA.loc['Total']= df3_CA.sum(numeric_only=True, axis=0)"
   ]
  },
  {
   "cell_type": "code",
   "execution_count": 697,
   "metadata": {},
   "outputs": [
    {
     "data": {
      "text/html": [
       "<div>\n",
       "<style scoped>\n",
       "    .dataframe tbody tr th:only-of-type {\n",
       "        vertical-align: middle;\n",
       "    }\n",
       "\n",
       "    .dataframe tbody tr th {\n",
       "        vertical-align: top;\n",
       "    }\n",
       "\n",
       "    .dataframe thead th {\n",
       "        text-align: right;\n",
       "    }\n",
       "</style>\n",
       "<table border=\"1\" class=\"dataframe\">\n",
       "  <thead>\n",
       "    <tr style=\"text-align: right;\">\n",
       "      <th></th>\n",
       "      <th>Nb Clients</th>\n",
       "      <th>Chiffre d'affaires</th>\n",
       "      <th>Age Moyen</th>\n",
       "      <th>Cat0_CA</th>\n",
       "      <th>Cat1_CA</th>\n",
       "      <th>Cat2_CA</th>\n",
       "      <th>Revenu Moyen par Client</th>\n",
       "    </tr>\n",
       "    <tr>\n",
       "      <th>Année</th>\n",
       "      <th></th>\n",
       "      <th></th>\n",
       "      <th></th>\n",
       "      <th></th>\n",
       "      <th></th>\n",
       "      <th></th>\n",
       "      <th></th>\n",
       "    </tr>\n",
       "  </thead>\n",
       "  <tbody>\n",
       "    <tr>\n",
       "      <th>2021-01-01 00:00:00</th>\n",
       "      <td>8598.0</td>\n",
       "      <td>5510938.31</td>\n",
       "      <td>43.0</td>\n",
       "      <td>2031177.46</td>\n",
       "      <td>2213622.09</td>\n",
       "      <td>1266138.76</td>\n",
       "      <td>640.955840</td>\n",
       "    </tr>\n",
       "    <tr>\n",
       "      <th>2022-01-01 00:00:00</th>\n",
       "      <td>8524.0</td>\n",
       "      <td>6021991.63</td>\n",
       "      <td>44.0</td>\n",
       "      <td>2189302.68</td>\n",
       "      <td>2406338.28</td>\n",
       "      <td>1426350.67</td>\n",
       "      <td>706.474851</td>\n",
       "    </tr>\n",
       "    <tr>\n",
       "      <th>Total</th>\n",
       "      <td>8561.0</td>\n",
       "      <td>11532929.94</td>\n",
       "      <td>43.0</td>\n",
       "      <td>4220480.14</td>\n",
       "      <td>4619960.37</td>\n",
       "      <td>2692489.43</td>\n",
       "      <td>1347.430691</td>\n",
       "    </tr>\n",
       "  </tbody>\n",
       "</table>\n",
       "</div>"
      ],
      "text/plain": [
       "                     Nb Clients  Chiffre d'affaires  Age Moyen     Cat0_CA  \\\n",
       "Année                                                                        \n",
       "2021-01-01 00:00:00      8598.0          5510938.31       43.0  2031177.46   \n",
       "2022-01-01 00:00:00      8524.0          6021991.63       44.0  2189302.68   \n",
       "Total                    8561.0         11532929.94       43.0  4220480.14   \n",
       "\n",
       "                        Cat1_CA     Cat2_CA  Revenu Moyen par Client  \n",
       "Année                                                                 \n",
       "2021-01-01 00:00:00  2213622.09  1266138.76               640.955840  \n",
       "2022-01-01 00:00:00  2406338.28  1426350.67               706.474851  \n",
       "Total                4619960.37  2692489.43              1347.430691  "
      ]
     },
     "execution_count": 697,
     "metadata": {},
     "output_type": "execute_result"
    }
   ],
   "source": [
    "df3_CA"
   ]
  },
  {
   "cell_type": "markdown",
   "metadata": {},
   "source": [
    "#### Soyons plus précis, je crée un Dataframe pour calculer le chiffre d'affaires par trimestre"
   ]
  },
  {
   "cell_type": "code",
   "execution_count": 553,
   "metadata": {
    "jupyter": {
     "source_hidden": true
    }
   },
   "outputs": [],
   "source": [
    "CA_per_y=df3.resample(\"3M\")['price'].sum()\n",
    "            \n",
    "             \n",
    "client_per_y =df3.resample(\"3M\")['client_id'].nunique()\n",
    "               \n",
    "age_mean_y = round(df3.resample(\"3M\")[\"Age\"].mean())\n",
    "\n",
    "cat0_CA_y = df3[(df3.categ == 0)].resample(\"3M\")[\"price\"].sum()\n",
    "\n",
    "cat1_CA_y =df3[(df3.categ == 1)].resample(\"3M\")[\"price\"].sum()\n",
    "\n",
    "cat2_CA_y = df3[(df3.categ == 2)].resample(\"3M\")[\"price\"].sum()\n",
    "\n",
    "Sum = {  \n",
    "         'Nb Clients' : client_per_y,\n",
    "        \"Chiffre d'affaires\":CA_per_y,\n",
    "       \"Age Moyen\" : age_mean_y,\n",
    "       \"Cat0_CA\" : cat0_CA_y,\n",
    "       \"Cat1_CA\" : cat1_CA_y,\n",
    "       \"Cat2_CA\" : cat2_CA_y\n",
    "        }\n",
    "\n",
    "df3T_CA = pd.DataFrame(Sum, columns = [ \"Nb Clients\",\"Chiffre d'affaires\", \"Age Moyen\",\"Cat0_CA\",\"Cat1_CA\",\"Cat2_CA\"])"
   ]
  },
  {
   "cell_type": "code",
   "execution_count": 554,
   "metadata": {},
   "outputs": [],
   "source": [
    "df3T_CA[\"Revenu Moyen par Client\"] = df3T_CA[\"Chiffre d'affaires\"] / df3T_CA[\"Nb Clients\"] "
   ]
  },
  {
   "cell_type": "code",
   "execution_count": 555,
   "metadata": {
    "collapsed": true,
    "jupyter": {
     "outputs_hidden": true,
     "source_hidden": true
    }
   },
   "outputs": [
    {
     "data": {
      "text/html": [
       "<div>\n",
       "<style scoped>\n",
       "    .dataframe tbody tr th:only-of-type {\n",
       "        vertical-align: middle;\n",
       "    }\n",
       "\n",
       "    .dataframe tbody tr th {\n",
       "        vertical-align: top;\n",
       "    }\n",
       "\n",
       "    .dataframe thead th {\n",
       "        text-align: right;\n",
       "    }\n",
       "</style>\n",
       "<table border=\"1\" class=\"dataframe\">\n",
       "  <thead>\n",
       "    <tr style=\"text-align: right;\">\n",
       "      <th></th>\n",
       "      <th>Nb Clients</th>\n",
       "      <th>Chiffre d'affaires</th>\n",
       "      <th>Age Moyen</th>\n",
       "      <th>Cat0_CA</th>\n",
       "      <th>Cat1_CA</th>\n",
       "      <th>Cat2_CA</th>\n",
       "      <th>Revenu Moyen par Client</th>\n",
       "    </tr>\n",
       "    <tr>\n",
       "      <th>date</th>\n",
       "      <th></th>\n",
       "      <th></th>\n",
       "      <th></th>\n",
       "      <th></th>\n",
       "      <th></th>\n",
       "      <th></th>\n",
       "      <th></th>\n",
       "    </tr>\n",
       "  </thead>\n",
       "  <tbody>\n",
       "    <tr>\n",
       "      <th>2021-03-31</th>\n",
       "      <td>5676</td>\n",
       "      <td>482440.61</td>\n",
       "      <td>43.0</td>\n",
       "      <td>193629.17</td>\n",
       "      <td>186974.17</td>\n",
       "      <td>101837.27</td>\n",
       "      <td>84.996584</td>\n",
       "    </tr>\n",
       "    <tr>\n",
       "      <th>2021-06-30</th>\n",
       "      <td>7832</td>\n",
       "      <td>1453141.33</td>\n",
       "      <td>43.0</td>\n",
       "      <td>569352.33</td>\n",
       "      <td>511193.79</td>\n",
       "      <td>372595.21</td>\n",
       "      <td>185.538985</td>\n",
       "    </tr>\n",
       "    <tr>\n",
       "      <th>2021-09-30</th>\n",
       "      <td>7831</td>\n",
       "      <td>1472360.87</td>\n",
       "      <td>43.0</td>\n",
       "      <td>558842.32</td>\n",
       "      <td>542128.43</td>\n",
       "      <td>371390.12</td>\n",
       "      <td>188.016967</td>\n",
       "    </tr>\n",
       "    <tr>\n",
       "      <th>2021-12-31</th>\n",
       "      <td>7785</td>\n",
       "      <td>1362883.75</td>\n",
       "      <td>43.0</td>\n",
       "      <td>561196.63</td>\n",
       "      <td>537699.46</td>\n",
       "      <td>263987.66</td>\n",
       "      <td>175.065350</td>\n",
       "    </tr>\n",
       "    <tr>\n",
       "      <th>2022-03-31</th>\n",
       "      <td>7734</td>\n",
       "      <td>1576367.02</td>\n",
       "      <td>44.0</td>\n",
       "      <td>538872.78</td>\n",
       "      <td>675873.82</td>\n",
       "      <td>361620.42</td>\n",
       "      <td>203.822992</td>\n",
       "    </tr>\n",
       "    <tr>\n",
       "      <th>2022-06-30</th>\n",
       "      <td>7770</td>\n",
       "      <td>1506147.66</td>\n",
       "      <td>44.0</td>\n",
       "      <td>553804.46</td>\n",
       "      <td>602708.66</td>\n",
       "      <td>349634.54</td>\n",
       "      <td>193.841398</td>\n",
       "    </tr>\n",
       "    <tr>\n",
       "      <th>2022-09-30</th>\n",
       "      <td>7740</td>\n",
       "      <td>1511364.92</td>\n",
       "      <td>44.0</td>\n",
       "      <td>547799.00</td>\n",
       "      <td>600709.35</td>\n",
       "      <td>362856.57</td>\n",
       "      <td>195.266786</td>\n",
       "    </tr>\n",
       "    <tr>\n",
       "      <th>2022-12-31</th>\n",
       "      <td>7726</td>\n",
       "      <td>1514802.21</td>\n",
       "      <td>44.0</td>\n",
       "      <td>552494.22</td>\n",
       "      <td>605983.36</td>\n",
       "      <td>356324.63</td>\n",
       "      <td>196.065520</td>\n",
       "    </tr>\n",
       "    <tr>\n",
       "      <th>2023-03-31</th>\n",
       "      <td>7085</td>\n",
       "      <td>974220.31</td>\n",
       "      <td>45.0</td>\n",
       "      <td>343740.06</td>\n",
       "      <td>390451.65</td>\n",
       "      <td>240028.60</td>\n",
       "      <td>137.504631</td>\n",
       "    </tr>\n",
       "  </tbody>\n",
       "</table>\n",
       "</div>"
      ],
      "text/plain": [
       "            Nb Clients  Chiffre d'affaires  Age Moyen    Cat0_CA    Cat1_CA  \\\n",
       "date                                                                          \n",
       "2021-03-31        5676           482440.61       43.0  193629.17  186974.17   \n",
       "2021-06-30        7832          1453141.33       43.0  569352.33  511193.79   \n",
       "2021-09-30        7831          1472360.87       43.0  558842.32  542128.43   \n",
       "2021-12-31        7785          1362883.75       43.0  561196.63  537699.46   \n",
       "2022-03-31        7734          1576367.02       44.0  538872.78  675873.82   \n",
       "2022-06-30        7770          1506147.66       44.0  553804.46  602708.66   \n",
       "2022-09-30        7740          1511364.92       44.0  547799.00  600709.35   \n",
       "2022-12-31        7726          1514802.21       44.0  552494.22  605983.36   \n",
       "2023-03-31        7085           974220.31       45.0  343740.06  390451.65   \n",
       "\n",
       "              Cat2_CA  Revenu Moyen par Client  \n",
       "date                                            \n",
       "2021-03-31  101837.27                84.996584  \n",
       "2021-06-30  372595.21               185.538985  \n",
       "2021-09-30  371390.12               188.016967  \n",
       "2021-12-31  263987.66               175.065350  \n",
       "2022-03-31  361620.42               203.822992  \n",
       "2022-06-30  349634.54               193.841398  \n",
       "2022-09-30  362856.57               195.266786  \n",
       "2022-12-31  356324.63               196.065520  \n",
       "2023-03-31  240028.60               137.504631  "
      ]
     },
     "execution_count": 555,
     "metadata": {},
     "output_type": "execute_result"
    }
   ],
   "source": [
    "df3T_CA"
   ]
  },
  {
   "cell_type": "markdown",
   "metadata": {},
   "source": [
    "### Représentation graphique de l'évolution du Chiffre d'affaires "
   ]
  },
  {
   "cell_type": "markdown",
   "metadata": {},
   "source": [
    "#### Soyons plus précis en représentant le CA par catégorie et par mois"
   ]
  },
  {
   "cell_type": "code",
   "execution_count": 24,
   "metadata": {
    "jupyter": {
     "source_hidden": true
    }
   },
   "outputs": [],
   "source": [
    "cat_0= df3[\"price\"][(df3.categ == 0) ].resample('M').sum()\n",
    "cat_1= df3[\"price\"][(df3.categ == 1)].resample('M').sum()\n",
    "cat_2= df3[\"price\"][(df3.categ == 2) ].resample('M').sum()\n",
    "\n",
    "Sum = { \n",
    "       \"Cat0_CA\" : cat_0,\n",
    "       \"Cat1_CA\" : cat_1,\n",
    "       \"Cat2_CA\" : cat_2\n",
    "        }\n",
    "df3_Cat = pd.DataFrame(Sum, columns = [\"Cat0_CA\",\"Cat1_CA\",\"Cat2_CA\"])"
   ]
  },
  {
   "cell_type": "code",
   "execution_count": 68,
   "metadata": {},
   "outputs": [
    {
     "data": {
      "text/plain": [
       "<AxesSubplot:xlabel='date'>"
      ]
     },
     "execution_count": 68,
     "metadata": {},
     "output_type": "execute_result"
    },
    {
     "data": {
      "image/png": "[encoded data removed]",
      "text/plain": [
       "<Figure size 1440x504 with 1 Axes>"
      ]
     },
     "metadata": {
      "needs_background": "light"
     },
     "output_type": "display_data"
    }
   ],
   "source": [
    "df3_Cat.plot.bar(stacked=True,figsize=(20,7))"
   ]
  },
  {
   "cell_type": "markdown",
   "metadata": {},
   "source": [
    "Il y a une baisse étrange, vérifions les ventes du mois d'Octobre"
   ]
  },
  {
   "cell_type": "code",
   "execution_count": 578,
   "metadata": {},
   "outputs": [],
   "source": [
    "dayCa0 = df3[\"price\"][(df3.categ == 0)].resample('D').sum()\n",
    "dayCa1 = df3[\"price\"][(df3.categ == 1)].resample('D').sum()\n",
    "dayCa2 = df3[\"price\"][(df3.categ == 2)].resample('D').sum()"
   ]
  },
  {
   "cell_type": "code",
   "execution_count": 497,
   "metadata": {
    "jupyter": {
     "source_hidden": true
    }
   },
   "outputs": [
    {
     "data": {
      "text/plain": [
       "Text(0.5, 1.0, \"Evolution du CA par catégorie pour le mois d'Octobre\")"
      ]
     },
     "execution_count": 497,
     "metadata": {},
     "output_type": "execute_result"
    },
    {
     "data": {
      "image/png": "[encoded data removed]",
      "text/plain": [
       "<Figure size 1440x504 with 1 Axes>"
      ]
     },
     "metadata": {
      "needs_background": "light"
     },
     "output_type": "display_data"
    }
   ],
   "source": [
    "dayCa0.loc[\"2021-10\"].plot(kind='line', subplots=False,figsize=(20,7))\n",
    "dayCa1.loc[\"2021-10\"].plot(kind='line', subplots=False,figsize=(20,7))\n",
    "dayCa2.loc[\"2021-10\"].plot(kind='line', subplots=False,figsize=(20,7))\n",
    "plt.ylabel(\"Chiffre d'affaires\")\n",
    "plt.legend([\"cat0\",\"cat1\",\"cat2\"])\n",
    "plt.title(\"Evolution du CA par catégorie pour le mois d'Octobre\")\n"
   ]
  },
  {
   "cell_type": "markdown",
   "metadata": {},
   "source": [
    "On remarque que pour le mois d'Octobre dans la catégorie 1, il y a très peu de ventes. Probablement dû à un problème technique sur le site.\n",
    "\n",
    "Je décide donc de supprimer le mois d'Octobre car cela peu biaiser le dataset."
   ]
  },
  {
   "cell_type": "code",
   "execution_count": 52,
   "metadata": {},
   "outputs": [],
   "source": [
    "df3.drop(df3.loc[\"2021-10\"].index, inplace=True)"
   ]
  },
  {
   "cell_type": "markdown",
   "metadata": {},
   "source": [
    "### **Répartition des catégories en volume**"
   ]
  },
  {
   "cell_type": "markdown",
   "metadata": {},
   "source": [
    "Je créé une liste unique des categories "
   ]
  },
  {
   "cell_type": "code",
   "execution_count": 60,
   "metadata": {},
   "outputs": [],
   "source": [
    "cat= df3.categ.unique().tolist()\n",
    "lst_cat =[]\n",
    "for x in cat:\n",
    " lst_cat.append(df3.categ[df3.categ == x].count())"
   ]
  },
  {
   "cell_type": "code",
   "execution_count": 82,
   "metadata": {
    "jupyter": {
     "source_hidden": true
    }
   },
   "outputs": [
    {
     "data": {
      "image/png": "[encoded data removed]",
      "text/plain": [
       "<Figure size 432x288 with 1 Axes>"
      ]
     },
     "metadata": {},
     "output_type": "display_data"
    }
   ],
   "source": [
    "# Pie chart, where the slices will be ordered and plotted counter-clockwise:\n",
    "labels = 'Cat_0', 'Cat_1', 'Cat_2'\n",
    "sizes = [lst_cat[0],\n",
    "       lst_cat[1],\n",
    "        lst_cat[2]]\n",
    "explode = ( 0.0, 0.0, 0.0)  # only \"explode\" the 2nd slice (i.e. 'Hogs')\n",
    "\n",
    "fig1, ax1 = plt.subplots()\n",
    "\n",
    "def func(pct, allvals):\n",
    "    absolute = float(round(pct/100.*sum(allvals) ,2) )\n",
    "    return \"{:.1f}%\\n({:.0f})\".format(pct, absolute)\n",
    "ax1.pie(sizes, explode=explode, labels=labels, autopct=lambda pct: func(pct, lst_cat),\n",
    "        shadow=True, startangle=90)\n",
    "ax1.axis('equal')  # Equal aspect ratio ensures that pie is drawn as a circle.\n",
    "\n",
    "plt.show()"
   ]
  },
  {
   "cell_type": "markdown",
   "metadata": {},
   "source": [
    "Les produits de la catégorie 0 sont ceux qui se vendent le plus."
   ]
  },
  {
   "cell_type": "markdown",
   "metadata": {},
   "source": [
    "### **Représentation Graphique : Répartition du CA par Catégorie**"
   ]
  },
  {
   "cell_type": "code",
   "execution_count": 26,
   "metadata": {},
   "outputs": [],
   "source": [
    "cat= df3.categ.unique().tolist()\n",
    "lst_cat =[]\n",
    "for x in cat:\n",
    " lst_cat.append(df3[df3.categ == x].price.sum())"
   ]
  },
  {
   "cell_type": "code",
   "execution_count": 108,
   "metadata": {
    "jupyter": {
     "source_hidden": true
    }
   },
   "outputs": [
    {
     "data": {
      "image/png": "[encoded data removed]",
      "text/plain": [
       "<Figure size 432x288 with 1 Axes>"
      ]
     },
     "metadata": {},
     "output_type": "display_data"
    }
   ],
   "source": [
    "# Pie chart, where the slices will be ordered and plotted counter-clockwise:\n",
    "labels = 'Cat_0', 'Cat_1', 'Cat_2'\n",
    "sizes = [lst_cat[0],\n",
    "       lst_cat[1],\n",
    "        lst_cat[2]]\n",
    "explode = ( 0.0, 0.0, 0.0)  # only \"explode\" the 2nd slice (i.e. 'Hogs')\n",
    "\n",
    "fig1, ax1 = plt.subplots()\n",
    "\n",
    "def func(pct, allvals):\n",
    "    absolute = float(round(pct/100.*np.sum(allvals)/ 10**6 ,2) )\n",
    "    return \"{:.1f}%\\n({:.1f} M)\".format(pct, absolute)\n",
    "ax1.pie(sizes, explode=explode, labels=labels, autopct=lambda pct: func(pct, lst_cat),\n",
    "        shadow=True, startangle=90)\n",
    "ax1.axis('equal')  # Equal aspect ratio ensures that pie is drawn as a circle.\n",
    "\n",
    "plt.show()"
   ]
  },
  {
   "cell_type": "markdown",
   "metadata": {},
   "source": [
    "Les produits qui rapportent le plus en termes de CA sont ceux de la catégorie 1."
   ]
  },
  {
   "cell_type": "markdown",
   "metadata": {},
   "source": [
    "### **Répartition des prix par catégorie**"
   ]
  },
  {
   "cell_type": "code",
   "execution_count": 430,
   "metadata": {},
   "outputs": [
    {
     "data": {
      "image/png": "[encoded data removed]",
      "text/plain": [
       "<Figure size 432x288 with 1 Axes>"
      ]
     },
     "metadata": {
      "needs_background": "light"
     },
     "output_type": "display_data"
    }
   ],
   "source": [
    "X = \"categ\"\n",
    "Y = \"price\"\n",
    "\n",
    "modalites = df_uniq[X].unique()\n",
    "groupes = []\n",
    "for m in modalites:\n",
    "    groupes.append(df_uniq[df_uniq[X]==m][Y])\n",
    "\n",
    "# Propriétés graphiques (pas très importantes)    \n",
    "medianprops = {'color':\"black\"}\n",
    "meanprops = {'marker':'o', 'markeredgecolor':'black',\n",
    "            'markerfacecolor':'firebrick'}\n",
    "    \n",
    "plt.boxplot(groupes, labels=modalites, showfliers=False, medianprops=medianprops \n",
    "            , patch_artist=True, showmeans=True, meanprops=meanprops)\n",
    "plt.xlabel(\"categorie\")\n",
    "plt.ylabel(\"prix\")\n",
    "plt.title(\"Répartition des prix par catégorie\")\n",
    "\n",
    "plt.show()"
   ]
  },
  {
   "cell_type": "markdown",
   "metadata": {},
   "source": [
    "C'est possible que les catégories soient des gammes de produits. \n",
    "\n",
    "Par ex: livres de poche (pour la cat 0), livres récemment sortis (cat1) et accessoires liés aux aventures d'une saga (cat2)"
   ]
  },
  {
   "cell_type": "markdown",
   "metadata": {},
   "source": [
    "Regardons les valeurs aberrantes pour vérifier s'il n'y a pas d'erreurs au niveau du pricing."
   ]
  },
  {
   "cell_type": "code",
   "execution_count": 27,
   "metadata": {},
   "outputs": [
    {
     "data": {
      "text/plain": [
       "{'whiskers': [<matplotlib.lines.Line2D at 0x262373db880>,\n",
       "  <matplotlib.lines.Line2D at 0x262373dbc10>],\n",
       " 'caps': [<matplotlib.lines.Line2D at 0x262373dbfa0>,\n",
       "  <matplotlib.lines.Line2D at 0x262373e9370>],\n",
       " 'boxes': [<matplotlib.lines.Line2D at 0x262373db4f0>],\n",
       " 'medians': [<matplotlib.lines.Line2D at 0x262373e9700>],\n",
       " 'fliers': [<matplotlib.lines.Line2D at 0x262373e9a90>],\n",
       " 'means': []}"
      ]
     },
     "execution_count": 27,
     "metadata": {},
     "output_type": "execute_result"
    },
    {
     "data": {
      "image/png": "[encoded data removed]",
      "text/plain": [
       "<Figure size 864x720 with 1 Axes>"
      ]
     },
     "metadata": {
      "needs_background": "light"
     },
     "output_type": "display_data"
    }
   ],
   "source": [
    "green_diamond = dict(markerfacecolor='g', marker='D')\n",
    "fig3, ax3 = plt.subplots(1, figsize=(12, 10))\n",
    "ax3.set_title('Outliers Price')\n",
    "ax3.boxplot(df[\"price\"][df[\"categ\"] == 2], flierprops=green_diamond)"
   ]
  },
  {
   "cell_type": "code",
   "execution_count": 26,
   "metadata": {},
   "outputs": [
    {
     "name": "stdout",
     "output_type": "stream",
     "text": [
      "La moyenne de la cat2 de price est :  76.21\n",
      "L'écart type de la cat2 de price est :  39.76\n"
     ]
    }
   ],
   "source": [
    "# Prix moyen\n",
    "mean = np.mean(df[\"price\"][df[\"categ\"] == 2])\n",
    "# Ecart type du prix\n",
    "std = np.std(df[\"price\"][df[\"categ\"] == 2])\n",
    "print('La moyenne de la cat2 de price est : ', round(mean,2))\n",
    "print(\"L'écart type de la cat2 de price est : \", round(std,2))"
   ]
  },
  {
   "cell_type": "code",
   "execution_count": 40,
   "metadata": {},
   "outputs": [
    {
     "name": "stdout",
     "output_type": "stream",
     "text": [
      "\n",
      "Un Z-Score supérieur à 1.5 révèle un outlier.\n",
      "Il y a 53 valeurs aberrantes.\n",
      "Les valeurs aberrantes dans price sont :  [225.17, 157.99, 201.74, 156.99, 158.17, 167.49, 157.42, 247.22, 162.03, 170.99, 145.45, 175.99, 254.44, 228.11, 181.99, 172.99, 300.0, 191.99, 157.63, 155.99, 203.99, 145.99, 142.99, 176.2, 175.67, 163.94, 236.99, 189.99, 220.99, 182.3, 139.99, 136.99, 222.97, 141.32, 231.99, 164.99, 136.07, 150.72, 166.21, 202.99, 188.48, 230.04, 160.99, 138.53, 158.99, 233.54, 138.32, 150.69, 195.99, 149.74, 142.58, 201.99, 147.99]\n"
     ]
    }
   ],
   "source": [
    "threshold = 1.5\n",
    "outlier = []\n",
    "nb=0\n",
    "for i in df[\"price\"].unique():\n",
    "    z = (i-mean)/std\n",
    "    if z > threshold:\n",
    "        nb+=1\n",
    "        outlier.append(i)\n",
    "print(f\"\\nUn Z-Score supérieur à 1.5 révèle un outlier.\\nIl y a {nb} valeurs aberrantes.\")\n",
    "print('Les valeurs aberrantes dans price sont : ', outlier)"
   ]
  },
  {
   "cell_type": "markdown",
   "metadata": {},
   "source": [
    "Voyons à combien de produits sont assignés ces outliers"
   ]
  },
  {
   "cell_type": "code",
   "execution_count": 47,
   "metadata": {},
   "outputs": [
    {
     "data": {
      "text/plain": [
       "61"
      ]
     },
     "execution_count": 47,
     "metadata": {},
     "output_type": "execute_result"
    }
   ],
   "source": [
    "df.id_prod[df[\"price\"].isin(outlier)].nunique()"
   ]
  },
  {
   "cell_type": "markdown",
   "metadata": {},
   "source": [
    "On se renseignant auprès de l'équipe pricing, il ne s'agit pas de valeurs aberrantes mais atypiques donc nous n'avons pas besoin de les supprimer."
   ]
  },
  {
   "cell_type": "markdown",
   "metadata": {},
   "source": [
    "## **2- Zoom sur les références produits**"
   ]
  },
  {
   "cell_type": "markdown",
   "metadata": {},
   "source": [
    "#### Top des références produits les plus vendus"
   ]
  },
  {
   "cell_type": "code",
   "execution_count": 96,
   "metadata": {},
   "outputs": [],
   "source": [
    "df_top_ref5 = df3.id_prod.value_counts().head()"
   ]
  },
  {
   "cell_type": "code",
   "execution_count": 83,
   "metadata": {},
   "outputs": [],
   "source": [
    "df3noNaN =  df3.dropna()"
   ]
  },
  {
   "cell_type": "code",
   "execution_count": 117,
   "metadata": {
    "jupyter": {
     "source_hidden": true
    }
   },
   "outputs": [
    {
     "data": {
      "text/plain": [
       "Text(0.5, 0.98, 'Top 5 des références produits les plus vendus')"
      ]
     },
     "execution_count": 117,
     "metadata": {},
     "output_type": "execute_result"
    },
    {
     "data": {
      "image/png": "[encoded data removed]",
      "text/plain": [
       "<Figure size 864x432 with 1 Axes>"
      ]
     },
     "metadata": {
      "needs_background": "light"
     },
     "output_type": "display_data"
    }
   ],
   "source": [
    "names = df_top_ref5.index\n",
    "values = (df_top_ref5 * df3[\"price\"][df3.id_prod.isin(df_top_ref5.index)].unique()).sort_values(ascending=False)\n",
    "def tonnes(x, pos):\n",
    "    \"\"\"The two args are the value and tick position.\"\"\"\n",
    "    return '{:1.1f} '.format(x)\n",
    "fig, axs = plt.subplots(1, figsize=(12, 6))\n",
    "axs.yaxis.set_major_formatter(tonnes)\n",
    "axs.bar(names, values)\n",
    "\n",
    "totals = []\n",
    "\n",
    "# find the values and append to list\n",
    "for i in axs.patches:\n",
    "    totals.append(i.get_height())\n",
    "# set individual bar lables using above list\n",
    "total = sum(totals)\n",
    "# set individual bar lables using above list\n",
    "for i in axs.patches:\n",
    "    \n",
    "    # get_x pulls left or right; get_height pushes up or down\n",
    "    axs.text(i.get_x()+.12, i.get_height()-3, \\\n",
    "            str(round((i.get_height()/(df3.price.sum() ))*100, 2))+'%', fontsize=22,\n",
    "                color='black')\n",
    "fig.suptitle(\"Top 5 des références produits les plus vendus\")"
   ]
  },
  {
   "cell_type": "markdown",
   "metadata": {},
   "source": [
    "Créer une colonne nb_vente pour calculer le CA par produit"
   ]
  },
  {
   "cell_type": "code",
   "execution_count": 134,
   "metadata": {},
   "outputs": [],
   "source": [
    "df[\"nb vente\"] = df.index.value_counts()"
   ]
  },
  {
   "cell_type": "markdown",
   "metadata": {},
   "source": [
    "Colonne représentant le CA par produit"
   ]
  },
  {
   "cell_type": "code",
   "execution_count": 136,
   "metadata": {},
   "outputs": [],
   "source": [
    "df[\"CA par produit\"]= (df[\"nb vente\"] * df[\"price\"])"
   ]
  },
  {
   "cell_type": "markdown",
   "metadata": {},
   "source": [
    "Suppression des doublons de l'index"
   ]
  },
  {
   "cell_type": "code",
   "execution_count": 137,
   "metadata": {},
   "outputs": [],
   "source": [
    "df_uniq = df[~df.index.duplicated(keep='first')].dropna()"
   ]
  },
  {
   "cell_type": "markdown",
   "metadata": {},
   "source": [
    "#### Tableaux des références les plus vendus"
   ]
  },
  {
   "cell_type": "code",
   "execution_count": 138,
   "metadata": {},
   "outputs": [
    {
     "data": {
      "text/html": [
       "<div>\n",
       "<style scoped>\n",
       "    .dataframe tbody tr th:only-of-type {\n",
       "        vertical-align: middle;\n",
       "    }\n",
       "\n",
       "    .dataframe tbody tr th {\n",
       "        vertical-align: top;\n",
       "    }\n",
       "\n",
       "    .dataframe thead th {\n",
       "        text-align: right;\n",
       "    }\n",
       "</style>\n",
       "<table border=\"1\" class=\"dataframe\">\n",
       "  <thead>\n",
       "    <tr style=\"text-align: right;\">\n",
       "      <th></th>\n",
       "      <th>price</th>\n",
       "      <th>categ</th>\n",
       "      <th>date</th>\n",
       "      <th>session_id</th>\n",
       "      <th>client_id</th>\n",
       "      <th>id_prod</th>\n",
       "      <th>nb vente</th>\n",
       "      <th>CA par produit</th>\n",
       "    </tr>\n",
       "    <tr>\n",
       "      <th>id_prod</th>\n",
       "      <th></th>\n",
       "      <th></th>\n",
       "      <th></th>\n",
       "      <th></th>\n",
       "      <th></th>\n",
       "      <th></th>\n",
       "      <th></th>\n",
       "      <th></th>\n",
       "    </tr>\n",
       "  </thead>\n",
       "  <tbody>\n",
       "    <tr>\n",
       "      <th>1_369</th>\n",
       "      <td>23.99</td>\n",
       "      <td>1</td>\n",
       "      <td>2022-08-12 21:21:37.350040</td>\n",
       "      <td>s_252381</td>\n",
       "      <td>c_1464</td>\n",
       "      <td>1_369</td>\n",
       "      <td>2252</td>\n",
       "      <td>54025.48</td>\n",
       "    </tr>\n",
       "    <tr>\n",
       "      <th>1_414</th>\n",
       "      <td>23.83</td>\n",
       "      <td>1</td>\n",
       "      <td>2022-11-13 09:02:12.691434</td>\n",
       "      <td>s_296911</td>\n",
       "      <td>c_5785</td>\n",
       "      <td>1_414</td>\n",
       "      <td>2180</td>\n",
       "      <td>51949.40</td>\n",
       "    </tr>\n",
       "    <tr>\n",
       "      <th>1_498</th>\n",
       "      <td>23.37</td>\n",
       "      <td>1</td>\n",
       "      <td>2023-02-08 15:31:41.086311</td>\n",
       "      <td>s_338728</td>\n",
       "      <td>c_7453</td>\n",
       "      <td>1_498</td>\n",
       "      <td>2128</td>\n",
       "      <td>49731.36</td>\n",
       "    </tr>\n",
       "    <tr>\n",
       "      <th>1_417</th>\n",
       "      <td>20.99</td>\n",
       "      <td>1</td>\n",
       "      <td>2022-01-19 21:56:40.441341</td>\n",
       "      <td>s_152293</td>\n",
       "      <td>c_8229</td>\n",
       "      <td>1_417</td>\n",
       "      <td>2189</td>\n",
       "      <td>45947.11</td>\n",
       "    </tr>\n",
       "    <tr>\n",
       "      <th>1_425</th>\n",
       "      <td>16.99</td>\n",
       "      <td>1</td>\n",
       "      <td>2021-04-08 18:51:29.845188</td>\n",
       "      <td>s_17822</td>\n",
       "      <td>c_7635</td>\n",
       "      <td>1_425</td>\n",
       "      <td>2096</td>\n",
       "      <td>35611.04</td>\n",
       "    </tr>\n",
       "  </tbody>\n",
       "</table>\n",
       "</div>"
      ],
      "text/plain": [
       "         price categ                       date session_id client_id id_prod  \\\n",
       "id_prod                                                                        \n",
       "1_369    23.99     1 2022-08-12 21:21:37.350040   s_252381    c_1464   1_369   \n",
       "1_414    23.83     1 2022-11-13 09:02:12.691434   s_296911    c_5785   1_414   \n",
       "1_498    23.37     1 2023-02-08 15:31:41.086311   s_338728    c_7453   1_498   \n",
       "1_417    20.99     1 2022-01-19 21:56:40.441341   s_152293    c_8229   1_417   \n",
       "1_425    16.99     1 2021-04-08 18:51:29.845188    s_17822    c_7635   1_425   \n",
       "\n",
       "         nb vente  CA par produit  \n",
       "id_prod                            \n",
       "1_369        2252        54025.48  \n",
       "1_414        2180        51949.40  \n",
       "1_498        2128        49731.36  \n",
       "1_417        2189        45947.11  \n",
       "1_425        2096        35611.04  "
      ]
     },
     "execution_count": 138,
     "metadata": {},
     "output_type": "execute_result"
    }
   ],
   "source": [
    "df_uniq[df_uniq.index.isin(df_top_ref5.index)].sort_values(by='CA par produit', ascending=False)"
   ]
  },
  {
   "cell_type": "markdown",
   "metadata": {},
   "source": [
    "#### TOP 5 des références produits les moins vendus"
   ]
  },
  {
   "cell_type": "code",
   "execution_count": 219,
   "metadata": {},
   "outputs": [],
   "source": [
    "df_flop_ref5 = df.index.value_counts().tail(5)"
   ]
  },
  {
   "cell_type": "markdown",
   "metadata": {},
   "source": [
    "Tableau des références les moins vendus"
   ]
  },
  {
   "cell_type": "code",
   "execution_count": 307,
   "metadata": {},
   "outputs": [
    {
     "data": {
      "text/html": [
       "<div>\n",
       "<style scoped>\n",
       "    .dataframe tbody tr th:only-of-type {\n",
       "        vertical-align: middle;\n",
       "    }\n",
       "\n",
       "    .dataframe tbody tr th {\n",
       "        vertical-align: top;\n",
       "    }\n",
       "\n",
       "    .dataframe thead th {\n",
       "        text-align: right;\n",
       "    }\n",
       "</style>\n",
       "<table border=\"1\" class=\"dataframe\">\n",
       "  <thead>\n",
       "    <tr style=\"text-align: right;\">\n",
       "      <th></th>\n",
       "      <th>price</th>\n",
       "      <th>categ</th>\n",
       "      <th>date</th>\n",
       "      <th>session_id</th>\n",
       "      <th>client_id</th>\n",
       "      <th>nb vente</th>\n",
       "      <th>CA par produit</th>\n",
       "    </tr>\n",
       "    <tr>\n",
       "      <th>id_prod</th>\n",
       "      <th></th>\n",
       "      <th></th>\n",
       "      <th></th>\n",
       "      <th></th>\n",
       "      <th></th>\n",
       "      <th></th>\n",
       "      <th></th>\n",
       "    </tr>\n",
       "  </thead>\n",
       "  <tbody>\n",
       "    <tr>\n",
       "      <th>0_1539</th>\n",
       "      <td>0.99</td>\n",
       "      <td>0</td>\n",
       "      <td>2021-06-01 08:53:24.523722</td>\n",
       "      <td>s_42501</td>\n",
       "      <td>c_881</td>\n",
       "      <td>1</td>\n",
       "      <td>0.99</td>\n",
       "    </tr>\n",
       "    <tr>\n",
       "      <th>0_1284</th>\n",
       "      <td>1.38</td>\n",
       "      <td>0</td>\n",
       "      <td>2021-04-14 13:13:06.560397</td>\n",
       "      <td>s_20477</td>\n",
       "      <td>c_1551</td>\n",
       "      <td>1</td>\n",
       "      <td>1.38</td>\n",
       "    </tr>\n",
       "    <tr>\n",
       "      <th>0_833</th>\n",
       "      <td>2.99</td>\n",
       "      <td>0</td>\n",
       "      <td>2021-09-27 23:22:40.394509</td>\n",
       "      <td>s_96558</td>\n",
       "      <td>c_8260</td>\n",
       "      <td>1</td>\n",
       "      <td>2.99</td>\n",
       "    </tr>\n",
       "    <tr>\n",
       "      <th>0_549</th>\n",
       "      <td>2.99</td>\n",
       "      <td>0</td>\n",
       "      <td>2021-04-11 04:42:10.308957</td>\n",
       "      <td>s_18930</td>\n",
       "      <td>c_4202</td>\n",
       "      <td>1</td>\n",
       "      <td>2.99</td>\n",
       "    </tr>\n",
       "    <tr>\n",
       "      <th>2_23</th>\n",
       "      <td>115.99</td>\n",
       "      <td>2</td>\n",
       "      <td>2021-09-27 04:47:02.271354</td>\n",
       "      <td>s_96170</td>\n",
       "      <td>c_3976</td>\n",
       "      <td>1</td>\n",
       "      <td>115.99</td>\n",
       "    </tr>\n",
       "  </tbody>\n",
       "</table>\n",
       "</div>"
      ],
      "text/plain": [
       "          price  categ                       date session_id client_id  \\\n",
       "id_prod                                                                  \n",
       "0_1539     0.99      0 2021-06-01 08:53:24.523722    s_42501     c_881   \n",
       "0_1284     1.38      0 2021-04-14 13:13:06.560397    s_20477    c_1551   \n",
       "0_833      2.99      0 2021-09-27 23:22:40.394509    s_96558    c_8260   \n",
       "0_549      2.99      0 2021-04-11 04:42:10.308957    s_18930    c_4202   \n",
       "2_23     115.99      2 2021-09-27 04:47:02.271354    s_96170    c_3976   \n",
       "\n",
       "         nb vente  CA par produit  \n",
       "id_prod                            \n",
       "0_1539          1            0.99  \n",
       "0_1284          1            1.38  \n",
       "0_833           1            2.99  \n",
       "0_549           1            2.99  \n",
       "2_23            1          115.99  "
      ]
     },
     "execution_count": 307,
     "metadata": {},
     "output_type": "execute_result"
    }
   ],
   "source": [
    "df_uniq[df_uniq.index.isin(df_flop_ref5.index)].sort_values(by='CA par produit', ascending=True)"
   ]
  },
  {
   "cell_type": "markdown",
   "metadata": {},
   "source": [
    "### Tableau des produits les plus profitables "
   ]
  },
  {
   "cell_type": "code",
   "execution_count": 308,
   "metadata": {},
   "outputs": [
    {
     "data": {
      "text/html": [
       "<div>\n",
       "<style scoped>\n",
       "    .dataframe tbody tr th:only-of-type {\n",
       "        vertical-align: middle;\n",
       "    }\n",
       "\n",
       "    .dataframe tbody tr th {\n",
       "        vertical-align: top;\n",
       "    }\n",
       "\n",
       "    .dataframe thead th {\n",
       "        text-align: right;\n",
       "    }\n",
       "</style>\n",
       "<table border=\"1\" class=\"dataframe\">\n",
       "  <thead>\n",
       "    <tr style=\"text-align: right;\">\n",
       "      <th></th>\n",
       "      <th>price</th>\n",
       "      <th>categ</th>\n",
       "      <th>date</th>\n",
       "      <th>session_id</th>\n",
       "      <th>client_id</th>\n",
       "      <th>nb vente</th>\n",
       "      <th>CA par produit</th>\n",
       "    </tr>\n",
       "    <tr>\n",
       "      <th>id_prod</th>\n",
       "      <th></th>\n",
       "      <th></th>\n",
       "      <th></th>\n",
       "      <th></th>\n",
       "      <th></th>\n",
       "      <th></th>\n",
       "      <th></th>\n",
       "    </tr>\n",
       "  </thead>\n",
       "  <tbody>\n",
       "    <tr>\n",
       "      <th>2_159</th>\n",
       "      <td>145.99</td>\n",
       "      <td>2</td>\n",
       "      <td>2023-02-03 00:00:21.794867</td>\n",
       "      <td>s_336117</td>\n",
       "      <td>c_6135</td>\n",
       "      <td>650</td>\n",
       "      <td>94893.50</td>\n",
       "    </tr>\n",
       "    <tr>\n",
       "      <th>2_135</th>\n",
       "      <td>68.99</td>\n",
       "      <td>2</td>\n",
       "      <td>2022-09-26 09:12:23.639931</td>\n",
       "      <td>s_273739</td>\n",
       "      <td>c_998</td>\n",
       "      <td>1005</td>\n",
       "      <td>69334.95</td>\n",
       "    </tr>\n",
       "    <tr>\n",
       "      <th>2_112</th>\n",
       "      <td>67.57</td>\n",
       "      <td>2</td>\n",
       "      <td>2021-07-07 22:08:01.757045</td>\n",
       "      <td>s_59270</td>\n",
       "      <td>c_826</td>\n",
       "      <td>968</td>\n",
       "      <td>65407.76</td>\n",
       "    </tr>\n",
       "    <tr>\n",
       "      <th>2_102</th>\n",
       "      <td>59.14</td>\n",
       "      <td>2</td>\n",
       "      <td>2022-04-30 22:30:01.281734</td>\n",
       "      <td>s_201777</td>\n",
       "      <td>c_7865</td>\n",
       "      <td>1027</td>\n",
       "      <td>60736.78</td>\n",
       "    </tr>\n",
       "    <tr>\n",
       "      <th>2_209</th>\n",
       "      <td>69.99</td>\n",
       "      <td>2</td>\n",
       "      <td>2021-06-24 04:19:29.835891</td>\n",
       "      <td>s_52962</td>\n",
       "      <td>c_6941</td>\n",
       "      <td>814</td>\n",
       "      <td>56971.86</td>\n",
       "    </tr>\n",
       "  </tbody>\n",
       "</table>\n",
       "</div>"
      ],
      "text/plain": [
       "          price  categ                       date session_id client_id  \\\n",
       "id_prod                                                                  \n",
       "2_159    145.99      2 2023-02-03 00:00:21.794867   s_336117    c_6135   \n",
       "2_135     68.99      2 2022-09-26 09:12:23.639931   s_273739     c_998   \n",
       "2_112     67.57      2 2021-07-07 22:08:01.757045    s_59270     c_826   \n",
       "2_102     59.14      2 2022-04-30 22:30:01.281734   s_201777    c_7865   \n",
       "2_209     69.99      2 2021-06-24 04:19:29.835891    s_52962    c_6941   \n",
       "\n",
       "         nb vente  CA par produit  \n",
       "id_prod                            \n",
       "2_159         650        94893.50  \n",
       "2_135        1005        69334.95  \n",
       "2_112         968        65407.76  \n",
       "2_102        1027        60736.78  \n",
       "2_209         814        56971.86  "
      ]
     },
     "execution_count": 308,
     "metadata": {},
     "output_type": "execute_result"
    }
   ],
   "source": [
    "df_uniq[df_uniq.index.isin(df_uniq_top5.index)].sort_values(by='CA par produit', ascending=False)"
   ]
  },
  {
   "cell_type": "markdown",
   "metadata": {},
   "source": [
    "#### Top des références produits qui font le moins de profits"
   ]
  },
  {
   "cell_type": "code",
   "execution_count": 309,
   "metadata": {},
   "outputs": [
    {
     "data": {
      "text/html": [
       "<div>\n",
       "<style scoped>\n",
       "    .dataframe tbody tr th:only-of-type {\n",
       "        vertical-align: middle;\n",
       "    }\n",
       "\n",
       "    .dataframe tbody tr th {\n",
       "        vertical-align: top;\n",
       "    }\n",
       "\n",
       "    .dataframe thead th {\n",
       "        text-align: right;\n",
       "    }\n",
       "</style>\n",
       "<table border=\"1\" class=\"dataframe\">\n",
       "  <thead>\n",
       "    <tr style=\"text-align: right;\">\n",
       "      <th></th>\n",
       "      <th>price</th>\n",
       "      <th>categ</th>\n",
       "      <th>date</th>\n",
       "      <th>session_id</th>\n",
       "      <th>client_id</th>\n",
       "      <th>nb vente</th>\n",
       "      <th>CA par produit</th>\n",
       "    </tr>\n",
       "    <tr>\n",
       "      <th>id_prod</th>\n",
       "      <th></th>\n",
       "      <th></th>\n",
       "      <th></th>\n",
       "      <th></th>\n",
       "      <th></th>\n",
       "      <th></th>\n",
       "      <th></th>\n",
       "    </tr>\n",
       "  </thead>\n",
       "  <tbody>\n",
       "    <tr>\n",
       "      <th>0_1539</th>\n",
       "      <td>0.99</td>\n",
       "      <td>0</td>\n",
       "      <td>2021-06-01 08:53:24.523722</td>\n",
       "      <td>s_42501</td>\n",
       "      <td>c_881</td>\n",
       "      <td>1</td>\n",
       "      <td>0.99</td>\n",
       "    </tr>\n",
       "    <tr>\n",
       "      <th>0_1284</th>\n",
       "      <td>1.38</td>\n",
       "      <td>0</td>\n",
       "      <td>2021-04-14 13:13:06.560397</td>\n",
       "      <td>s_20477</td>\n",
       "      <td>c_1551</td>\n",
       "      <td>1</td>\n",
       "      <td>1.38</td>\n",
       "    </tr>\n",
       "    <tr>\n",
       "      <th>0_1653</th>\n",
       "      <td>0.99</td>\n",
       "      <td>0</td>\n",
       "      <td>2022-01-08 03:36:48.375653</td>\n",
       "      <td>s_146634</td>\n",
       "      <td>c_5974</td>\n",
       "      <td>2</td>\n",
       "      <td>1.98</td>\n",
       "    </tr>\n",
       "    <tr>\n",
       "      <th>0_1601</th>\n",
       "      <td>1.99</td>\n",
       "      <td>0</td>\n",
       "      <td>2021-03-07 18:55:24.042724</td>\n",
       "      <td>s_3132</td>\n",
       "      <td>c_1125</td>\n",
       "      <td>1</td>\n",
       "      <td>1.99</td>\n",
       "    </tr>\n",
       "    <tr>\n",
       "      <th>0_541</th>\n",
       "      <td>1.99</td>\n",
       "      <td>0</td>\n",
       "      <td>2021-03-08 23:45:11.524853</td>\n",
       "      <td>s_3676</td>\n",
       "      <td>c_1869</td>\n",
       "      <td>1</td>\n",
       "      <td>1.99</td>\n",
       "    </tr>\n",
       "  </tbody>\n",
       "</table>\n",
       "</div>"
      ],
      "text/plain": [
       "         price  categ                       date session_id client_id  \\\n",
       "id_prod                                                                 \n",
       "0_1539    0.99      0 2021-06-01 08:53:24.523722    s_42501     c_881   \n",
       "0_1284    1.38      0 2021-04-14 13:13:06.560397    s_20477    c_1551   \n",
       "0_1653    0.99      0 2022-01-08 03:36:48.375653   s_146634    c_5974   \n",
       "0_1601    1.99      0 2021-03-07 18:55:24.042724     s_3132    c_1125   \n",
       "0_541     1.99      0 2021-03-08 23:45:11.524853     s_3676    c_1869   \n",
       "\n",
       "         nb vente  CA par produit  \n",
       "id_prod                            \n",
       "0_1539          1            0.99  \n",
       "0_1284          1            1.38  \n",
       "0_1653          2            1.98  \n",
       "0_1601          1            1.99  \n",
       "0_541           1            1.99  "
      ]
     },
     "execution_count": 309,
     "metadata": {},
     "output_type": "execute_result"
    }
   ],
   "source": [
    "df_uniq[df_uniq.index.isin(df_uniq_flop5.index)].sort_values(by='CA par produit', ascending=True)"
   ]
  },
  {
   "cell_type": "markdown",
   "metadata": {},
   "source": [
    "## **3- Profil Clients**"
   ]
  },
  {
   "cell_type": "markdown",
   "metadata": {},
   "source": [
    "Je supprime les client_id en double"
   ]
  },
  {
   "cell_type": "code",
   "execution_count": 127,
   "metadata": {},
   "outputs": [],
   "source": [
    "df3_client_u = df3[~df3[\"client_id\"].duplicated(keep='first')]"
   ]
  },
  {
   "cell_type": "markdown",
   "metadata": {},
   "source": [
    "### **Répartition des clients par sexe**"
   ]
  },
  {
   "cell_type": "code",
   "execution_count": 140,
   "metadata": {},
   "outputs": [
    {
     "data": {
      "text/plain": [
       "<AxesSubplot:ylabel='sex'>"
      ]
     },
     "execution_count": 140,
     "metadata": {},
     "output_type": "execute_result"
    },
    {
     "data": {
      "image/png": "[encoded data removed]",
      "text/plain": [
       "<Figure size 432x288 with 1 Axes>"
      ]
     },
     "metadata": {},
     "output_type": "display_data"
    }
   ],
   "source": [
    "\n",
    "df3_client_u[\"sex\"].value_counts().plot.pie( autopct='%1.1f%%')"
   ]
  },
  {
   "cell_type": "markdown",
   "metadata": {},
   "source": [
    "La répartition Homme/Femme est à peu près égale bien que les femmes soient en majorité"
   ]
  },
  {
   "cell_type": "code",
   "execution_count": 141,
   "metadata": {},
   "outputs": [
    {
     "data": {
      "text/plain": [
       "43.26767441860465"
      ]
     },
     "execution_count": 141,
     "metadata": {},
     "output_type": "execute_result"
    }
   ],
   "source": [
    "df3_client_u[\"Age\"].mean()"
   ]
  },
  {
   "cell_type": "markdown",
   "metadata": {},
   "source": [
    "L'age moyen d'un client est de 43 ans"
   ]
  },
  {
   "cell_type": "markdown",
   "metadata": {},
   "source": [
    "### **Répartition des clients par tranche d'âge**"
   ]
  },
  {
   "cell_type": "code",
   "execution_count": null,
   "metadata": {
    "jupyter": {
     "source_hidden": true
    }
   },
   "outputs": [],
   "source": [
    "bins= [17,25,40,60,93]\n",
    "labels= [\"17-24\", \"25-39\", \"40-59\",\">60\"]\n",
    "\n",
    "df3_client_u['AgeGroup'] = pd.cut(df3_client_u['Age'], bins=bins, labels=labels, right=False)"
   ]
  },
  {
   "cell_type": "code",
   "execution_count": 138,
   "metadata": {},
   "outputs": [],
   "source": [
    "age= df3_client_u.AgeGroup.dropna().unique().tolist()\n",
    "age.sort()\n",
    "lst_age =[]\n",
    "for x in age:\n",
    " lst_age.append(df3_client_u.AgeGroup[df3_client_u.AgeGroup == x].count())"
   ]
  },
  {
   "cell_type": "code",
   "execution_count": 152,
   "metadata": {
    "jupyter": {
     "source_hidden": true
    }
   },
   "outputs": [
    {
     "data": {
      "image/png": "[encoded data removed]",
      "text/plain": [
       "<Figure size 432x288 with 1 Axes>"
      ]
     },
     "metadata": {},
     "output_type": "display_data"
    }
   ],
   "source": [
    "# Pie chart, where the slices will be ordered and plotted counter-clockwise:\n",
    "labels = age\n",
    "sizes = [lst_age[0],\n",
    "       lst_age[1],\n",
    "        lst_age[2],\n",
    "        lst_age[3]]\n",
    "explode = ( 0.0, 0.0, 0.0, 0.0)  # only \"explode\" the 2nd slice (i.e. 'Hogs')\n",
    "\n",
    "fig1, ax1 = plt.subplots()\n",
    "\n",
    "def func(pct, allvals):\n",
    "    absolute = float(round(pct/100.*sum(allvals) ,2) )\n",
    "    return \"{:.1f}%\\n({:.0f} )\".format(pct, absolute)\n",
    "ax1.pie(sizes, explode=explode, labels=labels, autopct=lambda pct: func(pct, lst_age),\n",
    "        shadow=True, startangle=90)\n",
    "ax1.axis('equal')  # Equal aspect ratio ensures that pie is drawn as a circle.\n",
    "\n",
    "plt.show()"
   ]
  },
  {
   "cell_type": "markdown",
   "metadata": {},
   "source": [
    "Les personnes âgés de 25 à 59 ans représentent 65% de la clientèle. Les jeunes et les personnes âgées représentent quant à eux le tiers restant."
   ]
  },
  {
   "cell_type": "markdown",
   "metadata": {},
   "source": [
    "### **Répartition du CA par tranche d'âge**"
   ]
  },
  {
   "cell_type": "code",
   "execution_count": 125,
   "metadata": {
    "jupyter": {
     "source_hidden": true
    }
   },
   "outputs": [],
   "source": [
    "age= df3.AgeGroup.dropna().unique().tolist()\n",
    "lst_age =[]\n",
    "for x in age:\n",
    " lst_age.append(df3.price[df3.AgeGroup == x].sum())"
   ]
  },
  {
   "cell_type": "code",
   "execution_count": 126,
   "metadata": {
    "jupyter": {
     "source_hidden": true
    }
   },
   "outputs": [
    {
     "data": {
      "text/plain": [
       "Text(0.5, 0.98, \"Répartition du CA par Tranche d'âge\")"
      ]
     },
     "execution_count": 126,
     "metadata": {},
     "output_type": "execute_result"
    },
    {
     "data": {
      "image/png": "[encoded data removed]",
      "text/plain": [
       "<Figure size 864x432 with 1 Axes>"
      ]
     },
     "metadata": {
      "needs_background": "light"
     },
     "output_type": "display_data"
    }
   ],
   "source": [
    "names = age\n",
    "values = lst_age\n",
    "def tonnes(x, pos):\n",
    "    \"\"\"The two args are the value and tick position.\"\"\"\n",
    "    return '{:1.1f} '.format(x)\n",
    "fig, axs = plt.subplots(1, figsize=(12, 6))\n",
    "axs.yaxis.set_major_formatter(tonnes)\n",
    "axs.bar(names, values)\n",
    "\n",
    "totals = []\n",
    "\n",
    "# find the values and append to list\n",
    "for i in axs.patches:\n",
    "    totals.append(i.get_height())\n",
    "# set individual bar lables using above list\n",
    "total = sum(totals)\n",
    "# set individual bar lables using above list\n",
    "for i in axs.patches:\n",
    "    \n",
    "    # get_x pulls left or right; get_height pushes up or down\n",
    "    axs.text(i.get_x()+.12, i.get_height()-3, \\\n",
    "            str(round((i.get_height()/(df3.price.sum() ))*100, 2))+'%', fontsize=22,\n",
    "                color='black')\n",
    "fig.suptitle(\"Répartition du CA par Tranche d'âge\")"
   ]
  },
  {
   "cell_type": "markdown",
   "metadata": {},
   "source": [
    "Les clients âgés de 40 à 59 ans représentent la plus grosse part du CA et vient ensuite ceux âgés de 25 à 39 ans."
   ]
  },
  {
   "cell_type": "markdown",
   "metadata": {},
   "source": [
    "### Evolution du CA par mois et par Sexe avec une moyenne mobile de 15 jours"
   ]
  },
  {
   "cell_type": "code",
   "execution_count": 576,
   "metadata": {},
   "outputs": [],
   "source": [
    "df_f_CA = df3[\"price\"][df3[\"sex\"] == 'f'].resample('D').sum()\n",
    "df_m_CA = df3[\"price\"][df3[\"sex\"] == 'm'].resample('D').sum()"
   ]
  },
  {
   "cell_type": "code",
   "execution_count": 577,
   "metadata": {},
   "outputs": [
    {
     "data": {
      "text/plain": [
       "Text(0.5, 1.0, 'Evolution du CA par Genre')"
      ]
     },
     "execution_count": 577,
     "metadata": {},
     "output_type": "execute_result"
    },
    {
     "data": {
      "image/png": "[encoded data removed]",
      "text/plain": [
       "<Figure size 1440x504 with 1 Axes>"
      ]
     },
     "metadata": {
      "needs_background": "light"
     },
     "output_type": "display_data"
    }
   ],
   "source": [
    "df_f_CA.rolling(15).mean().plot(kind='line', subplots=False,figsize=(20,7))\n",
    "df_m_CA.rolling(15).mean().plot(kind='line', subplots=False,figsize=(20,7))\n",
    "plt.ylabel(\"Chiffre d'affaires\")\n",
    "plt.legend([\"Femme\",\"Homme\"])\n",
    "plt.title(\"Evolution du CA par Genre\")"
   ]
  },
  {
   "cell_type": "markdown",
   "metadata": {},
   "source": [
    "Ici l'on peut voir une saisonalité haussière pour le mois de Janvier."
   ]
  },
  {
   "cell_type": "markdown",
   "metadata": {},
   "source": [
    "## Courbe de LORENZ - Répartition du CA par Genre"
   ]
  },
  {
   "cell_type": "code",
   "execution_count": 402,
   "metadata": {
    "jupyter": {
     "source_hidden": true
    }
   },
   "outputs": [
    {
     "data": {
      "image/png": "[encoded data removed]",
      "text/plain": [
       "<Figure size 432x288 with 1 Axes>"
      ]
     },
     "metadata": {
      "needs_background": "light"
     },
     "output_type": "display_data"
    }
   ],
   "source": [
    "import numpy as np\n",
    "\n",
    "\n",
    "depF = df3.price[df3[\"sex\"] == 'f'].cumsum()\n",
    "depM = df3.price[df3[\"sex\"] == 'm'].cumsum()\n",
    "\n",
    "n = len(depM)\n",
    "nF = len(depF)\n",
    "lorenzF = np.cumsum(np.sort(depF)) / depF.sum()\n",
    "lorenzF = np.append([0],lorenzF) # La courbe de Lorenz commence à 0\n",
    "\n",
    "lorenzM = np.cumsum(np.sort(depM)) / depM.sum()\n",
    "lorenzM = np.append([0],lorenzM) # La courbe de Lorenz commence à 0\n",
    "\n",
    "plt.axes().axis('equal')\n",
    "xaxis = np.linspace(0-1/nF,1+1/nF,nF+1) #Il y a un segment de taille n pour chaque individu, plus 1 segment supplémentaire d'ordonnée 0. Le premier segment commence à 0-1/n, et le dernier termine à 1+1/n.\n",
    "plt.plot(xaxis,lorenzF,drawstyle='steps-post')\n",
    "xaxisM = np.linspace(0-1/n,1+1/n,n+1)\n",
    "plt.plot(xaxisM,lorenzM,drawstyle='steps-post',label=\"Homme\")\n",
    "plt.legend([\"Femme\",\"Homme\"])\n",
    "plt.title(\"Courbe de Lorenz : répartition du CA par genre\")\n",
    "\n",
    "\n",
    "plt.show()"
   ]
  },
  {
   "cell_type": "markdown",
   "metadata": {},
   "source": [
    "### Indice de Gini :"
   ]
  },
  {
   "cell_type": "code",
   "execution_count": 585,
   "metadata": {
    "jupyter": {
     "source_hidden": true
    }
   },
   "outputs": [
    {
     "name": "stdout",
     "output_type": "stream",
     "text": [
      "L'indice de Gini est de : 0.335\n"
     ]
    }
   ],
   "source": [
    "AUC = (lorenzF.sum() -lorenzF[-1]/2 -lorenzF[0]/2)/n # Surface sous la courbe de Lorenz. Le premier segment (lorenz[0]) est à moitié en dessous de 0, on le coupe donc en 2, on fait de même pour le dernier segment lorenz[-1] qui est à moitié au dessus de 1.\n",
    "S = 0.5 - AUC # surface entre la première bissectrice et le courbe de Lorenz\n",
    "gini = 2*S\n",
    "print(f\"L'indice de Gini est de : {round(gini,3)}\")"
   ]
  },
  {
   "cell_type": "markdown",
   "metadata": {},
   "source": [
    "L'indice de Gini et la courbe de Lorenz nous montrent que la répartition du CA global n'est pas égale, regardons le panier clients pour en savoir plus sur cette inégalité."
   ]
  },
  {
   "cell_type": "markdown",
   "metadata": {},
   "source": [
    "### Prétraitement pour calculer le panier total des clients"
   ]
  },
  {
   "cell_type": "markdown",
   "metadata": {},
   "source": [
    "Je mets en index le client_id"
   ]
  },
  {
   "cell_type": "code",
   "execution_count": 84,
   "metadata": {},
   "outputs": [],
   "source": [
    "df3_ind_client= df3.set_index(df3[\"client_id\"])"
   ]
  },
  {
   "cell_type": "markdown",
   "metadata": {},
   "source": [
    "Je crée une colonne **nb_achats_client** pour calculer le panier total de chaque client"
   ]
  },
  {
   "cell_type": "code",
   "execution_count": 85,
   "metadata": {},
   "outputs": [],
   "source": [
    "df3_ind_client[\"nb_achats_client\"] = df3_ind_client.index.value_counts()"
   ]
  },
  {
   "cell_type": "markdown",
   "metadata": {},
   "source": [
    "Ensuite, je crée un dataframe avec comme index **client_id** mais cette fois ci unique et je calcule le panier client"
   ]
  },
  {
   "cell_type": "code",
   "execution_count": 86,
   "metadata": {},
   "outputs": [],
   "source": [
    "lst_cln = df3_ind_client.index.unique()\n",
    "panier=[]\n",
    "for i in lst_cln:\n",
    "   val_list = {\"client_id\" : i,\n",
    "                \"panier_client\" : df3_ind_client[\"price\"][df3_ind_client.index == i].sum()\n",
    "               }\n",
    "   panier.append(val_list)\n"
   ]
  },
  {
   "cell_type": "code",
   "execution_count": 87,
   "metadata": {},
   "outputs": [],
   "source": [
    "df3_panier = pd.DataFrame(data=panier)\n",
    "df3_panier.set_index('client_id',inplace=True)"
   ]
  },
  {
   "cell_type": "code",
   "execution_count": 88,
   "metadata": {},
   "outputs": [],
   "source": [
    "df3_uniq_custom = df3_ind_client[~df3_ind_client.index.duplicated(keep='first')]"
   ]
  },
  {
   "cell_type": "markdown",
   "metadata": {},
   "source": [
    "J'ajoute la colonne **panier_client**"
   ]
  },
  {
   "cell_type": "code",
   "execution_count": 89,
   "metadata": {},
   "outputs": [
    {
     "name": "stderr",
     "output_type": "stream",
     "text": [
      "<ipython-input-89-95fbb961cffd>:1: SettingWithCopyWarning: \n",
      "A value is trying to be set on a copy of a slice from a DataFrame.\n",
      "Try using .loc[row_indexer,col_indexer] = value instead\n",
      "\n",
      "See the caveats in the documentation: https://pandas.pydata.org/pandas-docs/stable/user_guide/indexing.html#returning-a-view-versus-a-copy\n",
      "  df3_uniq_custom[\"panier_client\"] = df3_panier['panier_client']\n"
     ]
    }
   ],
   "source": [
    "df3_uniq_custom[\"panier_client\"] = df3_panier['panier_client']"
   ]
  },
  {
   "cell_type": "code",
   "execution_count": 652,
   "metadata": {},
   "outputs": [
    {
     "data": {
      "text/html": [
       "<div>\n",
       "<style scoped>\n",
       "    .dataframe tbody tr th:only-of-type {\n",
       "        vertical-align: middle;\n",
       "    }\n",
       "\n",
       "    .dataframe tbody tr th {\n",
       "        vertical-align: top;\n",
       "    }\n",
       "\n",
       "    .dataframe thead th {\n",
       "        text-align: right;\n",
       "    }\n",
       "</style>\n",
       "<table border=\"1\" class=\"dataframe\">\n",
       "  <thead>\n",
       "    <tr style=\"text-align: right;\">\n",
       "      <th></th>\n",
       "      <th>price</th>\n",
       "      <th>categ</th>\n",
       "      <th>session_id</th>\n",
       "      <th>client_id</th>\n",
       "      <th>id_prod</th>\n",
       "      <th>sex</th>\n",
       "      <th>birth</th>\n",
       "      <th>Age</th>\n",
       "      <th>nb_achats_client</th>\n",
       "      <th>panier_client</th>\n",
       "    </tr>\n",
       "    <tr>\n",
       "      <th>client_id</th>\n",
       "      <th></th>\n",
       "      <th></th>\n",
       "      <th></th>\n",
       "      <th></th>\n",
       "      <th></th>\n",
       "      <th></th>\n",
       "      <th></th>\n",
       "      <th></th>\n",
       "      <th></th>\n",
       "      <th></th>\n",
       "    </tr>\n",
       "  </thead>\n",
       "  <tbody>\n",
       "    <tr>\n",
       "      <th>c_6389</th>\n",
       "      <td>19.99</td>\n",
       "      <td>0</td>\n",
       "      <td>s_168213</td>\n",
       "      <td>c_6389</td>\n",
       "      <td>0_1421</td>\n",
       "      <td>f</td>\n",
       "      <td>1991.0</td>\n",
       "      <td>31.0</td>\n",
       "      <td>229</td>\n",
       "      <td>2990.67</td>\n",
       "    </tr>\n",
       "    <tr>\n",
       "      <th>c_8364</th>\n",
       "      <td>19.99</td>\n",
       "      <td>0</td>\n",
       "      <td>s_299590</td>\n",
       "      <td>c_8364</td>\n",
       "      <td>0_1421</td>\n",
       "      <td>m</td>\n",
       "      <td>1973.0</td>\n",
       "      <td>49.0</td>\n",
       "      <td>109</td>\n",
       "      <td>1658.27</td>\n",
       "    </tr>\n",
       "    <tr>\n",
       "      <th>c_3544</th>\n",
       "      <td>19.99</td>\n",
       "      <td>0</td>\n",
       "      <td>s_92304</td>\n",
       "      <td>c_3544</td>\n",
       "      <td>0_1421</td>\n",
       "      <td>f</td>\n",
       "      <td>1967.0</td>\n",
       "      <td>54.0</td>\n",
       "      <td>148</td>\n",
       "      <td>2338.49</td>\n",
       "    </tr>\n",
       "    <tr>\n",
       "      <th>c_1025</th>\n",
       "      <td>19.99</td>\n",
       "      <td>0</td>\n",
       "      <td>s_325369</td>\n",
       "      <td>c_1025</td>\n",
       "      <td>0_1421</td>\n",
       "      <td>m</td>\n",
       "      <td>1984.0</td>\n",
       "      <td>39.0</td>\n",
       "      <td>255</td>\n",
       "      <td>3602.72</td>\n",
       "    </tr>\n",
       "    <tr>\n",
       "      <th>c_2298</th>\n",
       "      <td>19.99</td>\n",
       "      <td>0</td>\n",
       "      <td>s_70071</td>\n",
       "      <td>c_2298</td>\n",
       "      <td>0_1421</td>\n",
       "      <td>m</td>\n",
       "      <td>1972.0</td>\n",
       "      <td>49.0</td>\n",
       "      <td>293</td>\n",
       "      <td>3627.57</td>\n",
       "    </tr>\n",
       "    <tr>\n",
       "      <th>...</th>\n",
       "      <td>...</td>\n",
       "      <td>...</td>\n",
       "      <td>...</td>\n",
       "      <td>...</td>\n",
       "      <td>...</td>\n",
       "      <td>...</td>\n",
       "      <td>...</td>\n",
       "      <td>...</td>\n",
       "      <td>...</td>\n",
       "      <td>...</td>\n",
       "    </tr>\n",
       "    <tr>\n",
       "      <th>c_1232</th>\n",
       "      <td>19.85</td>\n",
       "      <td>0</td>\n",
       "      <td>s_184472</td>\n",
       "      <td>c_1232</td>\n",
       "      <td>0_142</td>\n",
       "      <td>f</td>\n",
       "      <td>1960.0</td>\n",
       "      <td>62.0</td>\n",
       "      <td>2</td>\n",
       "      <td>39.70</td>\n",
       "    </tr>\n",
       "    <tr>\n",
       "      <th>c_6837</th>\n",
       "      <td>57.99</td>\n",
       "      <td>2</td>\n",
       "      <td>s_278304</td>\n",
       "      <td>c_6837</td>\n",
       "      <td>2_181</td>\n",
       "      <td>f</td>\n",
       "      <td>1995.0</td>\n",
       "      <td>27.0</td>\n",
       "      <td>2</td>\n",
       "      <td>115.98</td>\n",
       "    </tr>\n",
       "    <tr>\n",
       "      <th>c_5962</th>\n",
       "      <td>13.99</td>\n",
       "      <td>1</td>\n",
       "      <td>s_85267</td>\n",
       "      <td>c_5962</td>\n",
       "      <td>1_367</td>\n",
       "      <td>f</td>\n",
       "      <td>1997.0</td>\n",
       "      <td>24.0</td>\n",
       "      <td>1</td>\n",
       "      <td>13.99</td>\n",
       "    </tr>\n",
       "    <tr>\n",
       "      <th>c_7739</th>\n",
       "      <td>68.99</td>\n",
       "      <td>2</td>\n",
       "      <td>s_289331</td>\n",
       "      <td>c_7739</td>\n",
       "      <td>2_163</td>\n",
       "      <td>m</td>\n",
       "      <td>1997.0</td>\n",
       "      <td>25.0</td>\n",
       "      <td>3</td>\n",
       "      <td>206.97</td>\n",
       "    </tr>\n",
       "    <tr>\n",
       "      <th>c_7089</th>\n",
       "      <td>63.99</td>\n",
       "      <td>2</td>\n",
       "      <td>s_65192</td>\n",
       "      <td>c_7089</td>\n",
       "      <td>2_101</td>\n",
       "      <td>m</td>\n",
       "      <td>2002.0</td>\n",
       "      <td>19.0</td>\n",
       "      <td>4</td>\n",
       "      <td>255.96</td>\n",
       "    </tr>\n",
       "  </tbody>\n",
       "</table>\n",
       "<p>8598 rows × 10 columns</p>\n",
       "</div>"
      ],
      "text/plain": [
       "           price categ session_id client_id id_prod sex   birth   Age  \\\n",
       "client_id                                                               \n",
       "c_6389     19.99     0   s_168213    c_6389  0_1421   f  1991.0  31.0   \n",
       "c_8364     19.99     0   s_299590    c_8364  0_1421   m  1973.0  49.0   \n",
       "c_3544     19.99     0    s_92304    c_3544  0_1421   f  1967.0  54.0   \n",
       "c_1025     19.99     0   s_325369    c_1025  0_1421   m  1984.0  39.0   \n",
       "c_2298     19.99     0    s_70071    c_2298  0_1421   m  1972.0  49.0   \n",
       "...          ...   ...        ...       ...     ...  ..     ...   ...   \n",
       "c_1232     19.85     0   s_184472    c_1232   0_142   f  1960.0  62.0   \n",
       "c_6837     57.99     2   s_278304    c_6837   2_181   f  1995.0  27.0   \n",
       "c_5962     13.99     1    s_85267    c_5962   1_367   f  1997.0  24.0   \n",
       "c_7739     68.99     2   s_289331    c_7739   2_163   m  1997.0  25.0   \n",
       "c_7089     63.99     2    s_65192    c_7089   2_101   m  2002.0  19.0   \n",
       "\n",
       "           nb_achats_client  panier_client  \n",
       "client_id                                   \n",
       "c_6389                  229        2990.67  \n",
       "c_8364                  109        1658.27  \n",
       "c_3544                  148        2338.49  \n",
       "c_1025                  255        3602.72  \n",
       "c_2298                  293        3627.57  \n",
       "...                     ...            ...  \n",
       "c_1232                    2          39.70  \n",
       "c_6837                    2         115.98  \n",
       "c_5962                    1          13.99  \n",
       "c_7739                    3         206.97  \n",
       "c_7089                    4         255.96  \n",
       "\n",
       "[8598 rows x 10 columns]"
      ]
     },
     "execution_count": 652,
     "metadata": {},
     "output_type": "execute_result"
    }
   ],
   "source": [
    "df3_uniq_custom"
   ]
  },
  {
   "cell_type": "markdown",
   "metadata": {},
   "source": [
    "### Top et Flop des paniers clients"
   ]
  },
  {
   "cell_type": "code",
   "execution_count": 649,
   "metadata": {},
   "outputs": [
    {
     "data": {
      "text/plain": [
       "client_id\n",
       "c_8140         8.30\n",
       "c_8114         9.98\n",
       "c_240         11.06\n",
       "c_4648        11.20\n",
       "c_2793        12.99\n",
       "            ...    \n",
       "c_2899      5214.05\n",
       "c_3454    111766.71\n",
       "c_6714    149783.75\n",
       "c_4958    282654.61\n",
       "c_1609    312755.08\n",
       "Name: panier_client, Length: 8598, dtype: float64"
      ]
     },
     "execution_count": 649,
     "metadata": {},
     "output_type": "execute_result"
    }
   ],
   "source": [
    "df3_uniq_custom[\"panier_client\"].sort_values()"
   ]
  },
  {
   "cell_type": "markdown",
   "metadata": {},
   "source": [
    "Ici, on voit qu'il y a 4 clients avec un panier anormalement élevé (>100 000 euros) sur 2 ans."
   ]
  },
  {
   "cell_type": "markdown",
   "metadata": {},
   "source": [
    "Nombre de livres achetés en moyenne par ces gros clients : "
   ]
  },
  {
   "cell_type": "code",
   "execution_count": 197,
   "metadata": {},
   "outputs": [
    {
     "data": {
      "text/plain": [
       "10513.710901269564"
      ]
     },
     "execution_count": 197,
     "metadata": {},
     "output_type": "execute_result"
    }
   ],
   "source": [
    "df3_uniq_custom[\"panier_client\"].sort_values().tail(4).mean() / df3_uniq_custom[\"price\"].mean()"
   ]
  },
  {
   "cell_type": "markdown",
   "metadata": {},
   "source": [
    "Ce qui équivaut à acheter environ 5000 livres par an. On peut supposer que ce sont des grossistes."
   ]
  },
  {
   "cell_type": "markdown",
   "metadata": {},
   "source": [
    "Pour l'analyse du profil client, il serait préférable de les considérer comme des outliers. Mais avant, j'utilise le Z-Score pour m'en assurer."
   ]
  },
  {
   "cell_type": "code",
   "execution_count": 235,
   "metadata": {},
   "outputs": [
    {
     "name": "stdout",
     "output_type": "stream",
     "text": [
      "La moyenne de price est :  1374.5\n",
      "L'écart type de price est :  5175.53\n"
     ]
    }
   ],
   "source": [
    "# Prix moyen\n",
    "mean = np.mean(df3_uniq_custom[\"panier_client\"])\n",
    "# Ecart type du prix\n",
    "std = np.std(df3_uniq_custom[\"panier_client\"])\n",
    "print('La moyenne de price est : ', round(mean,2))\n",
    "print(\"L'écart type de price est : \", round(std,2))"
   ]
  },
  {
   "cell_type": "code",
   "execution_count": 239,
   "metadata": {},
   "outputs": [
    {
     "name": "stdout",
     "output_type": "stream",
     "text": [
      "Le Z-Score de la valeur aberrante 324033.35000000003 est : 62.34\n",
      "Le Z-Score de la valeur aberrante 153598.92 est : 29.41\n",
      "Le Z-Score de la valeur aberrante 113637.93000000001 est : 21.69\n",
      "Le Z-Score de la valeur aberrante 289760.33999999997 est : 55.72\n",
      "\n",
      "Un Z-Score supérieur à 1.5 révèle un outlier.\n",
      "Les valeurs aberrantes dans price sont :  [324033.35000000003, 153598.92, 113637.93000000001, 289760.33999999997]\n"
     ]
    }
   ],
   "source": [
    "threshold = 1.5\n",
    "outlier = []\n",
    "for i in df3_uniq_custom[\"panier_client\"]:\n",
    "    z = (i-mean)/std\n",
    "    if z > threshold:\n",
    "        print(f\"Le Z-Score de la valeur aberrante {i} est : {round(z,2)}\")\n",
    "        outlier.append(i)\n",
    "print(\"\\nUn Z-Score supérieur à 1.5 révèle un outlier.\")\n",
    "print('Les valeurs aberrantes dans price sont : ', outlier)"
   ]
  },
  {
   "cell_type": "markdown",
   "metadata": {},
   "source": [
    "Le Z-Score me confirme que ce sont des outliers, je les supprime."
   ]
  },
  {
   "cell_type": "code",
   "execution_count": 90,
   "metadata": {},
   "outputs": [],
   "source": [
    "df_panier_pt = df3_uniq_custom[df3_uniq_custom[\"panier_client\"] < 5500]"
   ]
  },
  {
   "cell_type": "code",
   "execution_count": 91,
   "metadata": {},
   "outputs": [
    {
     "name": "stderr",
     "output_type": "stream",
     "text": [
      "<ipython-input-91-3e6b4762cd37>:1: SettingWithCopyWarning: \n",
      "A value is trying to be set on a copy of a slice from a DataFrame\n",
      "\n",
      "See the caveats in the documentation: https://pandas.pydata.org/pandas-docs/stable/user_guide/indexing.html#returning-a-view-versus-a-copy\n",
      "  df_panier_pt.dropna(inplace=True)\n"
     ]
    }
   ],
   "source": [
    "df_panier_pt.dropna(inplace=True)"
   ]
  },
  {
   "cell_type": "code",
   "execution_count": 221,
   "metadata": {
    "collapsed": true,
    "jupyter": {
     "outputs_hidden": true
    }
   },
   "outputs": [
    {
     "name": "stderr",
     "output_type": "stream",
     "text": [
      "D:\\Users\\asus\\anaconda3\\lib\\site-packages\\pandas\\core\\generic.py:5168: SettingWithCopyWarning: \n",
      "A value is trying to be set on a copy of a slice from a DataFrame.\n",
      "Try using .loc[row_indexer,col_indexer] = value instead\n",
      "\n",
      "See the caveats in the documentation: https://pandas.pydata.org/pandas-docs/stable/user_guide/indexing.html#returning-a-view-versus-a-copy\n",
      "  self[name] = value\n"
     ]
    }
   ],
   "source": [
    "df_panier_pt.categ = df_panier_pt.categ.astype(\"int64\")"
   ]
  },
  {
   "cell_type": "markdown",
   "metadata": {},
   "source": [
    "# Demandes de Julie"
   ]
  },
  {
   "cell_type": "markdown",
   "metadata": {},
   "source": [
    "## **Le lien entre le genre d’un client et les catégories des livres achetés**"
   ]
  },
  {
   "cell_type": "markdown",
   "metadata": {},
   "source": [
    "### Tableau de Contingence pour analyser la corrélation entre 2 variables qualitatives (sex, categ)"
   ]
  },
  {
   "cell_type": "code",
   "execution_count": 669,
   "metadata": {},
   "outputs": [
    {
     "data": {
      "text/html": [
       "<div>\n",
       "<style scoped>\n",
       "    .dataframe tbody tr th:only-of-type {\n",
       "        vertical-align: middle;\n",
       "    }\n",
       "\n",
       "    .dataframe tbody tr th {\n",
       "        vertical-align: top;\n",
       "    }\n",
       "\n",
       "    .dataframe thead th {\n",
       "        text-align: right;\n",
       "    }\n",
       "</style>\n",
       "<table border=\"1\" class=\"dataframe\">\n",
       "  <thead>\n",
       "    <tr style=\"text-align: right;\">\n",
       "      <th>sex</th>\n",
       "      <th>f</th>\n",
       "      <th>m</th>\n",
       "      <th>Total</th>\n",
       "    </tr>\n",
       "    <tr>\n",
       "      <th>categ</th>\n",
       "      <th></th>\n",
       "      <th></th>\n",
       "      <th></th>\n",
       "    </tr>\n",
       "  </thead>\n",
       "  <tbody>\n",
       "    <tr>\n",
       "      <th>0</th>\n",
       "      <td>2241</td>\n",
       "      <td>2079</td>\n",
       "      <td>4320</td>\n",
       "    </tr>\n",
       "    <tr>\n",
       "      <th>1</th>\n",
       "      <td>1773</td>\n",
       "      <td>1596</td>\n",
       "      <td>3369</td>\n",
       "    </tr>\n",
       "    <tr>\n",
       "      <th>2</th>\n",
       "      <td>464</td>\n",
       "      <td>443</td>\n",
       "      <td>907</td>\n",
       "    </tr>\n",
       "    <tr>\n",
       "      <th>Total</th>\n",
       "      <td>4478</td>\n",
       "      <td>4118</td>\n",
       "      <td>8596</td>\n",
       "    </tr>\n",
       "  </tbody>\n",
       "</table>\n",
       "</div>"
      ],
      "text/plain": [
       "sex       f     m  Total\n",
       "categ                   \n",
       "0      2241  2079   4320\n",
       "1      1773  1596   3369\n",
       "2       464   443    907\n",
       "Total  4478  4118   8596"
      ]
     },
     "execution_count": 669,
     "metadata": {},
     "output_type": "execute_result"
    }
   ],
   "source": [
    "X = \"sex\"\n",
    "Y = \"categ\"\n",
    "cont = df_panier_pt[[X,Y]].pivot_table(index=Y,columns=X,aggfunc=len,margins=True,margins_name=\"Total\")\n",
    "cont"
   ]
  },
  {
   "cell_type": "code",
   "execution_count": 670,
   "metadata": {
    "jupyter": {
     "source_hidden": true
    }
   },
   "outputs": [
    {
     "data": {
      "image/png": "[encoded data removed]",
      "text/plain": [
       "<Figure size 432x288 with 2 Axes>"
      ]
     },
     "metadata": {
      "needs_background": "light"
     },
     "output_type": "display_data"
    }
   ],
   "source": [
    "import seaborn as sns\n",
    "\n",
    "tx = cont.loc[:,[\"Total\"]]\n",
    "ty = cont.loc[[\"Total\"],:]\n",
    "n = len(df_panier_pt)\n",
    "indep = tx.dot(ty) / n\n",
    "\n",
    "c = cont.fillna(0) # On remplace les valeurs nulles par 0\n",
    "measure = (c-indep)**2/indep\n",
    "xi_n = measure.sum().sum()\n",
    "table = measure/xi_n\n",
    "sns.heatmap(table.iloc[:-1,:-1],annot=c.iloc[:-1,:-1])\n",
    "plt.show()"
   ]
  },
  {
   "cell_type": "markdown",
   "metadata": {},
   "source": [
    "### Test d'indépendance de Khi 2 :"
   ]
  },
  {
   "cell_type": "code",
   "execution_count": 671,
   "metadata": {},
   "outputs": [],
   "source": [
    "st_chi2, st_p, st_dof, st_exp = st.chi2_contingency(cont)"
   ]
  },
  {
   "cell_type": "code",
   "execution_count": 672,
   "metadata": {
    "jupyter": {
     "source_hidden": true
    }
   },
   "outputs": [
    {
     "name": "stdout",
     "output_type": "stream",
     "text": [
      "Statistique khi2 : 0.7850138388176434\n",
      "Nombe de degrés de liberté : 6\n",
      "Pvalue : 0.992469480675621\n"
     ]
    }
   ],
   "source": [
    "# Statistique khi2\n",
    "print(f\"Statistique khi2 : {st_chi2}\")\n",
    "\n",
    "# Nombe de degrés de liberté\n",
    "print(f\"Nombe de degrés de liberté : {st_dof}\")\n",
    "\n",
    "# Pvalue : l'unique valeur nécessaire pour prendre notre décision\n",
    "print(f\"Pvalue : {st_p}\" )"
   ]
  },
  {
   "cell_type": "markdown",
   "metadata": {},
   "source": [
    "Ce qui nous intéresse ici, c’est la variable st_p, qui contient la pvalue. Celle-ci est calculée par scipy de la manière suivante :\n",
    "\n",
    "   - Calcul de la stat khi2\n",
    "   - Calcul du nombre de degrés de liberté k\n",
    "   - Calcul de la loi à densité suivie par une loi khi2 à k degrés de liberté\n",
    "   - Confrontation de la stat khi2 calculée avec la loi à densité obtenue\n",
    "\n",
    "L’hypothèse nulle est que les variables sont indépendantes. La p-valeur nous indique quelle probabilité (matérialisée par l’aire sous la courbe de la loi à densité) représente les valeurs encore plus éloignées que celle obtenue."
   ]
  },
  {
   "cell_type": "markdown",
   "metadata": {},
   "source": [
    "Test au seuil de 5%\n",
    "\n",
    "Rejetons l’hypothèse nulle au seuil de 5%, donc pour une pvaleur inférieure à 0.05.\n",
    "\n",
    "Dans notre cas, la pvaleur obtenue par notre échantillon est de 0.99246, ce qui est bien au dessus du seuil fixé. On ne peut donc rejeter l’hypothèse nulle. Les variables **« sex »** et **« categ »** sont indépendantes. "
   ]
  },
  {
   "cell_type": "markdown",
   "metadata": {},
   "source": [
    "## **Lien entre l’âge des clients et le montant total des achats, la fréquence d’achat, la taille du panier moyen et les catégories des livres achetés**"
   ]
  },
  {
   "cell_type": "markdown",
   "metadata": {},
   "source": [
    "Vérifions la tranche d'âge des clients"
   ]
  },
  {
   "cell_type": "code",
   "execution_count": 213,
   "metadata": {},
   "outputs": [
    {
     "data": {
      "text/plain": [
       "client_id\n",
       "c_1590    17.0\n",
       "c_609     17.0\n",
       "c_1692    17.0\n",
       "c_4381    17.0\n",
       "c_7154    17.0\n",
       "          ... \n",
       "c_3218    92.0\n",
       "c_7232    92.0\n",
       "c_577     92.0\n",
       "c_5302    93.0\n",
       "c_8362    93.0\n",
       "Name: Age, Length: 8596, dtype: float64"
      ]
     },
     "execution_count": 213,
     "metadata": {},
     "output_type": "execute_result"
    }
   ],
   "source": [
    "df_panier_pt[\"Age\"].sort_values()"
   ]
  },
  {
   "cell_type": "markdown",
   "metadata": {},
   "source": [
    "Les clients ont entre 17 ans et 93 ans"
   ]
  },
  {
   "cell_type": "markdown",
   "metadata": {},
   "source": [
    "Créons les catégories d'âge (17-24 , 25-39 ,40-59, >60 ) "
   ]
  },
  {
   "cell_type": "code",
   "execution_count": null,
   "metadata": {},
   "outputs": [],
   "source": [
    "bins= [17,25,40,60,93]\n",
    "labels= [\"17-24\", \"25-39\", \"40-59\",\">60\"]\n",
    "\n",
    "df_panier_pt['AgeGroup'] = pd.cut(df_panier_pt['Age'], bins=bins, labels=labels, right=False)"
   ]
  },
  {
   "cell_type": "markdown",
   "metadata": {},
   "source": [
    "### **Répartition des catégories de produits par tranche d'âge**"
   ]
  },
  {
   "cell_type": "markdown",
   "metadata": {},
   "source": [
    "Je créé une liste des catégories par chaque tranche d'âge"
   ]
  },
  {
   "cell_type": "code",
   "execution_count": 173,
   "metadata": {
    "jupyter": {
     "source_hidden": true
    }
   },
   "outputs": [],
   "source": [
    "cat= df3.categ.unique().tolist()\n",
    "age= df3.AgeGroup.dropna().unique().tolist()\n",
    "age.sort()\n",
    "lst_cat1 =[]\n",
    "for x in cat:\n",
    " lst_cat1.append(df3.categ[(df3.categ == x) & (df3.AgeGroup == age[0]) ].count())\n",
    "lst_cat2 =[]\n",
    "for x in cat:\n",
    " lst_cat2.append(df3.categ[(df3.categ == x) & (df3.AgeGroup == age[1]) ].count())\n",
    "lst_cat3 =[]\n",
    "for x in cat:\n",
    " lst_cat3.append(df3.categ[(df3.categ == x) & (df3.AgeGroup == age[2]) ].count())\n",
    "lst_cat4 =[]\n",
    "for x in cat:\n",
    " lst_cat4.append(df3.categ[(df3.categ == x) & (df3.AgeGroup == age[3]) ].count())"
   ]
  },
  {
   "cell_type": "markdown",
   "metadata": {},
   "source": [
    "**Répartition des 17-24 ans par catégorie**"
   ]
  },
  {
   "cell_type": "code",
   "execution_count": 180,
   "metadata": {
    "jupyter": {
     "source_hidden": true
    }
   },
   "outputs": [
    {
     "data": {
      "image/png": "[encoded data removed]",
      "text/plain": [
       "<Figure size 432x288 with 1 Axes>"
      ]
     },
     "metadata": {},
     "output_type": "display_data"
    }
   ],
   "source": [
    "# Pie chart, where the slices will be ordered and plotted counter-clockwise:\n",
    "labels = [\"categ 0\",\"categ 1\",\"categ 2\"]\n",
    "sizes = [lst_cat1[0],\n",
    "       lst_cat1[1],\n",
    "        lst_cat1[2]]\n",
    "explode = ( 0.0, 0.0, 0.0)  # only \"explode\" the 2nd slice (i.e. 'Hogs')\n",
    "\n",
    "fig1, ax1 = plt.subplots()\n",
    "\n",
    "def func(pct, allvals):\n",
    "    absolute = float(round(pct/100.*sum(allvals) ,2) )\n",
    "    return \"{:.1f}%\\n({:.0f})\".format(pct, absolute)\n",
    "ax1.pie(sizes, explode=explode, labels=labels, autopct=lambda pct: func(pct, lst_cat1),\n",
    "        shadow=True, startangle=90)\n",
    "ax1.axis('equal')  # Equal aspect ratio ensures that pie is drawn as a circle.\n",
    "\n",
    "plt.show()"
   ]
  },
  {
   "cell_type": "markdown",
   "metadata": {},
   "source": [
    "**Répartition des 25-39 ans par catégorie**"
   ]
  },
  {
   "cell_type": "code",
   "execution_count": 181,
   "metadata": {
    "jupyter": {
     "source_hidden": true
    }
   },
   "outputs": [
    {
     "data": {
      "image/png": "[encoded data removed]",
      "text/plain": [
       "<Figure size 432x288 with 1 Axes>"
      ]
     },
     "metadata": {},
     "output_type": "display_data"
    }
   ],
   "source": [
    "# Pie chart, where the slices will be ordered and plotted counter-clockwise:\n",
    "labels = [\"categ 0\",\"categ 1\",\"categ 2\"]\n",
    "sizes = [lst_cat2[0],\n",
    "       lst_cat2[1],\n",
    "        lst_cat2[2]]\n",
    "explode = ( 0.0, 0.0, 0.0)  # only \"explode\" the 2nd slice (i.e. 'Hogs')\n",
    "\n",
    "fig1, ax1 = plt.subplots()\n",
    "\n",
    "def func(pct, allvals):\n",
    "    absolute = float(round(pct/100.*sum(allvals) ,2) )\n",
    "    return \"{:.1f}%\\n({:.0f})\".format(pct, absolute)\n",
    "ax1.pie(sizes, explode=explode, labels=labels, autopct=lambda pct: func(pct, lst_cat2),\n",
    "        shadow=True, startangle=90)\n",
    "ax1.axis('equal')  # Equal aspect ratio ensures that pie is drawn as a circle.\n",
    "\n",
    "plt.show()"
   ]
  },
  {
   "cell_type": "markdown",
   "metadata": {},
   "source": [
    "**Répartition des 40-59 ans par catégorie**"
   ]
  },
  {
   "cell_type": "code",
   "execution_count": 182,
   "metadata": {
    "jupyter": {
     "source_hidden": true
    }
   },
   "outputs": [
    {
     "data": {
      "image/png": "[encoded data removed]",
      "text/plain": [
       "<Figure size 432x288 with 1 Axes>"
      ]
     },
     "metadata": {},
     "output_type": "display_data"
    }
   ],
   "source": [
    "# Pie chart, where the slices will be ordered and plotted counter-clockwise:\n",
    "labels = [\"categ 0\",\"categ 1\",\"categ 2\"]\n",
    "sizes = [lst_cat3[0],\n",
    "       lst_cat3[1],\n",
    "        lst_cat3[2]]\n",
    "explode = ( 0.0, 0.0, 0.0)  # only \"explode\" the 2nd slice (i.e. 'Hogs')\n",
    "\n",
    "fig1, ax1 = plt.subplots()\n",
    "\n",
    "def func(pct, allvals):\n",
    "    absolute = float(round(pct/100.*sum(allvals) ,2) )\n",
    "    return \"{:.1f}%\\n({:.0f})\".format(pct, absolute)\n",
    "ax1.pie(sizes, explode=explode, labels=labels, autopct=lambda pct: func(pct, lst_cat3),\n",
    "        shadow=True, startangle=90)\n",
    "ax1.axis('equal')  # Equal aspect ratio ensures that pie is drawn as a circle.\n",
    "\n",
    "plt.show()"
   ]
  },
  {
   "cell_type": "markdown",
   "metadata": {},
   "source": [
    "**Répartition des >60 ans par catégorie**"
   ]
  },
  {
   "cell_type": "code",
   "execution_count": 183,
   "metadata": {
    "jupyter": {
     "source_hidden": true
    }
   },
   "outputs": [
    {
     "data": {
      "image/png": "[encoded data removed]",
      "text/plain": [
       "<Figure size 432x288 with 1 Axes>"
      ]
     },
     "metadata": {},
     "output_type": "display_data"
    }
   ],
   "source": [
    "# Pie chart, where the slices will be ordered and plotted counter-clockwise:\n",
    "labels = [\"categ 0\",\"categ 1\",\"categ 2\"]\n",
    "sizes = [lst_cat4[0],\n",
    "       lst_cat4[1],\n",
    "        lst_cat4[2]]\n",
    "explode = ( 0.0, 0.0, 0.0)  # only \"explode\" the 2nd slice (i.e. 'Hogs')\n",
    "\n",
    "fig1, ax1 = plt.subplots()\n",
    "\n",
    "def func(pct, allvals):\n",
    "    absolute = float(round(pct/100.*sum(allvals) ,2) )\n",
    "    return \"{:.1f}%\\n({:.0f})\".format(pct, absolute)\n",
    "ax1.pie(sizes, explode=explode, labels=labels, autopct=lambda pct: func(pct, lst_cat4),\n",
    "        shadow=True, startangle=90)\n",
    "ax1.axis('equal')  # Equal aspect ratio ensures that pie is drawn as a circle.\n",
    "\n",
    "plt.show()"
   ]
  },
  {
   "cell_type": "markdown",
   "metadata": {},
   "source": [
    "Les jeunes (17-24 ans) achètent en majorité (42%) des produits plus chers appartenant à la catégorie 2."
   ]
  },
  {
   "cell_type": "markdown",
   "metadata": {},
   "source": [
    "### Tableau de Contingence pour analyser la corrélation entre 2 variables qualitatives (Age, categ)"
   ]
  },
  {
   "cell_type": "code",
   "execution_count": 666,
   "metadata": {},
   "outputs": [
    {
     "data": {
      "text/html": [
       "<div>\n",
       "<style scoped>\n",
       "    .dataframe tbody tr th:only-of-type {\n",
       "        vertical-align: middle;\n",
       "    }\n",
       "\n",
       "    .dataframe tbody tr th {\n",
       "        vertical-align: top;\n",
       "    }\n",
       "\n",
       "    .dataframe thead th {\n",
       "        text-align: right;\n",
       "    }\n",
       "</style>\n",
       "<table border=\"1\" class=\"dataframe\">\n",
       "  <thead>\n",
       "    <tr style=\"text-align: right;\">\n",
       "      <th>categ</th>\n",
       "      <th>0</th>\n",
       "      <th>1</th>\n",
       "      <th>2</th>\n",
       "      <th>Total</th>\n",
       "    </tr>\n",
       "    <tr>\n",
       "      <th>AgeGroup</th>\n",
       "      <th></th>\n",
       "      <th></th>\n",
       "      <th></th>\n",
       "      <th></th>\n",
       "    </tr>\n",
       "  </thead>\n",
       "  <tbody>\n",
       "    <tr>\n",
       "      <th>17-24</th>\n",
       "      <td>287</td>\n",
       "      <td>552</td>\n",
       "      <td>514</td>\n",
       "      <td>1353</td>\n",
       "    </tr>\n",
       "    <tr>\n",
       "      <th>25-39</th>\n",
       "      <td>1372</td>\n",
       "      <td>719</td>\n",
       "      <td>365</td>\n",
       "      <td>2456</td>\n",
       "    </tr>\n",
       "    <tr>\n",
       "      <th>40-59</th>\n",
       "      <td>1962</td>\n",
       "      <td>1199</td>\n",
       "      <td>14</td>\n",
       "      <td>3175</td>\n",
       "    </tr>\n",
       "    <tr>\n",
       "      <th>&gt;60</th>\n",
       "      <td>699</td>\n",
       "      <td>897</td>\n",
       "      <td>14</td>\n",
       "      <td>1610</td>\n",
       "    </tr>\n",
       "    <tr>\n",
       "      <th>Total</th>\n",
       "      <td>4320</td>\n",
       "      <td>3367</td>\n",
       "      <td>907</td>\n",
       "      <td>8594</td>\n",
       "    </tr>\n",
       "  </tbody>\n",
       "</table>\n",
       "</div>"
      ],
      "text/plain": [
       "categ        0     1    2  Total\n",
       "AgeGroup                        \n",
       "17-24      287   552  514   1353\n",
       "25-39     1372   719  365   2456\n",
       "40-59     1962  1199   14   3175\n",
       ">60        699   897   14   1610\n",
       "Total     4320  3367  907   8594"
      ]
     },
     "execution_count": 666,
     "metadata": {},
     "output_type": "execute_result"
    }
   ],
   "source": [
    "X = \"AgeGroup\"\n",
    "Y = \"categ\"\n",
    "cont = df_panier_pt[[X,Y]].pivot_table(index=X,columns=Y,aggfunc=len,margins=True,margins_name=\"Total\")\n",
    "cont"
   ]
  },
  {
   "cell_type": "code",
   "execution_count": 667,
   "metadata": {
    "jupyter": {
     "source_hidden": true
    }
   },
   "outputs": [
    {
     "data": {
      "image/png": "[encoded data removed]",
      "text/plain": [
       "<Figure size 432x288 with 2 Axes>"
      ]
     },
     "metadata": {
      "needs_background": "light"
     },
     "output_type": "display_data"
    }
   ],
   "source": [
    "import seaborn as sns\n",
    "\n",
    "tx = cont.loc[:,[\"Total\"]]\n",
    "ty = cont.loc[[\"Total\"],:]\n",
    "n = len(df_panier_pt)\n",
    "indep = tx.dot(ty) / n\n",
    "\n",
    "c = cont.fillna(0) # On remplace les valeurs nulles par 0\n",
    "measure = (c-indep)**2/indep\n",
    "xi_n = measure.sum().sum()\n",
    "table = measure/xi_n\n",
    "sns.heatmap(table.iloc[:-1,:-1],annot=c.iloc[:-1,:-1])\n",
    "plt.show()"
   ]
  },
  {
   "cell_type": "markdown",
   "metadata": {},
   "source": [
    "### Test de Khi 2 : "
   ]
  },
  {
   "cell_type": "code",
   "execution_count": 668,
   "metadata": {
    "jupyter": {
     "source_hidden": true
    }
   },
   "outputs": [
    {
     "name": "stdout",
     "output_type": "stream",
     "text": [
      "Statistique khi2 : 1976.7776821071288\n",
      "Nombe de degrés de liberté : 12\n",
      "Pvalue : 0.0\n"
     ]
    }
   ],
   "source": [
    "st_chi2, st_p, st_dof, st_exp = st.chi2_contingency(cont)\n",
    "\n",
    "# Statistique khi2\n",
    "print(f\"Statistique khi2 : {st_chi2}\")\n",
    "\n",
    "# Nombe de degrés de liberté\n",
    "print(f\"Nombe de degrés de liberté : {st_dof}\")\n",
    "\n",
    "# Pvalue : l'unique valeur nécessaire pour prendre notre décision\n",
    "print(f\"Pvalue : {st_p}\" )"
   ]
  },
  {
   "cell_type": "markdown",
   "metadata": {},
   "source": [
    "L’hypothèse nulle est que les variables sont indépendantes."
   ]
  },
  {
   "cell_type": "markdown",
   "metadata": {},
   "source": [
    "Test au seuil de 5%\n",
    "\n",
    "Rejetons l’hypothèse nulle au seuil de 5%, donc pour une pvaleur inférieure à 0.05.\n",
    "\n",
    "Dans notre cas, la pvaleur obtenue par notre échantillon est de 0.0, ce qui est en dessous du seuil fixé. On peut donc rejeter l’hypothèse nulle. Les variables **« Age »** et **« categ »** ne sont pas indépendantes. "
   ]
  },
  {
   "cell_type": "markdown",
   "metadata": {},
   "source": [
    "On remarque un corrélation entre l'âge et la catégorie de produits achetés. Les jeunes achètent des produits de la catégorie 2. Les catégories sont liées au prix donc il y aura une corrélation entre l'âge et le panier moyen."
   ]
  },
  {
   "cell_type": "code",
   "execution_count": 226,
   "metadata": {},
   "outputs": [
    {
     "data": {
      "text/html": [
       "<div>\n",
       "<style scoped>\n",
       "    .dataframe tbody tr th:only-of-type {\n",
       "        vertical-align: middle;\n",
       "    }\n",
       "\n",
       "    .dataframe tbody tr th {\n",
       "        vertical-align: top;\n",
       "    }\n",
       "\n",
       "    .dataframe thead th {\n",
       "        text-align: right;\n",
       "    }\n",
       "</style>\n",
       "<table border=\"1\" class=\"dataframe\">\n",
       "  <thead>\n",
       "    <tr style=\"text-align: right;\">\n",
       "      <th></th>\n",
       "      <th>price</th>\n",
       "      <th>categ</th>\n",
       "      <th>birth</th>\n",
       "      <th>Age</th>\n",
       "      <th>nb_achats_client</th>\n",
       "      <th>panier_client</th>\n",
       "    </tr>\n",
       "    <tr>\n",
       "      <th>AgeGroup</th>\n",
       "      <th></th>\n",
       "      <th></th>\n",
       "      <th></th>\n",
       "      <th></th>\n",
       "      <th></th>\n",
       "      <th></th>\n",
       "    </tr>\n",
       "  </thead>\n",
       "  <tbody>\n",
       "    <tr>\n",
       "      <th>17-24</th>\n",
       "      <td>22.99</td>\n",
       "      <td>1</td>\n",
       "      <td>2002.0</td>\n",
       "      <td>20.0</td>\n",
       "      <td>30.0</td>\n",
       "      <td>1103.790</td>\n",
       "    </tr>\n",
       "    <tr>\n",
       "      <th>25-39</th>\n",
       "      <td>13.79</td>\n",
       "      <td>0</td>\n",
       "      <td>1989.0</td>\n",
       "      <td>32.0</td>\n",
       "      <td>57.0</td>\n",
       "      <td>1214.865</td>\n",
       "    </tr>\n",
       "    <tr>\n",
       "      <th>40-59</th>\n",
       "      <td>13.11</td>\n",
       "      <td>0</td>\n",
       "      <td>1973.0</td>\n",
       "      <td>48.0</td>\n",
       "      <td>69.0</td>\n",
       "      <td>1028.310</td>\n",
       "    </tr>\n",
       "    <tr>\n",
       "      <th>&gt;60</th>\n",
       "      <td>13.79</td>\n",
       "      <td>1</td>\n",
       "      <td>1954.0</td>\n",
       "      <td>67.0</td>\n",
       "      <td>45.0</td>\n",
       "      <td>741.675</td>\n",
       "    </tr>\n",
       "  </tbody>\n",
       "</table>\n",
       "</div>"
      ],
      "text/plain": [
       "          price  categ   birth   Age  nb_achats_client  panier_client\n",
       "AgeGroup                                                             \n",
       "17-24     22.99      1  2002.0  20.0              30.0       1103.790\n",
       "25-39     13.79      0  1989.0  32.0              57.0       1214.865\n",
       "40-59     13.11      0  1973.0  48.0              69.0       1028.310\n",
       ">60       13.79      1  1954.0  67.0              45.0        741.675"
      ]
     },
     "execution_count": 226,
     "metadata": {},
     "output_type": "execute_result"
    }
   ],
   "source": [
    "df_panier_pt.groupby(by=\"AgeGroup\").median()"
   ]
  },
  {
   "cell_type": "markdown",
   "metadata": {},
   "source": [
    "## **Relation Montant total des achats des clients / Groupe d'Age**"
   ]
  },
  {
   "cell_type": "markdown",
   "metadata": {},
   "source": [
    "On voit ici que les montants ne sont pas très différents d'une catégorie à l'autre.\n",
    "\n",
    "Par contre, les montants des 25-39 sont plus élevés et plus dispersés que ceux des >60. \n",
    "\n",
    "Mais vérifions maintenant cette affirmation par les chiffres, grâce à une modélisation."
   ]
  },
  {
   "cell_type": "code",
   "execution_count": 462,
   "metadata": {},
   "outputs": [
    {
     "data": {
      "image/png": "[encoded data removed]",
      "text/plain": [
       "<Figure size 432x288 with 1 Axes>"
      ]
     },
     "metadata": {
      "needs_background": "light"
     },
     "output_type": "display_data"
    }
   ],
   "source": [
    "X = \"AgeGroup\"\n",
    "Y = \"panier_client\"\n",
    "\n",
    "modalites = df_panier_pt[X].unique().dropna()\n",
    "groupes = []\n",
    "for m in modalites:\n",
    "    groupes.append(df_panier_pt[df_panier_pt[X]==m][Y])\n",
    "\n",
    "# Propriétés graphiques (pas très importantes)    \n",
    "medianprops = {'color':\"black\"}\n",
    "meanprops = {'marker':'o', 'markeredgecolor':'black',\n",
    "            'markerfacecolor':'firebrick'}\n",
    "    \n",
    "plt.boxplot(groupes, labels=modalites, showfliers=False, medianprops=medianprops, \n",
    "            vert=False, patch_artist=True, showmeans=True, meanprops=meanprops)\n",
    "plt.show()"
   ]
  },
  {
   "cell_type": "markdown",
   "metadata": {},
   "source": [
    "### Test de Normalité  (Shapiro-Wilk)"
   ]
  },
  {
   "cell_type": "code",
   "execution_count": 780,
   "metadata": {},
   "outputs": [
    {
     "name": "stdout",
     "output_type": "stream",
     "text": [
      "Statistics=0.904, p=0.000\n",
      "L'échantillon semble ne pas suivre une loi normale (On rejette H0)\n"
     ]
    },
    {
     "name": "stderr",
     "output_type": "stream",
     "text": [
      "D:\\Users\\asus\\anaconda3\\lib\\site-packages\\scipy\\stats\\morestats.py:1681: UserWarning: p-value may not be accurate for N > 5000.\n",
      "  warnings.warn(\"p-value may not be accurate for N > 5000.\")\n"
     ]
    }
   ],
   "source": [
    "# Test de Shapiro-Wilk\n",
    "\n",
    "from scipy.stats import shapiro\n",
    "\n",
    "# Test de Normalité\n",
    "stat, p = shapiro(df_panier_pt['panier_client'])\n",
    "print('Statistics=%.3f, p=%.3f' % (stat, p))\n",
    "# interpretation\n",
    "alpha = 0.05\n",
    "if p > alpha:\n",
    " print(\"L'échantillon semble suivre une loi normale (On ne rejette pas H0)\")\n",
    "else:\n",
    " print(\"L'échantillon semble ne pas suivre une loi normale (On rejette H0)\")"
   ]
  },
  {
   "cell_type": "markdown",
   "metadata": {},
   "source": [
    "Donc j'effectue un test d'ANOVA non paramétrique c.à.d celui de Kruskal Wallis"
   ]
  },
  {
   "cell_type": "code",
   "execution_count": 778,
   "metadata": {},
   "outputs": [
    {
     "name": "stdout",
     "output_type": "stream",
     "text": [
      "Il existe un lien entre le panier client et l'âge (on rejette H0)\n",
      "P-Value : 6.067024336367789e-74\n"
     ]
    }
   ],
   "source": [
    "kstat, pval = st.stats.kruskal(*[group['panier_client'].values for name , group in df_panier_pt.groupby('AgeGroup') ] )\n",
    "alpha = 0.05\n",
    "if p > alpha:\n",
    "\tprint(\"Aucun lien entre le panier_client et l'âge (on ne rejette pas H0)\")\n",
    "else:\n",
    "\tprint(\"Il existe un lien entre le panier client et l'âge (on rejette H0)\")\n",
    "# Récupérer la p-value\n",
    "\n",
    "print(f\"P-Value : {pval}\") # Si pval petit (au moins inférieure à 0.05, alors on peut parler de différence significative)"
   ]
  },
  {
   "cell_type": "markdown",
   "metadata": {},
   "source": [
    "Quel est la force de ce lien ? \n",
    "\n",
    "Il n’y a pas de coefficient de force avec les \n",
    "tests non paramétrique"
   ]
  },
  {
   "cell_type": "markdown",
   "metadata": {},
   "source": [
    "## Test d'ANOVA : (ESSAI POUR CONFIRMER MES PROPOS)"
   ]
  },
  {
   "cell_type": "markdown",
   "metadata": {},
   "source": [
    "Je construis une fonction pouvant calculer le rapport de corrélation "
   ]
  },
  {
   "cell_type": "code",
   "execution_count": 444,
   "metadata": {},
   "outputs": [],
   "source": [
    "def eta_squared(x,y):\n",
    "    moyenne_y = y.mean()\n",
    "    classes = []\n",
    "    for classe in x.unique():\n",
    "        yi_classe = y[x==classe]\n",
    "        classes.append({'ni': len(yi_classe),\n",
    "                        'moyenne_classe': yi_classe.mean()})\n",
    "    SCT = sum([(yj-moyenne_y)**2 for yj in y])\n",
    "    SCE = sum([c['ni']*(c['moyenne_classe']-moyenne_y)**2 for c in classes])\n",
    "    return SCE/SCT\n",
    "    "
   ]
  },
  {
   "cell_type": "code",
   "execution_count": 275,
   "metadata": {},
   "outputs": [
    {
     "data": {
      "text/plain": [
       "0.042136059912782124"
      ]
     },
     "execution_count": 275,
     "metadata": {},
     "output_type": "execute_result"
    }
   ],
   "source": [
    "eta_squared(df_panier_pt[X],df_panier_pt[Y])"
   ]
  },
  {
   "cell_type": "markdown",
   "metadata": {},
   "source": [
    "Si η2Y/X=0 , cela signifie que les moyennes par classes sont toutes égales. Il n’y a donc pas a priori de relation entre les variables Y et X.\n",
    "\n",
    "Au contraire, si η2Y/X=1 , cela signifie que les moyennes par classes sont très différentes, chacune des classes étant constituée de valeurs identiques : il existe donc a priori une relation entre les variables Y et X.\n",
    "\n",
    "Ici, il n'y a pas de corrélation entre le Montant total des achats des clients et l'âge en suivant le test d'ANOVA. \n",
    "\n",
    "Hors l'échantillon ne suit pas une loi normale donc cette hypothèse est fausse."
   ]
  },
  {
   "cell_type": "markdown",
   "metadata": {},
   "source": [
    "## **Relation Panier moyen des clients et fréquence d'achat / Groupe d'Age**"
   ]
  },
  {
   "cell_type": "code",
   "execution_count": 693,
   "metadata": {},
   "outputs": [
    {
     "data": {
      "text/plain": [
       "<AxesSubplot:xlabel='AgeGroup'>"
      ]
     },
     "execution_count": 693,
     "metadata": {},
     "output_type": "execute_result"
    },
    {
     "data": {
      "image/png": "[encoded data removed]",
      "text/plain": [
       "<Figure size 864x432 with 1 Axes>"
      ]
     },
     "metadata": {
      "needs_background": "light"
     },
     "output_type": "display_data"
    }
   ],
   "source": [
    "df_panier_pt[[\"nb_achats_client\"] +[\"price\"] + [\"AgeGroup\"]].groupby(by=\"AgeGroup\").mean().plot.bar(figsize=(12,6))"
   ]
  },
  {
   "cell_type": "markdown",
   "metadata": {},
   "source": [
    "Sur ce graphique nous voyons les corrélations entre ces variables mais effectuons quelques tests pour confirmer"
   ]
  },
  {
   "cell_type": "markdown",
   "metadata": {},
   "source": [
    "Effectuons un test non-paramétrique afin de déterminer si les variables suivent une loi normale, j'ai choisi celui de **Kolmogorov Smirnov**."
   ]
  },
  {
   "cell_type": "code",
   "execution_count": 785,
   "metadata": {},
   "outputs": [],
   "source": [
    "Y = \"nb_achats_client\"\n",
    "Y2= \"price\"\n",
    "Y3 = \"panier_client\""
   ]
  },
  {
   "cell_type": "code",
   "execution_count": 793,
   "metadata": {},
   "outputs": [
    {
     "name": "stdout",
     "output_type": "stream",
     "text": [
      "la statistique de test est : 0.9928334430572484\n",
      "la p_value du test est  0.0\n"
     ]
    }
   ],
   "source": [
    "from scipy.stats import ks_2samp\n",
    "from scipy.stats import kstest\n",
    "\n",
    "stat_test,p_value=kstest(df_panier_pt[Y], 'norm')\n",
    "print(\"la statistique de test est :\",stat_test)\n",
    "print(\"la p_value du test est \", p_value)\n"
   ]
  },
  {
   "cell_type": "markdown",
   "metadata": {},
   "source": [
    "La distribution du panier moyen et du nb_d'achats_client ne suivent pas une loi normale (elle sont donc non-Gaussienne). \n",
    "\n",
    "Je ne peux utiliser le Test d'ANOVA car l'échantillon que nous avons à disposition ne vérifie pas les hypothèses données.\n",
    "\n",
    "J'utilise donc le coef. de corrélation de Spearman."
   ]
  },
  {
   "cell_type": "markdown",
   "metadata": {},
   "source": [
    "## **Corrélation de Spearman**"
   ]
  },
  {
   "cell_type": "markdown",
   "metadata": {},
   "source": [
    " Spearman confirmera la corrélation entre le panier moyen et l'âge déduite précédemment.\n",
    " \n",
    " Ici, j'ai besoin de 2 variables quantitatives donc je n'utilise pas la variable AgeGroup mais Age."
   ]
  },
  {
   "cell_type": "code",
   "execution_count": 603,
   "metadata": {
    "collapsed": true,
    "jupyter": {
     "outputs_hidden": true,
     "source_hidden": true
    }
   },
   "outputs": [
    {
     "data": {
      "text/plain": [
       "<AxesSubplot:>"
      ]
     },
     "execution_count": 603,
     "metadata": {},
     "output_type": "execute_result"
    },
    {
     "data": {
      "image/png": "[encoded data removed]",
      "text/plain": [
       "<Figure size 432x288 with 2 Axes>"
      ]
     },
     "metadata": {
      "needs_background": "light"
     },
     "output_type": "display_data"
    }
   ],
   "source": [
    "sns.heatmap(df_panier_pt[[\"Age\"] + [\"price\"]+  [\"nb_achats_client\"]].corr(method=\"spearman\"))"
   ]
  },
  {
   "cell_type": "code",
   "execution_count": 602,
   "metadata": {},
   "outputs": [
    {
     "data": {
      "text/html": [
       "<div>\n",
       "<style scoped>\n",
       "    .dataframe tbody tr th:only-of-type {\n",
       "        vertical-align: middle;\n",
       "    }\n",
       "\n",
       "    .dataframe tbody tr th {\n",
       "        vertical-align: top;\n",
       "    }\n",
       "\n",
       "    .dataframe thead th {\n",
       "        text-align: right;\n",
       "    }\n",
       "</style>\n",
       "<table border=\"1\" class=\"dataframe\">\n",
       "  <thead>\n",
       "    <tr style=\"text-align: right;\">\n",
       "      <th></th>\n",
       "      <th>Age</th>\n",
       "      <th>price</th>\n",
       "      <th>nb_achats_client</th>\n",
       "    </tr>\n",
       "  </thead>\n",
       "  <tbody>\n",
       "    <tr>\n",
       "      <th>Age</th>\n",
       "      <td>1.000000</td>\n",
       "      <td>-0.212695</td>\n",
       "      <td>0.129413</td>\n",
       "    </tr>\n",
       "    <tr>\n",
       "      <th>price</th>\n",
       "      <td>-0.212695</td>\n",
       "      <td>1.000000</td>\n",
       "      <td>-0.265969</td>\n",
       "    </tr>\n",
       "    <tr>\n",
       "      <th>nb_achats_client</th>\n",
       "      <td>0.129413</td>\n",
       "      <td>-0.265969</td>\n",
       "      <td>1.000000</td>\n",
       "    </tr>\n",
       "  </tbody>\n",
       "</table>\n",
       "</div>"
      ],
      "text/plain": [
       "                       Age     price  nb_achats_client\n",
       "Age               1.000000 -0.212695          0.129413\n",
       "price            -0.212695  1.000000         -0.265969\n",
       "nb_achats_client  0.129413 -0.265969          1.000000"
      ]
     },
     "execution_count": 602,
     "metadata": {},
     "output_type": "execute_result"
    }
   ],
   "source": [
    "df_panier_pt[[\"Age\"] + [\"price\"] + [\"nb_achats_client\"]].corr(method=\"spearman\")"
   ]
  },
  {
   "cell_type": "markdown",
   "metadata": {},
   "source": [
    "Cela indique une légère corrélation positive entre la fréquence d'achat et l'âge.\n",
    "\n",
    "Par contre entre l'âge et le panier moyen il y a une corrélation négative c.à.d que si l'âge augmente, le panier moyen descend."
   ]
  },
  {
   "cell_type": "markdown",
   "metadata": {},
   "source": [
    " "
   ]
  },
  {
   "cell_type": "markdown",
   "metadata": {},
   "source": [
    "Pour confirmer la corrélation entre la frequence d'achat et l'âge , j'effectue un **test de Khi2**.\n",
    "\n",
    "Tout d'abord je crée des tranches du nombre d'achat client et je crée un tableau de contingence."
   ]
  },
  {
   "cell_type": "code",
   "execution_count": null,
   "metadata": {},
   "outputs": [],
   "source": [
    "bins= [1,25,40,60,93,400]\n",
    "labels= [\"<24\", \"25-39\", \"40-59\",\"60-92\",\">92\"]\n",
    "\n",
    "df_panier_pt['nb_achats_client_Group'] = pd.cut(df_panier_pt['nb_achats_client'], bins=bins, labels=labels, right=False)"
   ]
  },
  {
   "cell_type": "code",
   "execution_count": null,
   "metadata": {},
   "outputs": [],
   "source": [
    "df_panier_pt['nb_achats_client_Group'] = df_panier_pt['nb_achats_client_Group'].astype(\"object\")"
   ]
  },
  {
   "cell_type": "code",
   "execution_count": 636,
   "metadata": {
    "collapsed": true,
    "jupyter": {
     "outputs_hidden": true,
     "source_hidden": true
    }
   },
   "outputs": [
    {
     "data": {
      "text/html": [
       "<div>\n",
       "<style scoped>\n",
       "    .dataframe tbody tr th:only-of-type {\n",
       "        vertical-align: middle;\n",
       "    }\n",
       "\n",
       "    .dataframe tbody tr th {\n",
       "        vertical-align: top;\n",
       "    }\n",
       "\n",
       "    .dataframe thead th {\n",
       "        text-align: right;\n",
       "    }\n",
       "</style>\n",
       "<table border=\"1\" class=\"dataframe\">\n",
       "  <thead>\n",
       "    <tr style=\"text-align: right;\">\n",
       "      <th>nb_achats_client_Group</th>\n",
       "      <th>25-39</th>\n",
       "      <th>40-59</th>\n",
       "      <th>60-92</th>\n",
       "      <th>&lt;24</th>\n",
       "      <th>&gt;92</th>\n",
       "      <th>Total</th>\n",
       "    </tr>\n",
       "    <tr>\n",
       "      <th>AgeGroup</th>\n",
       "      <th></th>\n",
       "      <th></th>\n",
       "      <th></th>\n",
       "      <th></th>\n",
       "      <th></th>\n",
       "      <th></th>\n",
       "    </tr>\n",
       "  </thead>\n",
       "  <tbody>\n",
       "    <tr>\n",
       "      <th>17-24</th>\n",
       "      <td>328</td>\n",
       "      <td>320</td>\n",
       "      <td>138</td>\n",
       "      <td>555</td>\n",
       "      <td>12</td>\n",
       "      <td>1353</td>\n",
       "    </tr>\n",
       "    <tr>\n",
       "      <th>25-39</th>\n",
       "      <td>379</td>\n",
       "      <td>406</td>\n",
       "      <td>394</td>\n",
       "      <td>479</td>\n",
       "      <td>797</td>\n",
       "      <td>2455</td>\n",
       "    </tr>\n",
       "    <tr>\n",
       "      <th>40-59</th>\n",
       "      <td>435</td>\n",
       "      <td>504</td>\n",
       "      <td>630</td>\n",
       "      <td>437</td>\n",
       "      <td>1168</td>\n",
       "      <td>3174</td>\n",
       "    </tr>\n",
       "    <tr>\n",
       "      <th>&gt;60</th>\n",
       "      <td>314</td>\n",
       "      <td>295</td>\n",
       "      <td>312</td>\n",
       "      <td>409</td>\n",
       "      <td>280</td>\n",
       "      <td>1610</td>\n",
       "    </tr>\n",
       "    <tr>\n",
       "      <th>Total</th>\n",
       "      <td>1456</td>\n",
       "      <td>1525</td>\n",
       "      <td>1474</td>\n",
       "      <td>1880</td>\n",
       "      <td>2257</td>\n",
       "      <td>8592</td>\n",
       "    </tr>\n",
       "  </tbody>\n",
       "</table>\n",
       "</div>"
      ],
      "text/plain": [
       "nb_achats_client_Group  25-39  40-59  60-92   <24   >92  Total\n",
       "AgeGroup                                                      \n",
       "17-24                     328    320    138   555    12   1353\n",
       "25-39                     379    406    394   479   797   2455\n",
       "40-59                     435    504    630   437  1168   3174\n",
       ">60                       314    295    312   409   280   1610\n",
       "Total                    1456   1525   1474  1880  2257   8592"
      ]
     },
     "execution_count": 636,
     "metadata": {},
     "output_type": "execute_result"
    }
   ],
   "source": [
    "X = \"AgeGroup\"\n",
    "Y = \"nb_achats_client_Group\"\n",
    "cont = df_panier_pt[[X,Y]].pivot_table(index=X,columns=Y,aggfunc=len,margins=True,margins_name=\"Total\")\n",
    "cont"
   ]
  },
  {
   "cell_type": "code",
   "execution_count": 637,
   "metadata": {
    "jupyter": {
     "source_hidden": true
    }
   },
   "outputs": [
    {
     "data": {
      "image/png": "[encoded data removed]",
      "text/plain": [
       "<Figure size 432x288 with 2 Axes>"
      ]
     },
     "metadata": {
      "needs_background": "light"
     },
     "output_type": "display_data"
    }
   ],
   "source": [
    "import seaborn as sns\n",
    "\n",
    "tx = cont.loc[:,[\"Total\"]]\n",
    "ty = cont.loc[[\"Total\"],:]\n",
    "n = len(df_panier_pt)\n",
    "indep = tx.dot(ty) / n\n",
    "\n",
    "c = cont.fillna(0) # On remplace les valeurs nulles par 0\n",
    "measure = (c-indep)**2/indep\n",
    "xi_n = measure.sum().sum()\n",
    "table = measure/xi_n\n",
    "sns.heatmap(table.iloc[:-1,:-1],annot=c.iloc[:-1,:-1])\n",
    "plt.show()"
   ]
  },
  {
   "cell_type": "code",
   "execution_count": 638,
   "metadata": {
    "jupyter": {
     "source_hidden": true
    }
   },
   "outputs": [
    {
     "name": "stdout",
     "output_type": "stream",
     "text": [
      "Statistique khi2 : 1052.1850305263513\n",
      "Nombe de degrés de liberté : 20\n",
      "Pvalue : 2.8720965592432894e-210\n"
     ]
    }
   ],
   "source": [
    "st_chi2, st_p, st_dof, st_exp = st.chi2_contingency(cont)\n",
    "\n",
    "# Statistique khi2\n",
    "print(f\"Statistique khi2 : {st_chi2}\")\n",
    "\n",
    "# Nombe de degrés de liberté\n",
    "print(f\"Nombe de degrés de liberté : {st_dof}\")\n",
    "\n",
    "# Pvalue : l'unique valeur nécessaire pour prendre notre décision\n",
    "print(f\"Pvalue : {st_p}\" )"
   ]
  },
  {
   "cell_type": "markdown",
   "metadata": {},
   "source": [
    "Test au seuil de 5%\n",
    "\n",
    "Rejetons l’hypothèse nulle au seuil de 5%, donc pour une pvaleur inférieure à 0.05.\n",
    "\n",
    "Dans notre cas, la pvaleur obtenue par notre échantillon est très en dessous du seuil fixé. On peut donc rejeter l’hypothèse nulle. Les variables **« Age »** et **« nb_d'achats_client »** ne sont pas indépendantes. "
   ]
  },
  {
   "cell_type": "markdown",
   "metadata": {},
   "source": [
    "On remarque une corrélation entre l'âge et la fréquence d'achat. Les jeunes achètent moins de produits que les personnes plus âgées."
   ]
  },
  {
   "cell_type": "markdown",
   "metadata": {},
   "source": [
    "## **Calculer la probabilité qu’un client achète la référence 0_525 sachant qu’il a acheté la référence 2_159**"
   ]
  },
  {
   "cell_type": "code",
   "execution_count": 369,
   "metadata": {},
   "outputs": [
    {
     "data": {
      "text/html": [
       "<div>\n",
       "<style scoped>\n",
       "    .dataframe tbody tr th:only-of-type {\n",
       "        vertical-align: middle;\n",
       "    }\n",
       "\n",
       "    .dataframe tbody tr th {\n",
       "        vertical-align: top;\n",
       "    }\n",
       "\n",
       "    .dataframe thead th {\n",
       "        text-align: right;\n",
       "    }\n",
       "</style>\n",
       "<table border=\"1\" class=\"dataframe\">\n",
       "  <thead>\n",
       "    <tr style=\"text-align: right;\">\n",
       "      <th></th>\n",
       "      <th>price</th>\n",
       "      <th>categ</th>\n",
       "      <th>date</th>\n",
       "      <th>session_id</th>\n",
       "      <th>client_id</th>\n",
       "      <th>id_prod</th>\n",
       "      <th>nb vente</th>\n",
       "      <th>CA par produit</th>\n",
       "    </tr>\n",
       "    <tr>\n",
       "      <th>id_prod</th>\n",
       "      <th></th>\n",
       "      <th></th>\n",
       "      <th></th>\n",
       "      <th></th>\n",
       "      <th></th>\n",
       "      <th></th>\n",
       "      <th></th>\n",
       "      <th></th>\n",
       "    </tr>\n",
       "  </thead>\n",
       "  <tbody>\n",
       "    <tr>\n",
       "      <th>2_159</th>\n",
       "      <td>145.99</td>\n",
       "      <td>2</td>\n",
       "      <td>2023-02-03 00:00:21.794867</td>\n",
       "      <td>s_336117</td>\n",
       "      <td>c_6135</td>\n",
       "      <td>2_159</td>\n",
       "      <td>650</td>\n",
       "      <td>94893.5</td>\n",
       "    </tr>\n",
       "    <tr>\n",
       "      <th>0_525</th>\n",
       "      <td>2.99</td>\n",
       "      <td>0</td>\n",
       "      <td>2021-04-01 15:38:20.291404</td>\n",
       "      <td>s_14513</td>\n",
       "      <td>c_1403</td>\n",
       "      <td>0_525</td>\n",
       "      <td>500</td>\n",
       "      <td>1495.0</td>\n",
       "    </tr>\n",
       "  </tbody>\n",
       "</table>\n",
       "</div>"
      ],
      "text/plain": [
       "          price categ                       date session_id client_id id_prod  \\\n",
       "id_prod                                                                         \n",
       "2_159    145.99     2 2023-02-03 00:00:21.794867   s_336117    c_6135   2_159   \n",
       "0_525      2.99     0 2021-04-01 15:38:20.291404    s_14513    c_1403   0_525   \n",
       "\n",
       "         nb vente  CA par produit  \n",
       "id_prod                            \n",
       "2_159         650         94893.5  \n",
       "0_525         500          1495.0  "
      ]
     },
     "execution_count": 369,
     "metadata": {},
     "output_type": "execute_result"
    }
   ],
   "source": [
    "df_uniq[(df_uniq[\"id_prod\"] == \"2_159\") | (df_uniq[\"id_prod\"] == \"0_525\")]"
   ]
  },
  {
   "cell_type": "markdown",
   "metadata": {},
   "source": [
    "Je crée les colonnes des références produits 2_159 et 0_525 achetées. Noté 1 si acheté et sinon 0. "
   ]
  },
  {
   "cell_type": "code",
   "execution_count": 306,
   "metadata": {},
   "outputs": [],
   "source": [
    "df3_ind_client[\"2_159\"] = (df3_ind_client[\"id_prod\"] == \"2_159\")\n",
    "df3_ind_client[\"0_525\"] = (df3_ind_client[\"id_prod\"] == \"0_525\")\n",
    "df3_ind_client[\"2_159\"][df3_ind_client[\"2_159\"] == True] = 1\n",
    "df3_ind_client[\"0_525\"][df3_ind_client[\"0_525\"] == True] = 1"
   ]
  },
  {
   "cell_type": "code",
   "execution_count": 370,
   "metadata": {},
   "outputs": [
    {
     "data": {
      "text/html": [
       "<div>\n",
       "<style scoped>\n",
       "    .dataframe tbody tr th:only-of-type {\n",
       "        vertical-align: middle;\n",
       "    }\n",
       "\n",
       "    .dataframe tbody tr th {\n",
       "        vertical-align: top;\n",
       "    }\n",
       "\n",
       "    .dataframe thead th {\n",
       "        text-align: right;\n",
       "    }\n",
       "</style>\n",
       "<table border=\"1\" class=\"dataframe\">\n",
       "  <thead>\n",
       "    <tr style=\"text-align: right;\">\n",
       "      <th></th>\n",
       "      <th>price</th>\n",
       "      <th>categ</th>\n",
       "      <th>session_id</th>\n",
       "      <th>client_id</th>\n",
       "      <th>id_prod</th>\n",
       "      <th>sex</th>\n",
       "      <th>birth</th>\n",
       "      <th>Age</th>\n",
       "      <th>nb_achats_client</th>\n",
       "      <th>2_159</th>\n",
       "      <th>0_525</th>\n",
       "    </tr>\n",
       "    <tr>\n",
       "      <th>client_id</th>\n",
       "      <th></th>\n",
       "      <th></th>\n",
       "      <th></th>\n",
       "      <th></th>\n",
       "      <th></th>\n",
       "      <th></th>\n",
       "      <th></th>\n",
       "      <th></th>\n",
       "      <th></th>\n",
       "      <th></th>\n",
       "      <th></th>\n",
       "    </tr>\n",
       "  </thead>\n",
       "  <tbody>\n",
       "    <tr>\n",
       "      <th>c_1025</th>\n",
       "      <td>145.99</td>\n",
       "      <td>2</td>\n",
       "      <td>s_245285</td>\n",
       "      <td>c_1025</td>\n",
       "      <td>2_159</td>\n",
       "      <td>m</td>\n",
       "      <td>1984.0</td>\n",
       "      <td>38.0</td>\n",
       "      <td>263.0</td>\n",
       "      <td>1.0</td>\n",
       "      <td>0.0</td>\n",
       "    </tr>\n",
       "    <tr>\n",
       "      <th>c_1025</th>\n",
       "      <td>145.99</td>\n",
       "      <td>2</td>\n",
       "      <td>s_257493</td>\n",
       "      <td>c_1025</td>\n",
       "      <td>2_159</td>\n",
       "      <td>m</td>\n",
       "      <td>1984.0</td>\n",
       "      <td>38.0</td>\n",
       "      <td>263.0</td>\n",
       "      <td>1.0</td>\n",
       "      <td>0.0</td>\n",
       "    </tr>\n",
       "    <tr>\n",
       "      <th>c_1025</th>\n",
       "      <td>2.99</td>\n",
       "      <td>0</td>\n",
       "      <td>s_257493</td>\n",
       "      <td>c_1025</td>\n",
       "      <td>0_525</td>\n",
       "      <td>m</td>\n",
       "      <td>1984.0</td>\n",
       "      <td>38.0</td>\n",
       "      <td>263.0</td>\n",
       "      <td>0.0</td>\n",
       "      <td>1.0</td>\n",
       "    </tr>\n",
       "    <tr>\n",
       "      <th>c_1025</th>\n",
       "      <td>2.99</td>\n",
       "      <td>0</td>\n",
       "      <td>s_245285</td>\n",
       "      <td>c_1025</td>\n",
       "      <td>0_525</td>\n",
       "      <td>m</td>\n",
       "      <td>1984.0</td>\n",
       "      <td>38.0</td>\n",
       "      <td>263.0</td>\n",
       "      <td>0.0</td>\n",
       "      <td>1.0</td>\n",
       "    </tr>\n",
       "    <tr>\n",
       "      <th>c_774</th>\n",
       "      <td>145.99</td>\n",
       "      <td>2</td>\n",
       "      <td>s_215767</td>\n",
       "      <td>c_774</td>\n",
       "      <td>2_159</td>\n",
       "      <td>f</td>\n",
       "      <td>1959.0</td>\n",
       "      <td>63.0</td>\n",
       "      <td>92.0</td>\n",
       "      <td>1.0</td>\n",
       "      <td>0.0</td>\n",
       "    </tr>\n",
       "    <tr>\n",
       "      <th>...</th>\n",
       "      <td>...</td>\n",
       "      <td>...</td>\n",
       "      <td>...</td>\n",
       "      <td>...</td>\n",
       "      <td>...</td>\n",
       "      <td>...</td>\n",
       "      <td>...</td>\n",
       "      <td>...</td>\n",
       "      <td>...</td>\n",
       "      <td>...</td>\n",
       "      <td>...</td>\n",
       "    </tr>\n",
       "    <tr>\n",
       "      <th>c_946</th>\n",
       "      <td>145.99</td>\n",
       "      <td>2</td>\n",
       "      <td>s_171131</td>\n",
       "      <td>c_946</td>\n",
       "      <td>2_159</td>\n",
       "      <td>m</td>\n",
       "      <td>2001.0</td>\n",
       "      <td>21.0</td>\n",
       "      <td>18.0</td>\n",
       "      <td>1.0</td>\n",
       "      <td>0.0</td>\n",
       "    </tr>\n",
       "    <tr>\n",
       "      <th>c_275</th>\n",
       "      <td>145.99</td>\n",
       "      <td>2</td>\n",
       "      <td>s_12426</td>\n",
       "      <td>c_275</td>\n",
       "      <td>2_159</td>\n",
       "      <td>f</td>\n",
       "      <td>1951.0</td>\n",
       "      <td>70.0</td>\n",
       "      <td>12.0</td>\n",
       "      <td>1.0</td>\n",
       "      <td>0.0</td>\n",
       "    </tr>\n",
       "    <tr>\n",
       "      <th>c_275</th>\n",
       "      <td>2.99</td>\n",
       "      <td>0</td>\n",
       "      <td>s_12426</td>\n",
       "      <td>c_275</td>\n",
       "      <td>0_525</td>\n",
       "      <td>f</td>\n",
       "      <td>1951.0</td>\n",
       "      <td>70.0</td>\n",
       "      <td>12.0</td>\n",
       "      <td>0.0</td>\n",
       "      <td>1.0</td>\n",
       "    </tr>\n",
       "    <tr>\n",
       "      <th>c_2390</th>\n",
       "      <td>145.99</td>\n",
       "      <td>2</td>\n",
       "      <td>s_82986</td>\n",
       "      <td>c_2390</td>\n",
       "      <td>2_159</td>\n",
       "      <td>f</td>\n",
       "      <td>1970.0</td>\n",
       "      <td>51.0</td>\n",
       "      <td>15.0</td>\n",
       "      <td>1.0</td>\n",
       "      <td>0.0</td>\n",
       "    </tr>\n",
       "    <tr>\n",
       "      <th>c_2390</th>\n",
       "      <td>2.99</td>\n",
       "      <td>0</td>\n",
       "      <td>s_82986</td>\n",
       "      <td>c_2390</td>\n",
       "      <td>0_525</td>\n",
       "      <td>f</td>\n",
       "      <td>1970.0</td>\n",
       "      <td>51.0</td>\n",
       "      <td>15.0</td>\n",
       "      <td>0.0</td>\n",
       "      <td>1.0</td>\n",
       "    </tr>\n",
       "  </tbody>\n",
       "</table>\n",
       "<p>1150 rows × 11 columns</p>\n",
       "</div>"
      ],
      "text/plain": [
       "            price categ session_id client_id id_prod sex   birth   Age  \\\n",
       "client_id                                                                \n",
       "c_1025     145.99     2   s_245285    c_1025   2_159   m  1984.0  38.0   \n",
       "c_1025     145.99     2   s_257493    c_1025   2_159   m  1984.0  38.0   \n",
       "c_1025       2.99     0   s_257493    c_1025   0_525   m  1984.0  38.0   \n",
       "c_1025       2.99     0   s_245285    c_1025   0_525   m  1984.0  38.0   \n",
       "c_774      145.99     2   s_215767     c_774   2_159   f  1959.0  63.0   \n",
       "...           ...   ...        ...       ...     ...  ..     ...   ...   \n",
       "c_946      145.99     2   s_171131     c_946   2_159   m  2001.0  21.0   \n",
       "c_275      145.99     2    s_12426     c_275   2_159   f  1951.0  70.0   \n",
       "c_275        2.99     0    s_12426     c_275   0_525   f  1951.0  70.0   \n",
       "c_2390     145.99     2    s_82986    c_2390   2_159   f  1970.0  51.0   \n",
       "c_2390       2.99     0    s_82986    c_2390   0_525   f  1970.0  51.0   \n",
       "\n",
       "           nb_achats_client  2_159  0_525  \n",
       "client_id                                  \n",
       "c_1025                263.0    1.0    0.0  \n",
       "c_1025                263.0    1.0    0.0  \n",
       "c_1025                263.0    0.0    1.0  \n",
       "c_1025                263.0    0.0    1.0  \n",
       "c_774                  92.0    1.0    0.0  \n",
       "...                     ...    ...    ...  \n",
       "c_946                  18.0    1.0    0.0  \n",
       "c_275                  12.0    1.0    0.0  \n",
       "c_275                  12.0    0.0    1.0  \n",
       "c_2390                 15.0    1.0    0.0  \n",
       "c_2390                 15.0    0.0    1.0  \n",
       "\n",
       "[1150 rows x 11 columns]"
      ]
     },
     "execution_count": 370,
     "metadata": {},
     "output_type": "execute_result"
    }
   ],
   "source": [
    "df3_ind_client[(df3_ind_client[\"id_prod\"] == \"2_159\") | (df3_ind_client[\"id_prod\"] == \"0_525\")]"
   ]
  },
  {
   "cell_type": "markdown",
   "metadata": {},
   "source": [
    "Je groupe les références nécessaires à la requête par client_id et je les additionne ce qui me donne un tableau représentant si un client a acheté les 2 ouvrages ou pas."
   ]
  },
  {
   "cell_type": "code",
   "execution_count": 350,
   "metadata": {},
   "outputs": [],
   "source": [
    "df3_link = df3_ind_client[[\"2_159\"] + [\"0_525\"]].groupby(by=\"client_id\").sum()"
   ]
  },
  {
   "cell_type": "markdown",
   "metadata": {},
   "source": [
    "Ensuite je fais le calcul de la probabilité conditionnelle demandée: P(2_159 inter 0_525)/ P(2_159)"
   ]
  },
  {
   "cell_type": "code",
   "execution_count": 804,
   "metadata": {},
   "outputs": [
    {
     "data": {
      "text/plain": [
       "0.8660377358490566"
      ]
     },
     "execution_count": 804,
     "metadata": {},
     "output_type": "execute_result"
    }
   ],
   "source": [
    "(df3_link[(df3_link[\"2_159\"] > 0) & (df3_link[\"0_525\"] > 0 )].shape[0] /df3_ind_client.index.nunique() ) / (df3_link[(df3_link[\"2_159\"] > 0)].shape[0] / df3_ind_client.index.nunique() )"
   ]
  },
  {
   "cell_type": "markdown",
   "metadata": {},
   "source": [
    "86.60% ont acheté la référence 0_525 après avoir acheté 2_159"
   ]
  }
 ],
 "metadata": {
  "kernelspec": {
   "display_name": "Python 3",
   "language": "python",
   "name": "python3"
  },
  "language_info": {
   "codemirror_mode": {
    "name": "ipython",
    "version": 3
   },
   "file_extension": ".py",
   "mimetype": "text/x-python",
   "name": "python",
   "nbconvert_exporter": "python",
   "pygments_lexer": "ipython3",
   "version": "3.8.5"
  }
 },
 "nbformat": 4,
 "nbformat_minor": 4
}
