{
 "cells": [
  {
   "cell_type": "markdown",
   "metadata": {},
   "source": [
    "# Scénario\n",
    "\n",
    "Félicitations ! Vous avez récemment rejoint une équipe de chercheurs de la Food and Agriculture Organization of the United Nations (FAO), en tant que data analyst.\n",
    "\n",
    "![Food](https://user.oc-static.com/upload/2020/11/23/16061289311922_Capture%20d%E2%80%99e%CC%81cran%202020-11-23%20a%CC%80%2011.06.07.png)\n",
    "\n",
    "Son rôle ? C’est l’un des organes qui composent l’ONU et dont l’objectif est « d’aider à construire un monde libéré de la faim ». \n",
    "\n",
    "Le responsable de l’équipe, Marc, un chercheur en économie de la santé, est particulièrement enthousiaste à l’idée de votre arrivée au sein de son équipe. \n",
    "En effet, ce recrutement tombe à pic car Julien, l'ancien data analyst, a récemment été muté dans une autre équipe, et la vôtre vient de se voir confier la mission de réaliser une étude de grande ampleur sur le thème de la sous-nutrition dans le monde."
   ]
  },
  {
   "cell_type": "markdown",
   "metadata": {},
   "source": [
    "## Importation des librairies"
   ]
  },
  {
   "cell_type": "code",
   "execution_count": 1,
   "metadata": {},
   "outputs": [],
   "source": [
    "import numpy as np\n",
    "import pandas as pd\n",
    "import matplotlib.pyplot as plt\n"
   ]
  },
  {
   "cell_type": "markdown",
   "metadata": {},
   "source": [
    "## Charger et voir les données "
   ]
  },
  {
   "cell_type": "markdown",
   "metadata": {},
   "source": [
    "### 1- Données sur le nombre de personnes en sous nutrition dans le Monde"
   ]
  },
  {
   "cell_type": "code",
   "execution_count": 2,
   "metadata": {},
   "outputs": [],
   "source": [
    "url = 'D:\\\\Downloads\\\\DAN-P4-FAO\\\\sous_nutrition.csv'\n",
    "df_1 = pd.read_csv(url, index_col=0, encoding = \"utf-8\")\n",
    "df_sous_nutr=df_1.copy()\n"
   ]
  },
  {
   "cell_type": "code",
   "execution_count": 14,
   "metadata": {},
   "outputs": [
    {
     "data": {
      "text/html": [
       "<div>\n",
       "<style scoped>\n",
       "    .dataframe tbody tr th:only-of-type {\n",
       "        vertical-align: middle;\n",
       "    }\n",
       "\n",
       "    .dataframe tbody tr th {\n",
       "        vertical-align: top;\n",
       "    }\n",
       "\n",
       "    .dataframe thead th {\n",
       "        text-align: right;\n",
       "    }\n",
       "</style>\n",
       "<table border=\"1\" class=\"dataframe\">\n",
       "  <thead>\n",
       "    <tr style=\"text-align: right;\">\n",
       "      <th></th>\n",
       "      <th>Année</th>\n",
       "      <th>Valeur</th>\n",
       "    </tr>\n",
       "    <tr>\n",
       "      <th>Zone</th>\n",
       "      <th></th>\n",
       "      <th></th>\n",
       "    </tr>\n",
       "  </thead>\n",
       "  <tbody>\n",
       "    <tr>\n",
       "      <th>Afghanistan</th>\n",
       "      <td>2012-2014</td>\n",
       "      <td>8.6</td>\n",
       "    </tr>\n",
       "    <tr>\n",
       "      <th>Afghanistan</th>\n",
       "      <td>2013-2015</td>\n",
       "      <td>8.8</td>\n",
       "    </tr>\n",
       "    <tr>\n",
       "      <th>Afghanistan</th>\n",
       "      <td>2014-2016</td>\n",
       "      <td>8.9</td>\n",
       "    </tr>\n",
       "    <tr>\n",
       "      <th>Afghanistan</th>\n",
       "      <td>2015-2017</td>\n",
       "      <td>9.7</td>\n",
       "    </tr>\n",
       "    <tr>\n",
       "      <th>Afghanistan</th>\n",
       "      <td>2016-2018</td>\n",
       "      <td>10.5</td>\n",
       "    </tr>\n",
       "  </tbody>\n",
       "</table>\n",
       "</div>"
      ],
      "text/plain": [
       "                 Année Valeur\n",
       "Zone                         \n",
       "Afghanistan  2012-2014    8.6\n",
       "Afghanistan  2013-2015    8.8\n",
       "Afghanistan  2014-2016    8.9\n",
       "Afghanistan  2015-2017    9.7\n",
       "Afghanistan  2016-2018   10.5"
      ]
     },
     "execution_count": 14,
     "metadata": {},
     "output_type": "execute_result"
    }
   ],
   "source": [
    "df_sous_nutr.head()"
   ]
  },
  {
   "cell_type": "markdown",
   "metadata": {},
   "source": [
    "## Analyse de la forme des données"
   ]
  },
  {
   "cell_type": "code",
   "execution_count": 21,
   "metadata": {},
   "outputs": [
    {
     "name": "stdout",
     "output_type": "stream",
     "text": [
      "<class 'pandas.core.frame.DataFrame'>\n",
      "Index: 1218 entries, Afghanistan to Zimbabwe\n",
      "Data columns (total 2 columns):\n",
      " #   Column  Non-Null Count  Dtype \n",
      "---  ------  --------------  ----- \n",
      " 0   Année   1218 non-null   object\n",
      " 1   Valeur  624 non-null    object\n",
      "dtypes: object(2)\n",
      "memory usage: 28.5+ KB\n"
     ]
    }
   ],
   "source": [
    "df_sous_nutr.info()"
   ]
  },
  {
   "cell_type": "markdown",
   "metadata": {},
   "source": [
    "Le Dtype des colonnes Année et Valeur sont des objects.\n",
    " Le prétraitement à faire est de:\n",
    " - convertir les valeurs de la colonne Année en YYYY\n",
    " - convertir le dtype de la colonne Année en datetime \n",
    " - convertir le dtype de la colonne Valeur en float (valeur quantitative)"
   ]
  },
  {
   "cell_type": "markdown",
   "metadata": {},
   "source": [
    "#### Convertir les valeurs de la colonne Année en YYYY et son dtype en datetime"
   ]
  },
  {
   "cell_type": "code",
   "execution_count": 6,
   "metadata": {},
   "outputs": [],
   "source": [
    "df_sous_nutr[\"Année\"][(df_sous_nutr[\"Année\"] == \"2012-2014\")] = \"2013\"\n",
    "df_sous_nutr[\"Année\"][(df_sous_nutr[\"Année\"] == \"2013-2015\")] = \"2014\"\n",
    "df_sous_nutr[\"Année\"][(df_sous_nutr[\"Année\"] == \"2014-2016\")] = \"2015\"\n",
    "df_sous_nutr[\"Année\"][(df_sous_nutr[\"Année\"] == \"2015-2017\")] = \"2016\"\n",
    "df_sous_nutr[\"Année\"][(df_sous_nutr[\"Année\"] == \"2016-2018\")] = \"2017\"\n",
    "df_sous_nutr[\"Année\"][(df_sous_nutr[\"Année\"] == \"2017-2019\")] = \"2018\"\n"
   ]
  },
  {
   "cell_type": "code",
   "execution_count": 7,
   "metadata": {},
   "outputs": [
    {
     "data": {
      "text/html": [
       "<div>\n",
       "<style scoped>\n",
       "    .dataframe tbody tr th:only-of-type {\n",
       "        vertical-align: middle;\n",
       "    }\n",
       "\n",
       "    .dataframe tbody tr th {\n",
       "        vertical-align: top;\n",
       "    }\n",
       "\n",
       "    .dataframe thead th {\n",
       "        text-align: right;\n",
       "    }\n",
       "</style>\n",
       "<table border=\"1\" class=\"dataframe\">\n",
       "  <thead>\n",
       "    <tr style=\"text-align: right;\">\n",
       "      <th></th>\n",
       "      <th>Année</th>\n",
       "      <th>Valeur</th>\n",
       "    </tr>\n",
       "    <tr>\n",
       "      <th>Zone</th>\n",
       "      <th></th>\n",
       "      <th></th>\n",
       "    </tr>\n",
       "  </thead>\n",
       "  <tbody>\n",
       "    <tr>\n",
       "      <th>Afghanistan</th>\n",
       "      <td>2013-01-01</td>\n",
       "      <td>8.6</td>\n",
       "    </tr>\n",
       "    <tr>\n",
       "      <th>Afghanistan</th>\n",
       "      <td>2014-01-01</td>\n",
       "      <td>8.8</td>\n",
       "    </tr>\n",
       "    <tr>\n",
       "      <th>Afghanistan</th>\n",
       "      <td>2015-01-01</td>\n",
       "      <td>8.9</td>\n",
       "    </tr>\n",
       "    <tr>\n",
       "      <th>Afghanistan</th>\n",
       "      <td>2016-01-01</td>\n",
       "      <td>9.7</td>\n",
       "    </tr>\n",
       "    <tr>\n",
       "      <th>Afghanistan</th>\n",
       "      <td>2017-01-01</td>\n",
       "      <td>10.5</td>\n",
       "    </tr>\n",
       "    <tr>\n",
       "      <th>...</th>\n",
       "      <td>...</td>\n",
       "      <td>...</td>\n",
       "    </tr>\n",
       "    <tr>\n",
       "      <th>Zimbabwe</th>\n",
       "      <td>2014-01-01</td>\n",
       "      <td>NaN</td>\n",
       "    </tr>\n",
       "    <tr>\n",
       "      <th>Zimbabwe</th>\n",
       "      <td>2015-01-01</td>\n",
       "      <td>NaN</td>\n",
       "    </tr>\n",
       "    <tr>\n",
       "      <th>Zimbabwe</th>\n",
       "      <td>2016-01-01</td>\n",
       "      <td>NaN</td>\n",
       "    </tr>\n",
       "    <tr>\n",
       "      <th>Zimbabwe</th>\n",
       "      <td>2017-01-01</td>\n",
       "      <td>NaN</td>\n",
       "    </tr>\n",
       "    <tr>\n",
       "      <th>Zimbabwe</th>\n",
       "      <td>2018-01-01</td>\n",
       "      <td>NaN</td>\n",
       "    </tr>\n",
       "  </tbody>\n",
       "</table>\n",
       "<p>1218 rows × 2 columns</p>\n",
       "</div>"
      ],
      "text/plain": [
       "                 Année Valeur\n",
       "Zone                         \n",
       "Afghanistan 2013-01-01    8.6\n",
       "Afghanistan 2014-01-01    8.8\n",
       "Afghanistan 2015-01-01    8.9\n",
       "Afghanistan 2016-01-01    9.7\n",
       "Afghanistan 2017-01-01   10.5\n",
       "...                ...    ...\n",
       "Zimbabwe    2014-01-01    NaN\n",
       "Zimbabwe    2015-01-01    NaN\n",
       "Zimbabwe    2016-01-01    NaN\n",
       "Zimbabwe    2017-01-01    NaN\n",
       "Zimbabwe    2018-01-01    NaN\n",
       "\n",
       "[1218 rows x 2 columns]"
      ]
     },
     "execution_count": 7,
     "metadata": {},
     "output_type": "execute_result"
    }
   ],
   "source": [
    "df_sous_nutr[\"Année\"]= pd.to_datetime(df_sous_nutr['Année'],format=\"%Y\")\n",
    "df_sous_nutr"
   ]
  },
  {
   "cell_type": "markdown",
   "metadata": {},
   "source": [
    "La colonne Valeur correspond au nombre de personnes (en millions) en état de malnutrition."
   ]
  },
  {
   "cell_type": "code",
   "execution_count": 42,
   "metadata": {},
   "outputs": [
    {
     "data": {
      "text/plain": [
       "(1218, 2)"
      ]
     },
     "execution_count": 42,
     "metadata": {},
     "output_type": "execute_result"
    }
   ],
   "source": [
    "df_sous_nutr.shape"
   ]
  },
  {
   "cell_type": "markdown",
   "metadata": {},
   "source": [
    "#### Compter les valeurs NaN "
   ]
  },
  {
   "cell_type": "code",
   "execution_count": 19,
   "metadata": {},
   "outputs": [
    {
     "data": {
      "text/plain": [
       "False    624\n",
       "True     594\n",
       "Name: Valeur, dtype: int64"
      ]
     },
     "execution_count": 19,
     "metadata": {},
     "output_type": "execute_result"
    }
   ],
   "source": [
    "df_sous_nutr[\"Valeur\"].isnull().value_counts()"
   ]
  },
  {
   "cell_type": "code",
   "execution_count": 21,
   "metadata": {},
   "outputs": [
    {
     "data": {
      "text/plain": [
       "Année     0.000000\n",
       "Valeur    0.487685\n",
       "dtype: float64"
      ]
     },
     "execution_count": 21,
     "metadata": {},
     "output_type": "execute_result"
    }
   ],
   "source": [
    "(df_sous_nutr.isnull().sum()/df_sous_nutr.shape[0]).sort_values(ascending=True)"
   ]
  },
  {
   "cell_type": "markdown",
   "metadata": {},
   "source": [
    "Il y a tout de même 48.7 % de NaN dans le Dataframe, les supprimer serait trop donc je vais les remplacer par 0."
   ]
  },
  {
   "cell_type": "code",
   "execution_count": null,
   "metadata": {},
   "outputs": [],
   "source": [
    "df_sous_nutr = df_sous_nutr.fillna(0)"
   ]
  },
  {
   "cell_type": "markdown",
   "metadata": {},
   "source": [
    "#### Compter les valeurs de la colonne Valeur"
   ]
  },
  {
   "cell_type": "code",
   "execution_count": 22,
   "metadata": {},
   "outputs": [
    {
     "data": {
      "text/plain": [
       "<AxesSubplot:ylabel='Valeur'>"
      ]
     },
     "execution_count": 22,
     "metadata": {},
     "output_type": "execute_result"
    },
    {
     "data": {
      "image/png": "[encoded data removed]",
      "text/plain": [
       "<Figure size 432x288 with 1 Axes>"
      ]
     },
     "metadata": {},
     "output_type": "display_data"
    }
   ],
   "source": [
    "\n",
    "plt.figure()\n",
    "df_sous_nutr[\"Valeur\"].value_counts().head(13).plot.pie(autopct=\"%.2f%%\")"
   ]
  },
  {
   "cell_type": "markdown",
   "metadata": {},
   "source": [
    "On remarque que les valeurs \"<0.1\" sont prédominantes et que ce sont des chaines de caractère et non des float"
   ]
  },
  {
   "cell_type": "markdown",
   "metadata": {},
   "source": [
    "#### Je remplace les valeurs \"<1\" par \"0.0\" et je convertis son dtype en float"
   ]
  },
  {
   "cell_type": "code",
   "execution_count": null,
   "metadata": {},
   "outputs": [],
   "source": [
    "df_sous_nutr[\"Valeur\"][(df_sous_nutr[\"Valeur\"] == \"<0.1\")] = \"0.0\"\n",
    "df_sous_nutr[\"Valeur\"] = df_sous_nutr[\"Valeur\"].astype(float)\n"
   ]
  },
  {
   "cell_type": "markdown",
   "metadata": {},
   "source": [
    "### 2- Données sur la démographie dans le Monde"
   ]
  },
  {
   "cell_type": "code",
   "execution_count": 9,
   "metadata": {},
   "outputs": [],
   "source": [
    "url = 'D:\\Downloads\\DAN-P4-FAO\\population.csv'\n",
    "df_2 = pd.read_csv(url, index_col=0, encoding = \"utf-8\")\n",
    "df_pop=df_2.copy()\n",
    "\n"
   ]
  },
  {
   "cell_type": "code",
   "execution_count": 5,
   "metadata": {},
   "outputs": [
    {
     "data": {
      "text/html": [
       "<div>\n",
       "<style scoped>\n",
       "    .dataframe tbody tr th:only-of-type {\n",
       "        vertical-align: middle;\n",
       "    }\n",
       "\n",
       "    .dataframe tbody tr th {\n",
       "        vertical-align: top;\n",
       "    }\n",
       "\n",
       "    .dataframe thead th {\n",
       "        text-align: right;\n",
       "    }\n",
       "</style>\n",
       "<table border=\"1\" class=\"dataframe\">\n",
       "  <thead>\n",
       "    <tr style=\"text-align: right;\">\n",
       "      <th></th>\n",
       "      <th>Année</th>\n",
       "      <th>Valeur</th>\n",
       "    </tr>\n",
       "    <tr>\n",
       "      <th>Zone</th>\n",
       "      <th></th>\n",
       "      <th></th>\n",
       "    </tr>\n",
       "  </thead>\n",
       "  <tbody>\n",
       "    <tr>\n",
       "      <th>Afghanistan</th>\n",
       "      <td>2013</td>\n",
       "      <td>32269.589</td>\n",
       "    </tr>\n",
       "    <tr>\n",
       "      <th>Afghanistan</th>\n",
       "      <td>2014</td>\n",
       "      <td>33370.794</td>\n",
       "    </tr>\n",
       "    <tr>\n",
       "      <th>Afghanistan</th>\n",
       "      <td>2015</td>\n",
       "      <td>34413.603</td>\n",
       "    </tr>\n",
       "    <tr>\n",
       "      <th>Afghanistan</th>\n",
       "      <td>2016</td>\n",
       "      <td>35383.032</td>\n",
       "    </tr>\n",
       "    <tr>\n",
       "      <th>Afghanistan</th>\n",
       "      <td>2017</td>\n",
       "      <td>36296.113</td>\n",
       "    </tr>\n",
       "  </tbody>\n",
       "</table>\n",
       "</div>"
      ],
      "text/plain": [
       "             Année     Valeur\n",
       "Zone                         \n",
       "Afghanistan   2013  32269.589\n",
       "Afghanistan   2014  33370.794\n",
       "Afghanistan   2015  34413.603\n",
       "Afghanistan   2016  35383.032\n",
       "Afghanistan   2017  36296.113"
      ]
     },
     "execution_count": 5,
     "metadata": {},
     "output_type": "execute_result"
    }
   ],
   "source": [
    "df_pop.head()"
   ]
  },
  {
   "cell_type": "markdown",
   "metadata": {},
   "source": [
    "Renommons la colonne Valeur en Population"
   ]
  },
  {
   "cell_type": "code",
   "execution_count": 49,
   "metadata": {},
   "outputs": [],
   "source": [
    "df_pop.rename(columns={\"Valeur\":\"Population\"}, inplace=True)"
   ]
  },
  {
   "cell_type": "code",
   "execution_count": 20,
   "metadata": {},
   "outputs": [
    {
     "name": "stdout",
     "output_type": "stream",
     "text": [
      "<class 'pandas.core.frame.DataFrame'>\n",
      "Index: 1416 entries, Afghanistan to Zimbabwe\n",
      "Data columns (total 2 columns):\n",
      " #   Column  Non-Null Count  Dtype  \n",
      "---  ------  --------------  -----  \n",
      " 0   Année   1416 non-null   int64  \n",
      " 1   Valeur  1416 non-null   float64\n",
      "dtypes: float64(1), int64(1)\n",
      "memory usage: 33.2+ KB\n"
     ]
    }
   ],
   "source": [
    "df_pop.info()"
   ]
  },
  {
   "cell_type": "markdown",
   "metadata": {},
   "source": [
    "Je normalise la colonne Population en millions "
   ]
  },
  {
   "cell_type": "code",
   "execution_count": 47,
   "metadata": {},
   "outputs": [
    {
     "data": {
      "text/html": [
       "<div>\n",
       "<style scoped>\n",
       "    .dataframe tbody tr th:only-of-type {\n",
       "        vertical-align: middle;\n",
       "    }\n",
       "\n",
       "    .dataframe tbody tr th {\n",
       "        vertical-align: top;\n",
       "    }\n",
       "\n",
       "    .dataframe thead th {\n",
       "        text-align: right;\n",
       "    }\n",
       "</style>\n",
       "<table border=\"1\" class=\"dataframe\">\n",
       "  <thead>\n",
       "    <tr style=\"text-align: right;\">\n",
       "      <th></th>\n",
       "      <th>Année</th>\n",
       "      <th>Valeur</th>\n",
       "    </tr>\n",
       "    <tr>\n",
       "      <th>Zone</th>\n",
       "      <th></th>\n",
       "      <th></th>\n",
       "    </tr>\n",
       "  </thead>\n",
       "  <tbody>\n",
       "    <tr>\n",
       "      <th>Afghanistan</th>\n",
       "      <td>2013</td>\n",
       "      <td>32.269589</td>\n",
       "    </tr>\n",
       "    <tr>\n",
       "      <th>Afghanistan</th>\n",
       "      <td>2014</td>\n",
       "      <td>33.370794</td>\n",
       "    </tr>\n",
       "    <tr>\n",
       "      <th>Afghanistan</th>\n",
       "      <td>2015</td>\n",
       "      <td>34.413603</td>\n",
       "    </tr>\n",
       "    <tr>\n",
       "      <th>Afghanistan</th>\n",
       "      <td>2016</td>\n",
       "      <td>35.383032</td>\n",
       "    </tr>\n",
       "    <tr>\n",
       "      <th>Afghanistan</th>\n",
       "      <td>2017</td>\n",
       "      <td>36.296113</td>\n",
       "    </tr>\n",
       "  </tbody>\n",
       "</table>\n",
       "</div>"
      ],
      "text/plain": [
       "             Année     Valeur\n",
       "Zone                         \n",
       "Afghanistan   2013  32.269589\n",
       "Afghanistan   2014  33.370794\n",
       "Afghanistan   2015  34.413603\n",
       "Afghanistan   2016  35.383032\n",
       "Afghanistan   2017  36.296113"
      ]
     },
     "execution_count": 47,
     "metadata": {},
     "output_type": "execute_result"
    }
   ],
   "source": [
    "df_pop[\"Population\"] = df_pop[\"Population\"] /1000\n",
    "df_pop.head()"
   ]
  },
  {
   "cell_type": "code",
   "execution_count": 16,
   "metadata": {},
   "outputs": [
    {
     "data": {
      "text/plain": [
       "(1416, 2)"
      ]
     },
     "execution_count": 16,
     "metadata": {},
     "output_type": "execute_result"
    }
   ],
   "source": [
    "df_pop.shape"
   ]
  },
  {
   "cell_type": "code",
   "execution_count": 45,
   "metadata": {},
   "outputs": [
    {
     "data": {
      "text/plain": [
       "False    1416\n",
       "Name: Valeur, dtype: int64"
      ]
     },
     "execution_count": 45,
     "metadata": {},
     "output_type": "execute_result"
    }
   ],
   "source": [
    "df_pop[\"Population\"].isnull().value_counts()"
   ]
  },
  {
   "cell_type": "markdown",
   "metadata": {},
   "source": [
    "#### 3- Données sur la disponibilité alimentaire dans le Monde"
   ]
  },
  {
   "cell_type": "code",
   "execution_count": 87,
   "metadata": {},
   "outputs": [],
   "source": [
    "url = 'D:\\Downloads\\DAN-P4-FAO\\dispo_alimentaire.csv'\n",
    "df_3 = pd.read_csv(url, index_col=0, encoding = \"utf-8\")\n",
    "df_dispo_alim=df_3.copy()\n"
   ]
  },
  {
   "cell_type": "code",
   "execution_count": 12,
   "metadata": {},
   "outputs": [
    {
     "data": {
      "text/html": [
       "<div>\n",
       "<style scoped>\n",
       "    .dataframe tbody tr th:only-of-type {\n",
       "        vertical-align: middle;\n",
       "    }\n",
       "\n",
       "    .dataframe tbody tr th {\n",
       "        vertical-align: top;\n",
       "    }\n",
       "\n",
       "    .dataframe thead th {\n",
       "        text-align: right;\n",
       "    }\n",
       "</style>\n",
       "<table border=\"1\" class=\"dataframe\">\n",
       "  <thead>\n",
       "    <tr style=\"text-align: right;\">\n",
       "      <th></th>\n",
       "      <th>Produit</th>\n",
       "      <th>Origine</th>\n",
       "      <th>Aliments pour animaux</th>\n",
       "      <th>Autres Utilisations</th>\n",
       "      <th>Disponibilité alimentaire (Kcal/personne/jour)</th>\n",
       "      <th>Disponibilité alimentaire en quantité (kg/personne/an)</th>\n",
       "      <th>Disponibilité de matière grasse en quantité (g/personne/jour)</th>\n",
       "      <th>Disponibilité de protéines en quantité (g/personne/jour)</th>\n",
       "      <th>Disponibilité intérieure</th>\n",
       "      <th>Exportations - Quantité</th>\n",
       "      <th>Importations - Quantité</th>\n",
       "      <th>Nourriture</th>\n",
       "      <th>Pertes</th>\n",
       "      <th>Production</th>\n",
       "      <th>Semences</th>\n",
       "      <th>Traitement</th>\n",
       "      <th>Variation de stock</th>\n",
       "    </tr>\n",
       "    <tr>\n",
       "      <th>Zone</th>\n",
       "      <th></th>\n",
       "      <th></th>\n",
       "      <th></th>\n",
       "      <th></th>\n",
       "      <th></th>\n",
       "      <th></th>\n",
       "      <th></th>\n",
       "      <th></th>\n",
       "      <th></th>\n",
       "      <th></th>\n",
       "      <th></th>\n",
       "      <th></th>\n",
       "      <th></th>\n",
       "      <th></th>\n",
       "      <th></th>\n",
       "      <th></th>\n",
       "      <th></th>\n",
       "    </tr>\n",
       "  </thead>\n",
       "  <tbody>\n",
       "    <tr>\n",
       "      <th>Afghanistan</th>\n",
       "      <td>Abats Comestible</td>\n",
       "      <td>animale</td>\n",
       "      <td>NaN</td>\n",
       "      <td>NaN</td>\n",
       "      <td>5.0</td>\n",
       "      <td>1.72</td>\n",
       "      <td>0.20</td>\n",
       "      <td>0.77</td>\n",
       "      <td>53.0</td>\n",
       "      <td>NaN</td>\n",
       "      <td>NaN</td>\n",
       "      <td>53.0</td>\n",
       "      <td>NaN</td>\n",
       "      <td>53.0</td>\n",
       "      <td>NaN</td>\n",
       "      <td>NaN</td>\n",
       "      <td>NaN</td>\n",
       "    </tr>\n",
       "    <tr>\n",
       "      <th>Afghanistan</th>\n",
       "      <td>Agrumes, Autres</td>\n",
       "      <td>vegetale</td>\n",
       "      <td>NaN</td>\n",
       "      <td>NaN</td>\n",
       "      <td>1.0</td>\n",
       "      <td>1.29</td>\n",
       "      <td>0.01</td>\n",
       "      <td>0.02</td>\n",
       "      <td>41.0</td>\n",
       "      <td>2.0</td>\n",
       "      <td>40.0</td>\n",
       "      <td>39.0</td>\n",
       "      <td>2.0</td>\n",
       "      <td>3.0</td>\n",
       "      <td>NaN</td>\n",
       "      <td>NaN</td>\n",
       "      <td>NaN</td>\n",
       "    </tr>\n",
       "    <tr>\n",
       "      <th>Afghanistan</th>\n",
       "      <td>Aliments pour enfants</td>\n",
       "      <td>vegetale</td>\n",
       "      <td>NaN</td>\n",
       "      <td>NaN</td>\n",
       "      <td>1.0</td>\n",
       "      <td>0.06</td>\n",
       "      <td>0.01</td>\n",
       "      <td>0.03</td>\n",
       "      <td>2.0</td>\n",
       "      <td>NaN</td>\n",
       "      <td>2.0</td>\n",
       "      <td>2.0</td>\n",
       "      <td>NaN</td>\n",
       "      <td>NaN</td>\n",
       "      <td>NaN</td>\n",
       "      <td>NaN</td>\n",
       "      <td>NaN</td>\n",
       "    </tr>\n",
       "    <tr>\n",
       "      <th>Afghanistan</th>\n",
       "      <td>Ananas</td>\n",
       "      <td>vegetale</td>\n",
       "      <td>NaN</td>\n",
       "      <td>NaN</td>\n",
       "      <td>0.0</td>\n",
       "      <td>0.00</td>\n",
       "      <td>NaN</td>\n",
       "      <td>NaN</td>\n",
       "      <td>0.0</td>\n",
       "      <td>NaN</td>\n",
       "      <td>0.0</td>\n",
       "      <td>0.0</td>\n",
       "      <td>NaN</td>\n",
       "      <td>NaN</td>\n",
       "      <td>NaN</td>\n",
       "      <td>NaN</td>\n",
       "      <td>NaN</td>\n",
       "    </tr>\n",
       "    <tr>\n",
       "      <th>Afghanistan</th>\n",
       "      <td>Bananes</td>\n",
       "      <td>vegetale</td>\n",
       "      <td>NaN</td>\n",
       "      <td>NaN</td>\n",
       "      <td>4.0</td>\n",
       "      <td>2.70</td>\n",
       "      <td>0.02</td>\n",
       "      <td>0.05</td>\n",
       "      <td>82.0</td>\n",
       "      <td>NaN</td>\n",
       "      <td>82.0</td>\n",
       "      <td>82.0</td>\n",
       "      <td>NaN</td>\n",
       "      <td>NaN</td>\n",
       "      <td>NaN</td>\n",
       "      <td>NaN</td>\n",
       "      <td>NaN</td>\n",
       "    </tr>\n",
       "  </tbody>\n",
       "</table>\n",
       "</div>"
      ],
      "text/plain": [
       "                           Produit   Origine  Aliments pour animaux  \\\n",
       "Zone                                                                  \n",
       "Afghanistan       Abats Comestible   animale                    NaN   \n",
       "Afghanistan        Agrumes, Autres  vegetale                    NaN   \n",
       "Afghanistan  Aliments pour enfants  vegetale                    NaN   \n",
       "Afghanistan                 Ananas  vegetale                    NaN   \n",
       "Afghanistan                Bananes  vegetale                    NaN   \n",
       "\n",
       "             Autres Utilisations  \\\n",
       "Zone                               \n",
       "Afghanistan                  NaN   \n",
       "Afghanistan                  NaN   \n",
       "Afghanistan                  NaN   \n",
       "Afghanistan                  NaN   \n",
       "Afghanistan                  NaN   \n",
       "\n",
       "             Disponibilité alimentaire (Kcal/personne/jour)  \\\n",
       "Zone                                                          \n",
       "Afghanistan                                             5.0   \n",
       "Afghanistan                                             1.0   \n",
       "Afghanistan                                             1.0   \n",
       "Afghanistan                                             0.0   \n",
       "Afghanistan                                             4.0   \n",
       "\n",
       "             Disponibilité alimentaire en quantité (kg/personne/an)  \\\n",
       "Zone                                                                  \n",
       "Afghanistan                                               1.72        \n",
       "Afghanistan                                               1.29        \n",
       "Afghanistan                                               0.06        \n",
       "Afghanistan                                               0.00        \n",
       "Afghanistan                                               2.70        \n",
       "\n",
       "             Disponibilité de matière grasse en quantité (g/personne/jour)  \\\n",
       "Zone                                                                         \n",
       "Afghanistan                                               0.20               \n",
       "Afghanistan                                               0.01               \n",
       "Afghanistan                                               0.01               \n",
       "Afghanistan                                                NaN               \n",
       "Afghanistan                                               0.02               \n",
       "\n",
       "             Disponibilité de protéines en quantité (g/personne/jour)  \\\n",
       "Zone                                                                    \n",
       "Afghanistan                                               0.77          \n",
       "Afghanistan                                               0.02          \n",
       "Afghanistan                                               0.03          \n",
       "Afghanistan                                                NaN          \n",
       "Afghanistan                                               0.05          \n",
       "\n",
       "             Disponibilité intérieure  Exportations - Quantité  \\\n",
       "Zone                                                             \n",
       "Afghanistan                      53.0                      NaN   \n",
       "Afghanistan                      41.0                      2.0   \n",
       "Afghanistan                       2.0                      NaN   \n",
       "Afghanistan                       0.0                      NaN   \n",
       "Afghanistan                      82.0                      NaN   \n",
       "\n",
       "             Importations - Quantité  Nourriture  Pertes  Production  \\\n",
       "Zone                                                                   \n",
       "Afghanistan                      NaN        53.0     NaN        53.0   \n",
       "Afghanistan                     40.0        39.0     2.0         3.0   \n",
       "Afghanistan                      2.0         2.0     NaN         NaN   \n",
       "Afghanistan                      0.0         0.0     NaN         NaN   \n",
       "Afghanistan                     82.0        82.0     NaN         NaN   \n",
       "\n",
       "             Semences  Traitement  Variation de stock  \n",
       "Zone                                                   \n",
       "Afghanistan       NaN         NaN                 NaN  \n",
       "Afghanistan       NaN         NaN                 NaN  \n",
       "Afghanistan       NaN         NaN                 NaN  \n",
       "Afghanistan       NaN         NaN                 NaN  \n",
       "Afghanistan       NaN         NaN                 NaN  "
      ]
     },
     "execution_count": 12,
     "metadata": {},
     "output_type": "execute_result"
    }
   ],
   "source": [
    "df_dispo_alim.head(5)"
   ]
  },
  {
   "cell_type": "markdown",
   "metadata": {},
   "source": [
    "## Analyse de la forme des données"
   ]
  },
  {
   "cell_type": "code",
   "execution_count": 23,
   "metadata": {},
   "outputs": [
    {
     "name": "stdout",
     "output_type": "stream",
     "text": [
      "<class 'pandas.core.frame.DataFrame'>\n",
      "Index: 15605 entries, Afghanistan to Îles Salomon\n",
      "Data columns (total 17 columns):\n",
      " #   Column                                                         Non-Null Count  Dtype  \n",
      "---  ------                                                         --------------  -----  \n",
      " 0   Produit                                                        15605 non-null  object \n",
      " 1   Origine                                                        15605 non-null  object \n",
      " 2   Aliments pour animaux                                          2720 non-null   float64\n",
      " 3   Autres Utilisations                                            5496 non-null   float64\n",
      " 4   Disponibilité alimentaire (Kcal/personne/jour)                 14241 non-null  float64\n",
      " 5   Disponibilité alimentaire en quantité (kg/personne/an)         14015 non-null  float64\n",
      " 6   Disponibilité de matière grasse en quantité (g/personne/jour)  11794 non-null  float64\n",
      " 7   Disponibilité de protéines en quantité (g/personne/jour)       11561 non-null  float64\n",
      " 8   Disponibilité intérieure                                       15382 non-null  float64\n",
      " 9   Exportations - Quantité                                        12226 non-null  float64\n",
      " 10  Importations - Quantité                                        14852 non-null  float64\n",
      " 11  Nourriture                                                     14015 non-null  float64\n",
      " 12  Pertes                                                         4278 non-null   float64\n",
      " 13  Production                                                     9180 non-null   float64\n",
      " 14  Semences                                                       2091 non-null   float64\n",
      " 15  Traitement                                                     2292 non-null   float64\n",
      " 16  Variation de stock                                             6776 non-null   float64\n",
      "dtypes: float64(15), object(2)\n",
      "memory usage: 2.1+ MB\n"
     ]
    }
   ],
   "source": [
    "df_dispo_alim.info()"
   ]
  },
  {
   "cell_type": "code",
   "execution_count": 24,
   "metadata": {},
   "outputs": [
    {
     "data": {
      "text/plain": [
       "(15605, 17)"
      ]
     },
     "execution_count": 24,
     "metadata": {},
     "output_type": "execute_result"
    }
   ],
   "source": [
    "df_dispo_alim.shape"
   ]
  },
  {
   "cell_type": "markdown",
   "metadata": {},
   "source": [
    "#### Nombre de pays dans le DataFrame"
   ]
  },
  {
   "cell_type": "code",
   "execution_count": 137,
   "metadata": {},
   "outputs": [
    {
     "data": {
      "text/plain": [
       "174"
      ]
     },
     "execution_count": 137,
     "metadata": {},
     "output_type": "execute_result"
    }
   ],
   "source": [
    "df_dispo_alim.index.nunique()"
   ]
  },
  {
   "cell_type": "markdown",
   "metadata": {},
   "source": [
    "#### Proportion (%) de NaN par Colonne"
   ]
  },
  {
   "cell_type": "code",
   "execution_count": 168,
   "metadata": {},
   "outputs": [
    {
     "data": {
      "text/plain": [
       "Semences                                                         86.600449\n",
       "Traitement                                                       85.312400\n",
       "Aliments pour animaux                                            82.569689\n",
       "Pertes                                                           72.585710\n",
       "Autres Utilisations                                              64.780519\n",
       "Variation de stock                                               56.578020\n",
       "Production                                                       41.172701\n",
       "Disponibilité de protéines en quantité (g/personne/jour)         25.914771\n",
       "Disponibilité de matière grasse en quantité (g/personne/jour)    24.421660\n",
       "Exportations - Quantité                                          21.653316\n",
       "Nourriture                                                       10.189042\n",
       "Disponibilité alimentaire en quantité (kg/personne/an)           10.189042\n",
       "Disponibilité alimentaire (Kcal/personne/jour)                    8.740788\n",
       "Importations - Quantité                                           4.825376\n",
       "Disponibilité intérieure                                          1.429029\n",
       "Origine                                                           0.000000\n",
       "Produit                                                           0.000000\n",
       "dtype: float64"
      ]
     },
     "execution_count": 168,
     "metadata": {},
     "output_type": "execute_result"
    }
   ],
   "source": [
    "((df_dispo_alim.isnull().sum()/df_dispo_alim.shape[0]).sort_values(ascending=False) *100)"
   ]
  },
  {
   "cell_type": "markdown",
   "metadata": {},
   "source": [
    "Il y a énormément de NaN donc je les remplace par 0"
   ]
  },
  {
   "cell_type": "code",
   "execution_count": 88,
   "metadata": {},
   "outputs": [],
   "source": [
    "df_dispo_alim = df_dispo_alim.fillna(0)"
   ]
  },
  {
   "cell_type": "markdown",
   "metadata": {},
   "source": [
    "Pour simplifier les calculs pour la suite je multiplie par 1 000 000 toutes les colonnes dont l'unité est milliers de tonnes en kg."
   ]
  },
  {
   "cell_type": "code",
   "execution_count": 89,
   "metadata": {},
   "outputs": [],
   "source": [
    "tonnes_columns = [\"Aliments pour animaux\", \"Disponibilité intérieure\", \"Exportations - Quantité\", \"Importations - Quantité\",\n",
    "                  \"Nourriture\", \"Production\", \"Semences\", \"Traitement\", \"Variation de stock\", \"Autres Utilisations\"]\n",
    "\n",
    "for i in tonnes_columns:\n",
    "    df_dispo_alim[i] *= 10**6"
   ]
  },
  {
   "cell_type": "markdown",
   "metadata": {},
   "source": [
    "### 4- Données sur l'aide alimentaire apportée dans les pays pauvres"
   ]
  },
  {
   "cell_type": "code",
   "execution_count": 205,
   "metadata": {},
   "outputs": [],
   "source": [
    "url = 'D:\\\\Downloads\\\\DAN-P4-FAO\\\\aide_alimentaire.csv'\n",
    "df_4 = pd.read_csv(url, index_col=0, encoding = \"utf-8\")\n",
    "df_aide_alim=df_4.copy()"
   ]
  },
  {
   "cell_type": "code",
   "execution_count": 10,
   "metadata": {},
   "outputs": [
    {
     "data": {
      "text/html": [
       "<div>\n",
       "<style scoped>\n",
       "    .dataframe tbody tr th:only-of-type {\n",
       "        vertical-align: middle;\n",
       "    }\n",
       "\n",
       "    .dataframe tbody tr th {\n",
       "        vertical-align: top;\n",
       "    }\n",
       "\n",
       "    .dataframe thead th {\n",
       "        text-align: right;\n",
       "    }\n",
       "</style>\n",
       "<table border=\"1\" class=\"dataframe\">\n",
       "  <thead>\n",
       "    <tr style=\"text-align: right;\">\n",
       "      <th></th>\n",
       "      <th>Année</th>\n",
       "      <th>Produit</th>\n",
       "      <th>Valeur</th>\n",
       "    </tr>\n",
       "    <tr>\n",
       "      <th>Pays bénéficiaire</th>\n",
       "      <th></th>\n",
       "      <th></th>\n",
       "      <th></th>\n",
       "    </tr>\n",
       "  </thead>\n",
       "  <tbody>\n",
       "    <tr>\n",
       "      <th>Afghanistan</th>\n",
       "      <td>2013</td>\n",
       "      <td>Autres non-céréales</td>\n",
       "      <td>682</td>\n",
       "    </tr>\n",
       "    <tr>\n",
       "      <th>Afghanistan</th>\n",
       "      <td>2014</td>\n",
       "      <td>Autres non-céréales</td>\n",
       "      <td>335</td>\n",
       "    </tr>\n",
       "    <tr>\n",
       "      <th>Afghanistan</th>\n",
       "      <td>2013</td>\n",
       "      <td>Blé et Farin</td>\n",
       "      <td>39224</td>\n",
       "    </tr>\n",
       "    <tr>\n",
       "      <th>Afghanistan</th>\n",
       "      <td>2014</td>\n",
       "      <td>Blé et Farin</td>\n",
       "      <td>15160</td>\n",
       "    </tr>\n",
       "    <tr>\n",
       "      <th>Afghanistan</th>\n",
       "      <td>2013</td>\n",
       "      <td>Céréales</td>\n",
       "      <td>40504</td>\n",
       "    </tr>\n",
       "  </tbody>\n",
       "</table>\n",
       "</div>"
      ],
      "text/plain": [
       "                   Année              Produit  Valeur\n",
       "Pays bénéficiaire                                    \n",
       "Afghanistan         2013  Autres non-céréales     682\n",
       "Afghanistan         2014  Autres non-céréales     335\n",
       "Afghanistan         2013         Blé et Farin   39224\n",
       "Afghanistan         2014         Blé et Farin   15160\n",
       "Afghanistan         2013             Céréales   40504"
      ]
     },
     "execution_count": 10,
     "metadata": {},
     "output_type": "execute_result"
    }
   ],
   "source": [
    "df_aide_alim.head()"
   ]
  },
  {
   "cell_type": "markdown",
   "metadata": {},
   "source": [
    "Je renomme la colonne Pays bénéficiaire en Zone pour être raccord avec les autres Dataframes"
   ]
  },
  {
   "cell_type": "code",
   "execution_count": 206,
   "metadata": {},
   "outputs": [],
   "source": [
    "df_aide_alim.rename(columns={\"Pays bénéficiaire\":\"Zone\"}, inplace=True)"
   ]
  },
  {
   "cell_type": "markdown",
   "metadata": {},
   "source": [
    "### Analyse de la forme des données"
   ]
  },
  {
   "cell_type": "code",
   "execution_count": 27,
   "metadata": {},
   "outputs": [
    {
     "name": "stdout",
     "output_type": "stream",
     "text": [
      "<class 'pandas.core.frame.DataFrame'>\n",
      "Index: 1475 entries, Afghanistan to Zimbabwe\n",
      "Data columns (total 3 columns):\n",
      " #   Column   Non-Null Count  Dtype \n",
      "---  ------   --------------  ----- \n",
      " 0   Année    1475 non-null   int64 \n",
      " 1   Produit  1475 non-null   object\n",
      " 2   Valeur   1475 non-null   int64 \n",
      "dtypes: int64(2), object(1)\n",
      "memory usage: 46.1+ KB\n"
     ]
    }
   ],
   "source": [
    "df_aide_alim.info()"
   ]
  },
  {
   "cell_type": "code",
   "execution_count": 28,
   "metadata": {},
   "outputs": [
    {
     "data": {
      "text/plain": [
       "(1475, 3)"
      ]
     },
     "execution_count": 28,
     "metadata": {},
     "output_type": "execute_result"
    }
   ],
   "source": [
    "df_aide_alim.shape"
   ]
  },
  {
   "cell_type": "code",
   "execution_count": 171,
   "metadata": {},
   "outputs": [
    {
     "data": {
      "text/plain": [
       "Index(['Afghanistan', 'Algérie', 'Angola', 'Bangladesh', 'Bénin', 'Bhoutan',\n",
       "       'Bolivie (État plurinational de)', 'Burkina Faso', 'Burundi',\n",
       "       'Cambodge', 'Cameroun', 'Chine, continentale', 'Colombie', 'Comores',\n",
       "       'Congo', 'Côte d'Ivoire', 'Cuba', 'Djibouti', 'Égypte', 'El Salvador',\n",
       "       'Équateur', 'Éthiopie', 'Gambie', 'Géorgie', 'Ghana', 'Guatemala',\n",
       "       'Guinée', 'Guinée-Bissau', 'Haïti', 'Honduras',\n",
       "       'Iran (République islamique d')', 'Iraq', 'Jordanie', 'Kenya',\n",
       "       'Kirghizistan', 'Lesotho', 'Liban', 'Libéria', 'Libye', 'Madagascar',\n",
       "       'Malawi', 'Mali', 'Mauritanie', 'Mozambique', 'Myanmar', 'Népal',\n",
       "       'Nicaragua', 'Niger', 'Ouganda', 'Pakistan', 'Palestine', 'Philippines',\n",
       "       'République arabe syrienne', 'République centrafricaine',\n",
       "       'République démocratique du Congo',\n",
       "       'République démocratique populaire lao', 'République dominicaine',\n",
       "       'République populaire démocratique de Corée',\n",
       "       'République-Unie de Tanzanie', 'Rwanda', 'Sao Tomé-et-Principe',\n",
       "       'Sénégal', 'Sierra Leone', 'Somalie', 'Soudan', 'Soudan du Sud',\n",
       "       'Sri Lanka', 'Swaziland', 'Tadjikistan', 'Tchad', 'Timor-Leste', 'Togo',\n",
       "       'Vanuatu', 'Yémen', 'Zambie', 'Zimbabwe'],\n",
       "      dtype='object', name='Pays bénéficiaire')"
      ]
     },
     "execution_count": 171,
     "metadata": {},
     "output_type": "execute_result"
    }
   ],
   "source": [
    "df_aide_alim.index.unique()"
   ]
  },
  {
   "cell_type": "markdown",
   "metadata": {},
   "source": [
    "#### Nombre de pays qui ont bénéficié d'aides alimentaires"
   ]
  },
  {
   "cell_type": "code",
   "execution_count": 172,
   "metadata": {},
   "outputs": [
    {
     "data": {
      "text/plain": [
       "76"
      ]
     },
     "execution_count": 172,
     "metadata": {},
     "output_type": "execute_result"
    }
   ],
   "source": [
    "df_aide_alim.index.nunique()"
   ]
  },
  {
   "cell_type": "code",
   "execution_count": 169,
   "metadata": {},
   "outputs": [
    {
     "data": {
      "text/plain": [
       "Année  Produit  Valeur\n",
       "False  False    False     1475\n",
       "dtype: int64"
      ]
     },
     "execution_count": 169,
     "metadata": {},
     "output_type": "execute_result"
    }
   ],
   "source": [
    "df_aide_alim.isnull().value_counts()"
   ]
  },
  {
   "cell_type": "markdown",
   "metadata": {},
   "source": [
    "Pour simplifier les calculs pour la suite je multiplie par 1 000 la colonne Valeur dont l'unité est la tonne en kg."
   ]
  },
  {
   "cell_type": "code",
   "execution_count": 207,
   "metadata": {},
   "outputs": [],
   "source": [
    "df_aide_alim[\"Valeur\"] *= 1000"
   ]
  },
  {
   "cell_type": "markdown",
   "metadata": {},
   "source": [
    "# 1. Réalisez une étude de santé publique avec Python\n",
    "\n",
    "## Objectifs :\n",
    "- Comprendre du mieux possible nos données (un petit pas en avant vaut mieux qu'un grand pas en arriere)\n",
    "- Donner un panorama de l’état de la malnutrition dans le monde\n",
    "- Trouver la proportion de personnes en état de sous-nutrition ;\n",
    "- Trouver le nombre théorique de personnes qui pourraient être nourries. Tu devrais pouvoir calculer ça à partir de la disponibilité alimentaire mondiale ;\n",
    "- idem pour la disponibilité alimentaire des produits végétaux ;\n",
    "- L’utilisation de la disponibilité intérieure, en particulier la part qui est attribuée à l’alimentation animale, celle qui est perdue et celle qui est concrètement utilisée pour l'alimentation humaine. Je crois que Julien avait trouvé un moyen de facilement calculer ces proportions.\n",
    "- Donner les pays pour lesquels la proportion de personnes sous-alimentées est la plus forte en 2017; \n",
    "- Ceux qui ont le plus bénéficié d’aide depuis 2013;\n",
    "- Ceux ayant le plus/le moins de disponibilité/habitant\n",
    "\n",
    "## Checklist de base\n",
    "#### Analyse de Forme :\n",
    "- **4 fichiers csv** : *sous_nutrition.csv, population.csv, dispo_alimentaire.csv, aide_alimentaire.csv*\n",
    "- **lignes et colonnes** : (1218, 2) ; (1416, 2) ; (15605, 17); (1475, 3)\n",
    "- **types de variables** : (qualitatives : 1, quantitatives : 1) ; (qualitatives : 1, quantitatives : 1) ; (qualitatives : 2, quantitatives : 15) ; (qualitatives : 2, quantitatives : 1)\n",
    "- **Analyse des valeurs manquantes** :\n",
    "    - *sous_nutrition.csv* : beaucoup de NaN (48,76%)\n",
    "    - *population.csv* : 0%\n",
    "    - *dispo_alimentaire.csv* : 35.11%\n",
    "    - *aide_alimentaire.csv* : 0%\n",
    "\n",
    "#### Analyse de Fond :\n",
    "\n",
    "     \n",
    "- **Signification des variables** :\n",
    "     1. Un fichier de disponibilité alimentaire pour l’année 2013 qui contient 17 variables (*dispo_alimentaire.csv*) :\n",
    "        - Le pays.\n",
    "        - Le produit.\n",
    "        - 4 variables de disponibilité alimentaire. Ces 4 variables sont exprimées dans des unités bien spécifiques, qui sont précisées directement dans le nom de la variable. À noter cependant que la notation kcal est un abus de langage, elle correspond à une calorie réelle.\n",
    "        - 10 variables qui précisent les utilisations/moyens d’acquisition de la disponibilité alimentaire. Elles sont toutes exprimées en milliers de tonnes.\n",
    "        - Enfin, une variable type qui précise si le produit est d’origine animale ou végétale.\n",
    "        \n",
    "     2. Un fichier d’insécurité alimentaire, qui inclut (*sous_nutrition.csv*):\n",
    "        - Le pays.\n",
    "        - Intervalle d’années.\n",
    "        - Le nombre de personnes en sous-alimentation en millions d’habitants (ex. : pour l’intervalle 2012-2014, le nombre de personnes correspond à la moyenne sur ces 3 années, on peut le résumer en 2013).\n",
    "\n",
    "     3. Un fichier de population qui inclut (*population.csv*):\n",
    "        - Le pays.\n",
    "        - L’année.\n",
    "        - La population du pays, exprimée en milliers d’habitants.\n",
    "        \n",
    "     4. Un fichier d’aide alimentaire qui contient (*aide_alimentaire.csv*):\n",
    "        - Le pays bénéficiaire.\n",
    "        - L’année.\n",
    "        - Le produit.\n",
    "        - La quantité qui a été donnée comme aide alimentaire, en tonnes.\n",
    "\n",
    "\n",
    "    \n",
    "## Analyse plus détaillée\n",
    "\n",
    "\n",
    "\n",
    "\n",
    "\n",
    "#### Conclusion rapide \n",
    "\n",
    "- Nous produisons bien assez de nourriture pour nourrir la planète entière mais il y a beaucoup de pertes et son utilisation n'est pas exclusive à l'alimentation humaine.\n",
    "- Les pays en état de sous nutrition exportent enormément leurs céréales qui sont leurs principales ressources alimentaire.\n",
    "\n",
    "\n",
    "    "
   ]
  },
  {
   "cell_type": "markdown",
   "metadata": {},
   "source": [
    "# Missions données par Marc"
   ]
  },
  {
   "cell_type": "markdown",
   "metadata": {},
   "source": [
    "### **1- Trouver la proportion de personnes en état de sous-nutrition**"
   ]
  },
  {
   "cell_type": "markdown",
   "metadata": {},
   "source": [
    "#### Créer une liste du nombre de personnes en état de sous nutrition par année"
   ]
  },
  {
   "cell_type": "code",
   "execution_count": 10,
   "metadata": {},
   "outputs": [],
   "source": [
    "Annee= ['2013','2014','2015','2016','2017','2018']\n",
    "lst_sous_nutr =[]\n",
    "for x in Annee:\n",
    " lst_sous_nutr.append(df_sous_nutr[df_sous_nutr[\"Année\"] == f\"{x}\"].Valeur.sum())"
   ]
  },
  {
   "cell_type": "code",
   "execution_count": 11,
   "metadata": {},
   "outputs": [
    {
     "data": {
      "text/plain": [
       "[528.1000000000001, 523.5, 524.7, 528.5999999999999, 535.7, 544.1999999999999]"
      ]
     },
     "execution_count": 11,
     "metadata": {},
     "output_type": "execute_result"
    }
   ],
   "source": [
    "lst_sous_nutr"
   ]
  },
  {
   "cell_type": "markdown",
   "metadata": {},
   "source": [
    "#### Créer un Dataframe pour lister le nombre total de personnes en état de sous nutrition par année + la population mondiale afin de calculer la proportion de personnes en état de sous nutrition"
   ]
  },
  {
   "cell_type": "code",
   "execution_count": 30,
   "metadata": {},
   "outputs": [],
   "source": [
    "lst_pop_mond=[df_pop[\"Population\"][df_pop[\"Année\"] == 2013].sum(), \n",
    "              df_pop[\"Population\"][df_pop[\"Année\"] == 2014].sum(), \n",
    "              df_pop[\"Population\"][df_pop[\"Année\"] == 2015].sum(), \n",
    "              df_pop[\"Population\"][df_pop[\"Année\"] == 2016].sum(), \n",
    "              df_pop[\"Population\"][df_pop[\"Année\"] == 2017].sum(), \n",
    "              df_pop[\"Population\"][df_pop[\"Année\"] == 2018].sum()]\n",
    "Sum = {'Année': Annee,\n",
    "        'Total Personnes en ss_nutrition (en millions)': lst_sous_nutr,\n",
    "        'Pop_Mondiale':lst_pop_mond\n",
    "        }\n",
    "\n",
    "df_ss_nutr_Sum = pd.DataFrame(Sum, columns = ['Année', 'Total Personnes en ss_nutrition (en millions)','Pop_Mondiale'])"
   ]
  },
  {
   "cell_type": "markdown",
   "metadata": {},
   "source": [
    "#### Convertir dtype de la colonne Année en datetime car cela n'est pas une variable quantitative"
   ]
  },
  {
   "cell_type": "code",
   "execution_count": 31,
   "metadata": {},
   "outputs": [],
   "source": [
    "df_ss_nutr_Sum[\"Année\"] = pd.to_datetime(df_ss_nutr_Sum[\"Année\"], format=\"%Y\")\n",
    "df_ss_nutr_Sum = df_ss_nutr_Sum.set_index(pd.DatetimeIndex(df_ss_nutr_Sum['Année']))"
   ]
  },
  {
   "cell_type": "code",
   "execution_count": 35,
   "metadata": {},
   "outputs": [
    {
     "name": "stdout",
     "output_type": "stream",
     "text": [
      "<class 'pandas.core.frame.DataFrame'>\n",
      "DatetimeIndex: 6 entries, 2013-01-01 to 2018-01-01\n",
      "Data columns (total 3 columns):\n",
      " #   Column                                         Non-Null Count  Dtype         \n",
      "---  ------                                         --------------  -----         \n",
      " 0   Année                                          6 non-null      datetime64[ns]\n",
      " 1   Total Personnes en ss_nutrition (en millions)  6 non-null      float64       \n",
      " 2   Pop_Mondiale                                   6 non-null      float64       \n",
      "dtypes: datetime64[ns](1), float64(2)\n",
      "memory usage: 192.0 bytes\n"
     ]
    }
   ],
   "source": [
    "df_ss_nutr_Sum.info()"
   ]
  },
  {
   "cell_type": "markdown",
   "metadata": {},
   "source": [
    "#### Ajouter une colonne Proportion de personnes en état de sous nutrition en %"
   ]
  },
  {
   "cell_type": "code",
   "execution_count": 37,
   "metadata": {},
   "outputs": [],
   "source": [
    "df_ss_nutr_Sum[\"Proportion_ss_nutr(%)\"] = (((df_ss_nutr_Sum[\"Total Personnes en ss_nutrition (en millions)\"] * 10**6) / (df_ss_nutr_Sum[\"Pop_Mondiale\"] * 10**6)) * 100)"
   ]
  },
  {
   "cell_type": "code",
   "execution_count": 482,
   "metadata": {},
   "outputs": [
    {
     "data": {
      "text/html": [
       "<div>\n",
       "<style scoped>\n",
       "    .dataframe tbody tr th:only-of-type {\n",
       "        vertical-align: middle;\n",
       "    }\n",
       "\n",
       "    .dataframe tbody tr th {\n",
       "        vertical-align: top;\n",
       "    }\n",
       "\n",
       "    .dataframe thead th {\n",
       "        text-align: right;\n",
       "    }\n",
       "</style>\n",
       "<table border=\"1\" class=\"dataframe\">\n",
       "  <thead>\n",
       "    <tr style=\"text-align: right;\">\n",
       "      <th></th>\n",
       "      <th>Total Personnes en ss_nutrition (en millions)</th>\n",
       "      <th>Pop_Mondiale</th>\n",
       "      <th>Proportion_ss_nutr(%)</th>\n",
       "    </tr>\n",
       "    <tr>\n",
       "      <th>Année</th>\n",
       "      <th></th>\n",
       "      <th></th>\n",
       "      <th></th>\n",
       "    </tr>\n",
       "  </thead>\n",
       "  <tbody>\n",
       "    <tr>\n",
       "      <th>2013-01-01</th>\n",
       "      <td>528.1</td>\n",
       "      <td>7210.845848</td>\n",
       "      <td>7.323690</td>\n",
       "    </tr>\n",
       "    <tr>\n",
       "      <th>2014-01-01</th>\n",
       "      <td>523.5</td>\n",
       "      <td>7295.557771</td>\n",
       "      <td>7.175599</td>\n",
       "    </tr>\n",
       "    <tr>\n",
       "      <th>2015-01-01</th>\n",
       "      <td>524.7</td>\n",
       "      <td>7380.067075</td>\n",
       "      <td>7.109691</td>\n",
       "    </tr>\n",
       "    <tr>\n",
       "      <th>2016-01-01</th>\n",
       "      <td>528.6</td>\n",
       "      <td>7464.294742</td>\n",
       "      <td>7.081714</td>\n",
       "    </tr>\n",
       "    <tr>\n",
       "      <th>2017-01-01</th>\n",
       "      <td>535.7</td>\n",
       "      <td>7548.134111</td>\n",
       "      <td>7.097118</td>\n",
       "    </tr>\n",
       "    <tr>\n",
       "      <th>2018-01-01</th>\n",
       "      <td>544.2</td>\n",
       "      <td>7631.368523</td>\n",
       "      <td>7.131093</td>\n",
       "    </tr>\n",
       "  </tbody>\n",
       "</table>\n",
       "</div>"
      ],
      "text/plain": [
       "            Total Personnes en ss_nutrition (en millions)  Pop_Mondiale  \\\n",
       "Année                                                                     \n",
       "2013-01-01                                          528.1   7210.845848   \n",
       "2014-01-01                                          523.5   7295.557771   \n",
       "2015-01-01                                          524.7   7380.067075   \n",
       "2016-01-01                                          528.6   7464.294742   \n",
       "2017-01-01                                          535.7   7548.134111   \n",
       "2018-01-01                                          544.2   7631.368523   \n",
       "\n",
       "            Proportion_ss_nutr(%)  \n",
       "Année                              \n",
       "2013-01-01               7.323690  \n",
       "2014-01-01               7.175599  \n",
       "2015-01-01               7.109691  \n",
       "2016-01-01               7.081714  \n",
       "2017-01-01               7.097118  \n",
       "2018-01-01               7.131093  "
      ]
     },
     "execution_count": 482,
     "metadata": {},
     "output_type": "execute_result"
    }
   ],
   "source": [
    "df_ss_nutr_Sum.drop(columns=\"Année\",axis=0)"
   ]
  },
  {
   "cell_type": "markdown",
   "metadata": {},
   "source": [
    "#### Créer un Dataframe pour visualiser la proportion de personnes en état de malnutrition dans le monde par année"
   ]
  },
  {
   "cell_type": "code",
   "execution_count": 39,
   "metadata": {
    "slideshow": {
     "slide_type": "subslide"
    }
   },
   "outputs": [
    {
     "data": {
      "image/png": "[encoded data removed]",
      "text/plain": [
       "<Figure size 360x360 with 1 Axes>"
      ]
     },
     "metadata": {},
     "output_type": "display_data"
    },
    {
     "data": {
      "image/png": "[encoded data removed]",
      "text/plain": [
       "<Figure size 360x360 with 1 Axes>"
      ]
     },
     "metadata": {},
     "output_type": "display_data"
    },
    {
     "data": {
      "image/png": "[encoded data removed]",
      "text/plain": [
       "<Figure size 360x360 with 1 Axes>"
      ]
     },
     "metadata": {},
     "output_type": "display_data"
    },
    {
     "data": {
      "image/png": "[encoded data removed]",
      "text/plain": [
       "<Figure size 360x360 with 1 Axes>"
      ]
     },
     "metadata": {},
     "output_type": "display_data"
    },
    {
     "data": {
      "image/png": "[encoded data removed]",
      "text/plain": [
       "<Figure size 360x360 with 1 Axes>"
      ]
     },
     "metadata": {},
     "output_type": "display_data"
    },
    {
     "data": {
      "image/png": "[encoded data removed]",
      "text/plain": [
       "<Figure size 360x360 with 1 Axes>"
      ]
     },
     "metadata": {},
     "output_type": "display_data"
    }
   ],
   "source": [
    "df = pd.DataFrame({'Flux0': [df_ss_nutr_Sum[\"Pop_Mondiale\"][0]  - df_ss_nutr_Sum[\"Total Personnes en ss_nutrition (en millions)\"][0] ,df_ss_nutr_Sum[\"Total Personnes en ss_nutrition (en millions)\"][0]],\n",
    "                  'Flux1': [df_ss_nutr_Sum[\"Pop_Mondiale\"][1]  - df_ss_nutr_Sum[\"Total Personnes en ss_nutrition (en millions)\"][1],df_ss_nutr_Sum[\"Total Personnes en ss_nutrition (en millions)\"][1]],\n",
    "                  'Flux2': [df_ss_nutr_Sum[\"Pop_Mondiale\"][2]  - df_ss_nutr_Sum[\"Total Personnes en ss_nutrition (en millions)\"][2],df_ss_nutr_Sum[\"Total Personnes en ss_nutrition (en millions)\"][2]],\n",
    "                  'Flux3': [df_ss_nutr_Sum[\"Pop_Mondiale\"][3]  - df_ss_nutr_Sum[\"Total Personnes en ss_nutrition (en millions)\"][3],df_ss_nutr_Sum[\"Total Personnes en ss_nutrition (en millions)\"][3]],\n",
    "                  'Flux4': [df_ss_nutr_Sum[\"Pop_Mondiale\"][4]  - df_ss_nutr_Sum[\"Total Personnes en ss_nutrition (en millions)\"][4],df_ss_nutr_Sum[\"Total Personnes en ss_nutrition (en millions)\"][4]],\n",
    "                  'Flux5': [df_ss_nutr_Sum[\"Pop_Mondiale\"][5]  - df_ss_nutr_Sum[\"Total Personnes en ss_nutrition (en millions)\"][5],df_ss_nutr_Sum[\"Total Personnes en ss_nutrition (en millions)\"][5]]},\n",
    "\n",
    "                  index=['Pop_Mondiale', 'Malnutrition'])\n",
    "for i in range(0,6):\n",
    " df.plot.pie(label=df_ss_nutr_Sum.index.year[i] ,y=f'Flux{i}',shadow=True,autopct=\"%.2f%%\",figsize=(5, 5),startangle=90)\n"
   ]
  },
  {
   "cell_type": "markdown",
   "metadata": {},
   "source": [
    "## Requête Falcultative"
   ]
  },
  {
   "cell_type": "markdown",
   "metadata": {},
   "source": [
    "#### Courbe représentant l'évolution du nombre de personnes en état de malnutrition dans le monde par année"
   ]
  },
  {
   "cell_type": "code",
   "execution_count": 40,
   "metadata": {
    "jupyter": {
     "source_hidden": true
    }
   },
   "outputs": [
    {
     "data": {
      "text/plain": [
       "<Figure size 1440x504 with 0 Axes>"
      ]
     },
     "metadata": {},
     "output_type": "display_data"
    },
    {
     "data": {
      "image/png": "[encoded data removed]",
      "text/plain": [
       "<Figure size 1440x504 with 1 Axes>"
      ]
     },
     "metadata": {
      "needs_background": "light"
     },
     "output_type": "display_data"
    }
   ],
   "source": [
    "plt.figure(figsize=(20,7))\n",
    "fig, ax1 = plt.subplots(figsize=(20, 7))\n",
    "plt.plot(df_ss_nutr_Sum[\"Total Personnes en ss_nutrition (en millions)\"], label='Personnes en état de malnutrition')\n",
    "plt.title(f'Nombre de personnes en état de malnutrition dans le monde')\n",
    "plt.xticks(df_ss_nutr_Sum.index,rotation = 45)\n",
    "plt.xlabel('Année')\n",
    "plt.ylabel('Personnes en malnutrition (en Millions)')\n",
    "plt.legend(loc = 'upper left')\n",
    "plt.show()\n"
   ]
  },
  {
   "cell_type": "markdown",
   "metadata": {},
   "source": [
    "#### Courbe représentant l'évolution de la proportion de personnes en état de malnutrition dans le monde par année"
   ]
  },
  {
   "cell_type": "code",
   "execution_count": 41,
   "metadata": {
    "jupyter": {
     "source_hidden": true
    }
   },
   "outputs": [
    {
     "data": {
      "text/plain": [
       "<Figure size 1440x504 with 0 Axes>"
      ]
     },
     "metadata": {},
     "output_type": "display_data"
    },
    {
     "data": {
      "image/png": "[encoded data removed]",
      "text/plain": [
       "<Figure size 1440x504 with 1 Axes>"
      ]
     },
     "metadata": {
      "needs_background": "light"
     },
     "output_type": "display_data"
    }
   ],
   "source": [
    "plt.figure(figsize=(20,7))\n",
    "fig, ax1 = plt.subplots(figsize=(20, 7))\n",
    "plt.plot(df_ss_nutr_Sum[\"Proportion_ss_nutr(%)\"], label='Personnes en état de malnutrition')\n",
    "plt.title(f'Proportion de personnes en état de malnutrition dans le monde')\n",
    "plt.xticks(df_ss_nutr_Sum.index,rotation = 45)\n",
    "plt.xlabel('Année')\n",
    "plt.ylabel('Personnes en malnutrition (%)')\n",
    "plt.legend(loc = 'upper left')\n",
    "plt.show()"
   ]
  },
  {
   "cell_type": "markdown",
   "metadata": {},
   "source": [
    "## **2- Trouver le nombre théorique de personnes qui pourraient être nourries**"
   ]
  },
  {
   "cell_type": "markdown",
   "metadata": {},
   "source": [
    "Pour cela, j'ai choisi la variable représentant les kcal car c'est un indicateur nutritionnel fiable. "
   ]
  },
  {
   "cell_type": "markdown",
   "metadata": {},
   "source": [
    "Je convertis la colonne Disponibilité alimentaire en kcal en la multipliant par la population et par 365. Une jointure est nécessaire pour avoir la population."
   ]
  },
  {
   "cell_type": "code",
   "execution_count": 90,
   "metadata": {},
   "outputs": [],
   "source": [
    "df_dispo_alim = df_dispo_alim.merge(df_pop.loc[df_pop[\"Année\"] == 2017], on=\"Zone\")\n"
   ]
  },
  {
   "cell_type": "code",
   "execution_count": 91,
   "metadata": {},
   "outputs": [],
   "source": [
    "df_dispo_alim[\"dispo_kcal\"] = df_dispo_alim[\"Disponibilité alimentaire (Kcal/personne/jour)\"] * df_dispo_alim[\"Population\"] * 365\n"
   ]
  },
  {
   "cell_type": "code",
   "execution_count": 103,
   "metadata": {},
   "outputs": [
    {
     "name": "stdout",
     "output_type": "stream",
     "text": [
      "La disponibilité alimentaire totale en kcal est de : 7635429388.975815 kcal\n"
     ]
    }
   ],
   "source": [
    "print(\"La disponibilité alimentaire totale en kcal est de :\",df_dispo_alim[\"dispo_kcal\"].sum(), \"kcal\")"
   ]
  },
  {
   "cell_type": "markdown",
   "metadata": {},
   "source": [
    " "
   ]
  },
  {
   "cell_type": "markdown",
   "metadata": {},
   "source": [
    "Un être humain moyen a besoin de 2250 kcal"
   ]
  },
  {
   "cell_type": "code",
   "execution_count": 112,
   "metadata": {},
   "outputs": [
    {
     "name": "stdout",
     "output_type": "stream",
     "text": [
      "Nombre théorique de personnes qui pourraient être nourries : 9.297 milliards\n",
      "Proportion théorique :  123.17 %\n"
     ]
    }
   ],
   "source": [
    "total_pers_kcal =  round(df_dispo_alim[\"dispo_kcal\"].sum() / (2250*365))\n",
    "print(f\"Nombre théorique de personnes qui pourraient être nourries : {total_pers_kcal / 1000} milliards\")\n",
    "print(f\"Proportion théorique : \", round(total_pers_kcal * 100 / df_pop[\"Population\"].loc[df_pop[\"Année\"] == 2017].sum(), 2 ), \"%\")"
   ]
  },
  {
   "cell_type": "markdown",
   "metadata": {},
   "source": [
    " "
   ]
  },
  {
   "cell_type": "markdown",
   "metadata": {},
   "source": [
    "## **3- Même question mais avec les produits végétaux**"
   ]
  },
  {
   "cell_type": "code",
   "execution_count": 113,
   "metadata": {},
   "outputs": [],
   "source": [
    "df_dispo_alim_vege = df_dispo_alim.loc[df_dispo_alim[\"Origine\"] == \"vegetale\", :] "
   ]
  },
  {
   "cell_type": "code",
   "execution_count": 116,
   "metadata": {},
   "outputs": [
    {
     "name": "stdout",
     "output_type": "stream",
     "text": [
      "La disponibilité alimentaire totale en kcal pour les produits végétaux est de : 6300178937.197865 kcal\n",
      "Nombre théorique de personnes qui pourraient être nourries : 7.671 milliards\n",
      "Proportion théorique :  101.63 %\n"
     ]
    }
   ],
   "source": [
    "print(\"La disponibilité alimentaire totale en kcal pour les produits végétaux est de :\",df_dispo_alim_vege[\"dispo_kcal\"].sum(), \"kcal\")\n",
    "total_pers_kcal =  round(df_dispo_alim_vege[\"dispo_kcal\"].sum() / (2250*365))\n",
    "print(f\"Nombre théorique de personnes qui pourraient être nourries : {total_pers_kcal / 1000} milliards\")\n",
    "print(f\"Proportion théorique : \", round(total_pers_kcal * 100 / df_pop[\"Population\"].loc[df_pop[\"Année\"] == 2017].sum(), 2 ), \"%\")"
   ]
  },
  {
   "cell_type": "markdown",
   "metadata": {},
   "source": [
    "### **4- Proportion Alimentation Animaux/Humain + Pertes Mondiale**"
   ]
  },
  {
   "cell_type": "markdown",
   "metadata": {},
   "source": [
    "Le calcul : Production + Importation - Exportation + Variation de stock = **Disponibilité Intérieure** = Aliments pour animaux + Nourriture + Pertes + Semences + Traitement + Autres Utilisations"
   ]
  },
  {
   "cell_type": "code",
   "execution_count": 127,
   "metadata": {},
   "outputs": [],
   "source": [
    "autres_alim = df_dispo_alim[\"Disponibilité intérieure\"].sum() - \n",
    "        (df_dispo_alim[\"Aliments pour animaux\"].sum() +\n",
    "         df_dispo_alim[\"Nourriture\"].sum() +\n",
    "         df_dispo_alim[\"Pertes\"].sum()  +\n",
    "         df_dispo_alim[\"Semences\"].sum() + df_dispo_alim[\"Traitement\"].sum() +  df_dispo_alim[\"Autres Utilisations\"].sum() )"
   ]
  },
  {
   "cell_type": "code",
   "execution_count": 138,
   "metadata": {},
   "outputs": [
    {
     "data": {
      "image/png": "[encoded data removed]",
      "text/plain": [
       "<Figure size 432x288 with 1 Axes>"
      ]
     },
     "metadata": {},
     "output_type": "display_data"
    }
   ],
   "source": [
    "# Pie chart, where the slices will be ordered and plotted counter-clockwise:\n",
    "labels = 'Aliments pour animaux', 'Aliments pour humains', 'Pertes', 'Autres'\n",
    "sizes = [df_dispo_alim[\"Aliments pour animaux\"].sum() ,\n",
    "         df_dispo_alim[\"Nourriture\"].sum() ,\n",
    "         df_dispo_alim[\"Pertes\"].sum() +  autres_alim ,\n",
    "         ( df_dispo_alim[\"Semences\"].sum()+ df_dispo_alim[\"Traitement\"].sum() +  df_dispo_alim[\"Autres Utilisations\"].sum()  )]\n",
    "explode = (0.05, 0.05, 0.0, 0.0)  # only \"explode\" the 2nd slice (i.e. 'Hogs')\n",
    "\n",
    "fig1, ax1 = plt.subplots()\n",
    "ax1.pie(sizes, explode=explode, labels=labels, autopct='%1.1f%%',\n",
    "        shadow=True, startangle=90)\n",
    "ax1.axis('equal')  # Equal aspect ratio ensures that pie is drawn as a circle.\n",
    "\n",
    "plt.show()"
   ]
  },
  {
   "cell_type": "markdown",
   "metadata": {},
   "source": [
    " "
   ]
  },
  {
   "cell_type": "markdown",
   "metadata": {},
   "source": [
    "## **Notes laissées par Julien**"
   ]
  },
  {
   "cell_type": "markdown",
   "metadata": {},
   "source": [
    "Julien a découvert des chiffres intéressants sur l’utilisation des céréales, notamment la répartition entre l’alimentation humaine (colonne Nourriture) et l’alimentation pour animaux. La liste des céréales peut être trouvée en allant fouiller un peu dans l’onglet Bilans alimentaires du site de la FAO."
   ]
  },
  {
   "cell_type": "markdown",
   "metadata": {},
   "source": [
    "J'ai ensuite filtré par Céréales - Excl Bière > (Liste) et j'ai extrait  cette liste de céréale via **unique()** :"
   ]
  },
  {
   "cell_type": "markdown",
   "metadata": {},
   "source": [
    "- Blé et produits\n",
    "- Riz et produits\n",
    "- Orge et produits\n",
    "- Maïs et produits\n",
    "- Seigle et produits\n",
    "- Avoine\n",
    "- Sorgho et produits\n",
    "- Céréales, Autres\n",
    "- Millet et produits"
   ]
  },
  {
   "cell_type": "code",
   "execution_count": 160,
   "metadata": {},
   "outputs": [],
   "source": [
    "lst_cereales = [\"Blé et produits\",\"Millet et produits\", \"Maïs et produits\", \"Orge et produits\", \"Riz et produits\", \"Sorgho et produits\", \"Avoine\", \"Seigle et produits\",\"Céréales, Autres\"]"
   ]
  },
  {
   "cell_type": "code",
   "execution_count": 161,
   "metadata": {},
   "outputs": [],
   "source": [
    "autres_alim_crl = df_dispo_alim[\"Disponibilité intérieure\"][df_dispo_alim[\"Produit\"].isin(lst_cereales)].sum() - (df_dispo_alim[\"Aliments pour animaux\"][df_dispo_alim[\"Produit\"].isin(lst_cereales)].sum() +\n",
    "         df_dispo_alim[\"Nourriture\"][df_dispo_alim[\"Produit\"].isin(lst_cereales)].sum() +\n",
    "         df_dispo_alim[\"Pertes\"][df_dispo_alim[\"Produit\"].isin(lst_cereales)].sum()  +\n",
    "         df_dispo_alim[\"Semences\"][df_dispo_alim[\"Produit\"].isin(lst_cereales)].sum() + \n",
    "         df_dispo_alim[\"Traitement\"][df_dispo_alim[\"Produit\"].isin(lst_cereales)].sum() +  \n",
    "         df_dispo_alim[\"Autres Utilisations\"][df_dispo_alim[\"Produit\"].isin(lst_cereales)].sum() )"
   ]
  },
  {
   "cell_type": "code",
   "execution_count": 162,
   "metadata": {
    "jupyter": {
     "source_hidden": true
    }
   },
   "outputs": [
    {
     "data": {
      "image/png": "[encoded data removed]",
      "text/plain": [
       "<Figure size 432x288 with 1 Axes>"
      ]
     },
     "metadata": {},
     "output_type": "display_data"
    }
   ],
   "source": [
    "# Pie chart, where the slices will be ordered and plotted counter-clockwise:\n",
    "labels = 'Aliments pour Animaux','Autres', 'Aliments pour humains', 'Pertes'\n",
    "sizes = [df_dispo_alim[\"Aliments pour animaux\"][df_dispo_alim[\"Produit\"].isin(lst_cereales)].sum(),\n",
    "    (df_dispo_alim[\"Autres Utilisations\"][df_dispo_alim[\"Produit\"].isin(lst_cereales)].sum() +  df_dispo_alim[\"Semences\"][df_dispo_alim[\"Produit\"].isin(lst_cereales)].sum() + df_dispo_alim[\"Traitement\"][df_dispo_alim[\"Produit\"].isin(lst_cereales)].sum() ),\n",
    "         df_dispo_alim[\"Nourriture\"][df_dispo_alim[\"Produit\"].isin(lst_cereales)].sum() , \n",
    "         (df_dispo_alim[\"Pertes\"][df_dispo_alim[\"Produit\"].isin(lst_cereales)].sum() + autres_alim_crl )\n",
    "           ]\n",
    "explode = (0.05, 0, 0.1, 0.05)  # only \"explode\" the 2nd slice (i.e. 'Hogs')\n",
    "\n",
    "fig1, ax1 = plt.subplots()\n",
    "ax1.pie(sizes, explode=explode, labels=labels, autopct='%1.1f%%',\n",
    "        shadow=True, startangle=90)\n",
    "ax1.axis('equal')  # Equal aspect ratio ensures that pie is drawn as a circle.\n",
    "\n",
    "plt.show()"
   ]
  },
  {
   "cell_type": "markdown",
   "metadata": {},
   "source": [
    " "
   ]
  },
  {
   "cell_type": "markdown",
   "metadata": {},
   "source": [
    "#### Julien se souvient d’un exemple étonnant d’utilisation du manioc par la Thaïlande aux égards de la proportion de personnes en sous-nutrition. De mémoire ça concernait l’exportation par rapport à la production."
   ]
  },
  {
   "cell_type": "markdown",
   "metadata": {},
   "source": [
    "  "
   ]
  },
  {
   "cell_type": "markdown",
   "metadata": {},
   "source": [
    "#### Proportion Alimentation Exportation/Production en Thailande"
   ]
  },
  {
   "cell_type": "markdown",
   "metadata": {},
   "source": [
    "Je filtre par ordre décroissant les exportations de la Thaïlande ce qui me donne les produits les plus exportés en 2017"
   ]
  },
  {
   "cell_type": "code",
   "execution_count": 163,
   "metadata": {},
   "outputs": [],
   "source": [
    "thai_alim_export5 = df_dispo_alim.loc[\"Thaïlande\"][[\"Exportations - Quantité\"] + [\"Production\" ]+ [\"Produit\"]].sort_values(by=\"Exportations - Quantité\",ascending=False).head(5)"
   ]
  },
  {
   "cell_type": "markdown",
   "metadata": {},
   "source": [
    "Et l'on peut retrouver le Manioc en 1ère place comme Julien l'a remarqué.\n",
    "Représentons cela par un graphique."
   ]
  },
  {
   "cell_type": "code",
   "execution_count": 165,
   "metadata": {
    "jupyter": {
     "source_hidden": true
    }
   },
   "outputs": [
    {
     "data": {
      "image/png": "[encoded data removed]",
      "text/plain": [
       "<Figure size 864x576 with 1 Axes>"
      ]
     },
     "metadata": {
      "needs_background": "light"
     },
     "output_type": "display_data"
    }
   ],
   "source": [
    "\n",
    "fig, ax = plt.subplots(1,figsize=(12, 8))\n",
    "N=5\n",
    "ind = np.arange(N)\n",
    "\n",
    "width = 0.35 \n",
    "p1 = ax.bar(ind - width/2, thai_alim_export5[\"Exportations - Quantité\"] / 10**6,width, label='Export')\n",
    "p2 = ax.bar(ind + width/2, thai_alim_export5[\"Production\"] / 10**6,width, \n",
    "            label='Production')\n",
    "\n",
    "ax.axhline(0, color='grey', linewidth=0.8)\n",
    "ax.set_ylabel('Disponibilité alimentaire (milliers de tonnes)')\n",
    "ax.set_title('Proportion Export/Production Aliments en Thailande')\n",
    "ax.set_xticks(ind)\n",
    "ax.set_xticklabels(thai_alim_export5[\"Produit\"])\n",
    "ax.legend()\n",
    "\n",
    "ax.bar_label(p1, padding=3)\n",
    "ax.bar_label(p2, padding=3)\n",
    "\n",
    "fig.tight_layout()\n",
    "\n",
    "for r1, r2 in zip(p1, p2):\n",
    "    h1 = r1.get_height()\n",
    "    h2 = r2.get_height()\n",
    "    percent = int(h1 * 100 / h2)\n",
    "    ax.annotate('{}%'.format(percent),\n",
    "                    xy=(r1.get_x() + r1.get_width() / 2, h1/2),\n",
    "                    xytext=(0, 0),\n",
    "                    textcoords=\"offset points\",\n",
    "                    ha='center', va='bottom')\n",
    "    ax.annotate('100%',\n",
    "                    xy=(r2.get_x() + r2.get_width() / 2, h1+h2/23),\n",
    "                    xytext=(0, 0), \n",
    "                    textcoords=\"offset points\",\n",
    "                    ha='center', va='bottom')\n",
    "plt.show()"
   ]
  },
  {
   "cell_type": "markdown",
   "metadata": {},
   "source": [
    "Regardons la proportion de personnes en état de malnutrition en Thaïlande"
   ]
  },
  {
   "cell_type": "code",
   "execution_count": 273,
   "metadata": {
    "jupyter": {
     "source_hidden": true
    }
   },
   "outputs": [
    {
     "data": {
      "image/png": "[encoded data removed]",
      "text/plain": [
       "<Figure size 432x288 with 1 Axes>"
      ]
     },
     "metadata": {},
     "output_type": "display_data"
    }
   ],
   "source": [
    "# Pie chart, where the slices will be ordered and plotted counter-clockwise:\n",
    "labels = 'Pop_Thai', 'Pop_Malnutrition'\n",
    "sizes = [df_pop.loc[\"Thaïlande\"][df_pop.loc[\"Thaïlande\"][\"Année\"] == 2017][\"Valeur\"][0] - df_sous_nutr.loc[\"Thaïlande\"][df_sous_nutr.loc[\"Thaïlande\"][\"Année\"] == \"2017\"][\"Valeur\"][0],\n",
    "       df_sous_nutr.loc[\"Thaïlande\"][df_sous_nutr.loc[\"Thaïlande\"][\"Année\"] == \"2017\"][\"Valeur\"][0] ]\n",
    "explode = ( 0.1, 0.0)  # only \"explode\" the 2nd slice (i.e. 'Hogs')\n",
    "\n",
    "fig1, ax1 = plt.subplots()\n",
    "ax1.pie(sizes, explode=explode, labels=labels, autopct='%1.1f%%',\n",
    "        shadow=True, startangle=90)\n",
    "ax1.axis('equal')  # Equal aspect ratio ensures that pie is drawn as a circle.\n",
    "\n",
    "plt.show()"
   ]
  },
  {
   "cell_type": "markdown",
   "metadata": {},
   "source": [
    "Voyons combien de personnes pourraient être nourries avec le Manioc exporté à hauteur de 83 %"
   ]
  },
  {
   "cell_type": "code",
   "execution_count": 196,
   "metadata": {},
   "outputs": [],
   "source": [
    "df_thai_manioc = df_dispo_alim.loc[\"Thaïlande\"][df_dispo_alim.loc[\"Thaïlande\"][\"Produit\"] == \"Manioc\"]"
   ]
  },
  {
   "cell_type": "code",
   "execution_count": 203,
   "metadata": {},
   "outputs": [
    {
     "name": "stdout",
     "output_type": "stream",
     "text": [
      "La disponibilité alimentaire en Thaïlande en kcal pour le Manioc est de : 1010463.226 kcal\n",
      "Nombre théorique de personnes qui pourraient être nourries avec le Manioc exporté en Thaïlande: 0.83 millions\n",
      "Proportion théorique :  1.2 %\n"
     ]
    }
   ],
   "source": [
    "print(\"La disponibilité alimentaire en Thaïlande en kcal pour le Manioc est de :\",df_thai_manioc[\"dispo_kcal\"].sum(), \"kcal\")\n",
    "total_pers_kcal =  round(df_thai_manioc[\"dispo_kcal\"].sum() / (2250*365))\n",
    "print(f\"Nombre théorique de personnes qui pourraient être nourries avec le Manioc exporté en Thaïlande: {total_pers_kcal * 0.83} millions\")\n",
    "print(f\"Proportion théorique : \", round((total_pers_kcal *0.83 )* 100 / df_pop[\"Population\"].loc[(df_pop.index == \"Thaïlande\") & (df_pop[\"Année\"] == 2017)].sum(), 2 ), \"%\")"
   ]
  },
  {
   "cell_type": "markdown",
   "metadata": {},
   "source": [
    " "
   ]
  },
  {
   "cell_type": "markdown",
   "metadata": {},
   "source": [
    "#### **Regardons de plus près la proportion Alimentation Animaux/Humain + Pertes en Thaïlande**"
   ]
  },
  {
   "cell_type": "code",
   "execution_count": 167,
   "metadata": {},
   "outputs": [],
   "source": [
    "autres_alim_thai = df_dispo_alim.loc[\"Thaïlande\"][\"Disponibilité intérieure\"].sum() - (df_dispo_alim.loc[\"Thaïlande\"][\"Aliments pour animaux\"].sum() +\n",
    "         df_dispo_alim.loc[\"Thaïlande\"][\"Nourriture\"].sum() +\n",
    "         df_dispo_alim.loc[\"Thaïlande\"][\"Pertes\"].sum()  +\n",
    "         df_dispo_alim.loc[\"Thaïlande\"][\"Semences\"].sum() + df_dispo_alim.loc[\"Thaïlande\"][\"Traitement\"].sum() +  df_dispo_alim.loc[\"Thaïlande\"][\"Autres Utilisations\"].sum() )"
   ]
  },
  {
   "cell_type": "code",
   "execution_count": 177,
   "metadata": {
    "jupyter": {
     "source_hidden": true
    }
   },
   "outputs": [
    {
     "data": {
      "image/png": "[encoded data removed]",
      "text/plain": [
       "<Figure size 648x360 with 2 Axes>"
      ]
     },
     "metadata": {
      "needs_background": "light"
     },
     "output_type": "display_data"
    }
   ],
   "source": [
    "from matplotlib.patches import ConnectionPatch\n",
    "\n",
    "# Pie chart, where the slices will be ordered and plotted counter-clockwise:\n",
    "labels = 'Aliments pour animaux', 'Aliments pour humains', 'Pertes', 'Autres'\n",
    "sizes = [df_dispo_alim.loc[\"Thaïlande\"][\"Aliments pour animaux\"].sum() ,\n",
    "         df_dispo_alim.loc[\"Thaïlande\"][\"Nourriture\"].sum() ,\n",
    "         (df_dispo_alim.loc[\"Thaïlande\"][\"Pertes\"].sum() + autres_alim_thai  ),\n",
    "         df_dispo_alim.loc[\"Thaïlande\"][\"Semences\"].sum() + df_dispo_alim.loc[\"Thaïlande\"][\"Traitement\"].sum() + df_dispo_alim.loc[\"Thaïlande\"][\"Autres Utilisations\"].sum()]\n",
    "explode = (0, 0, 0.1, 0.0)  # only \"explode\" the 2nd slice (i.e. 'Hogs')\n",
    "\n",
    "fig, (ax1, ax2) = plt.subplots(1, 2, figsize=(9, 5))\n",
    "fig.subplots_adjust(wspace=0)\n",
    "ax1.pie(sizes, explode=explode, labels=labels, autopct='%1.1f%%',\n",
    "        shadow=True, startangle=90)\n",
    "ax1.axis('equal')  # Equal aspect ratio ensures that pie is drawn as a circle.\n",
    "\n",
    "# bar chart parameters\n",
    "\n",
    "xpos = 0\n",
    "bottom = 0\n",
    "ratios = [df_dispo_alim.loc[\"Thaïlande\"][\"Semences\"].sum() / (df_dispo_alim.loc[\"Thaïlande\"][\"Autres Utilisations\"].sum() + df_dispo_alim.loc[\"Thaïlande\"][\"Semences\"].sum() + df_dispo_alim.loc[\"Thaïlande\"][\"Traitement\"].sum() ),\n",
    "          df_dispo_alim.loc[\"Thaïlande\"][\"Traitement\"].sum() / (df_dispo_alim.loc[\"Thaïlande\"][\"Autres Utilisations\"].sum() + df_dispo_alim.loc[\"Thaïlande\"][\"Semences\"].sum() + df_dispo_alim.loc[\"Thaïlande\"][\"Traitement\"].sum() ),\n",
    "         df_dispo_alim.loc[\"Thaïlande\"][\"Autres Utilisations\"].sum() / (df_dispo_alim.loc[\"Thaïlande\"][\"Autres Utilisations\"].sum() + df_dispo_alim.loc[\"Thaïlande\"][\"Semences\"].sum() + df_dispo_alim.loc[\"Thaïlande\"][\"Traitement\"].sum() )]\n",
    "width = .2\n",
    "colors = [[.1, .3, .5], [.1, .3, .3], [.1, .3, .7], [.1, .3, .9]]\n",
    "\n",
    "for j in range(len(ratios)):\n",
    "    height = ratios[j]\n",
    "    ax2.bar(xpos, height, width, bottom=bottom, color=colors[j])\n",
    "    ypos = bottom + ax2.patches[j].get_height() / 2\n",
    "    bottom += height\n",
    "    ax2.text(xpos, ypos, \"%d%%\" % (ax2.patches[j].get_height() * 100),\n",
    "             ha='center')\n",
    "\n",
    "ax2.set_title('Autres')\n",
    "ax2.legend(('Semences', 'Traitement','Autres Utilisations'))\n",
    "ax2.axis('off')\n",
    "ax2.set_xlim(- 2.5 * width, 2.5 * width)\n",
    "\n",
    "# use ConnectionPatch to draw lines between the two plots\n",
    "# get the wedge data\n",
    "pat=-2\n",
    "theta1, theta2 = ax1.patches[pat].theta1, ax1.patches[pat].theta2\n",
    "center, r = ax1.patches[pat].center, ax1.patches[pat].r\n",
    "bar_height = sum([item.get_height() for item in ax2.patches])\n",
    "\n",
    "# draw top connecting line\n",
    "x = r * np.cos(np.pi / 180 * theta2) + center[0]\n",
    "y = r * np.sin(np.pi / 180 * theta2) + center[1]\n",
    "con = ConnectionPatch(xyA=(-width / 2, bar_height), coordsA=ax2.transData,\n",
    "                      xyB=(x, y), coordsB=ax1.transData)\n",
    "con.set_color([0, 0, 0])\n",
    "con.set_linewidth(4)\n",
    "ax2.add_artist(con)\n",
    "\n",
    "# draw bottom connecting line\n",
    "x = r * np.cos(np.pi / 180 * theta1) + center[0]\n",
    "y = r * np.sin(np.pi / 180 * theta1) + center[1]\n",
    "con = ConnectionPatch(xyA=(-width / 2, 0), coordsA=ax2.transData,\n",
    "                      xyB=(x, y), coordsB=ax1.transData)\n",
    "con.set_color([0, 0, 0])\n",
    "ax2.add_artist(con)\n",
    "con.set_linewidth(4)\n",
    "\n",
    "plt.show()"
   ]
  },
  {
   "cell_type": "markdown",
   "metadata": {},
   "source": [
    "On remarque qu'il y a énormément de traitement. Voyons sur quels produits s'applique t'il."
   ]
  },
  {
   "cell_type": "code",
   "execution_count": 436,
   "metadata": {
    "collapsed": true,
    "jupyter": {
     "outputs_hidden": true,
     "source_hidden": true
    }
   },
   "outputs": [
    {
     "data": {
      "text/html": [
       "<div>\n",
       "<style scoped>\n",
       "    .dataframe tbody tr th:only-of-type {\n",
       "        vertical-align: middle;\n",
       "    }\n",
       "\n",
       "    .dataframe tbody tr th {\n",
       "        vertical-align: top;\n",
       "    }\n",
       "\n",
       "    .dataframe thead th {\n",
       "        text-align: right;\n",
       "    }\n",
       "</style>\n",
       "<table border=\"1\" class=\"dataframe\">\n",
       "  <thead>\n",
       "    <tr style=\"text-align: right;\">\n",
       "      <th></th>\n",
       "      <th>Produit</th>\n",
       "      <th>Origine</th>\n",
       "      <th>Aliments pour animaux</th>\n",
       "      <th>Autres Utilisations</th>\n",
       "      <th>Disponibilité alimentaire (Kcal/personne/jour)</th>\n",
       "      <th>Disponibilité alimentaire en quantité (kg/personne/an)</th>\n",
       "      <th>Disponibilité de matière grasse en quantité (g/personne/jour)</th>\n",
       "      <th>Disponibilité de protéines en quantité (g/personne/jour)</th>\n",
       "      <th>Disponibilité intérieure</th>\n",
       "      <th>Exportations - Quantité</th>\n",
       "      <th>...</th>\n",
       "      <th>Nourriture</th>\n",
       "      <th>Pertes</th>\n",
       "      <th>Production</th>\n",
       "      <th>Semences</th>\n",
       "      <th>Traitement</th>\n",
       "      <th>Variation de stock</th>\n",
       "      <th>Année</th>\n",
       "      <th>Population</th>\n",
       "      <th>dispo_kcal</th>\n",
       "      <th>Valeur nutritionnelle en protéine (pour 100g d'aliment/pers/jour)</th>\n",
       "    </tr>\n",
       "    <tr>\n",
       "      <th>Zone</th>\n",
       "      <th></th>\n",
       "      <th></th>\n",
       "      <th></th>\n",
       "      <th></th>\n",
       "      <th></th>\n",
       "      <th></th>\n",
       "      <th></th>\n",
       "      <th></th>\n",
       "      <th></th>\n",
       "      <th></th>\n",
       "      <th></th>\n",
       "      <th></th>\n",
       "      <th></th>\n",
       "      <th></th>\n",
       "      <th></th>\n",
       "      <th></th>\n",
       "      <th></th>\n",
       "      <th></th>\n",
       "      <th></th>\n",
       "      <th></th>\n",
       "      <th></th>\n",
       "    </tr>\n",
       "  </thead>\n",
       "  <tbody>\n",
       "    <tr>\n",
       "      <th>Thaïlande</th>\n",
       "      <td>Sucre, canne</td>\n",
       "      <td>vegetale</td>\n",
       "      <td>0.000000e+00</td>\n",
       "      <td>0.0</td>\n",
       "      <td>49.0</td>\n",
       "      <td>61.11</td>\n",
       "      <td>0.33</td>\n",
       "      <td>0.17</td>\n",
       "      <td>1.000960e+11</td>\n",
       "      <td>0.000000e+00</td>\n",
       "      <td>...</td>\n",
       "      <td>4.095000e+09</td>\n",
       "      <td>1001.0</td>\n",
       "      <td>1.000960e+11</td>\n",
       "      <td>0.0</td>\n",
       "      <td>9.500000e+10</td>\n",
       "      <td>0.000000e+00</td>\n",
       "      <td>2017</td>\n",
       "      <td>69.20981</td>\n",
       "      <td>1.237817e+06</td>\n",
       "      <td>0.101538</td>\n",
       "    </tr>\n",
       "    <tr>\n",
       "      <th>Thaïlande</th>\n",
       "      <td>Soja</td>\n",
       "      <td>vegetale</td>\n",
       "      <td>0.000000e+00</td>\n",
       "      <td>194000000.0</td>\n",
       "      <td>22.0</td>\n",
       "      <td>2.13</td>\n",
       "      <td>0.98</td>\n",
       "      <td>1.96</td>\n",
       "      <td>1.860000e+09</td>\n",
       "      <td>1.200000e+07</td>\n",
       "      <td>...</td>\n",
       "      <td>1.430000e+08</td>\n",
       "      <td>93.0</td>\n",
       "      <td>1.900000e+08</td>\n",
       "      <td>3000000.0</td>\n",
       "      <td>1.428000e+09</td>\n",
       "      <td>0.000000e+00</td>\n",
       "      <td>2017</td>\n",
       "      <td>69.20981</td>\n",
       "      <td>5.557548e+05</td>\n",
       "      <td>33.586854</td>\n",
       "    </tr>\n",
       "    <tr>\n",
       "      <th>Thaïlande</th>\n",
       "      <td>Riz (Eq Blanchi)</td>\n",
       "      <td>vegetale</td>\n",
       "      <td>2.405000e+09</td>\n",
       "      <td>0.0</td>\n",
       "      <td>1139.0</td>\n",
       "      <td>114.57</td>\n",
       "      <td>2.50</td>\n",
       "      <td>19.97</td>\n",
       "      <td>1.360500e+10</td>\n",
       "      <td>6.860000e+09</td>\n",
       "      <td>...</td>\n",
       "      <td>7.677000e+09</td>\n",
       "      <td>1786.0</td>\n",
       "      <td>2.405400e+10</td>\n",
       "      <td>606000000.0</td>\n",
       "      <td>1.130000e+09</td>\n",
       "      <td>-3.638000e+09</td>\n",
       "      <td>2017</td>\n",
       "      <td>69.20981</td>\n",
       "      <td>2.877294e+07</td>\n",
       "      <td>6.362093</td>\n",
       "    </tr>\n",
       "    <tr>\n",
       "      <th>Thaïlande</th>\n",
       "      <td>Orge</td>\n",
       "      <td>vegetale</td>\n",
       "      <td>0.000000e+00</td>\n",
       "      <td>0.0</td>\n",
       "      <td>0.0</td>\n",
       "      <td>0.00</td>\n",
       "      <td>0.00</td>\n",
       "      <td>0.00</td>\n",
       "      <td>4.410000e+08</td>\n",
       "      <td>0.000000e+00</td>\n",
       "      <td>...</td>\n",
       "      <td>0.000000e+00</td>\n",
       "      <td>0.0</td>\n",
       "      <td>9.500000e+07</td>\n",
       "      <td>1000000.0</td>\n",
       "      <td>4.400000e+08</td>\n",
       "      <td>1.100000e+07</td>\n",
       "      <td>2017</td>\n",
       "      <td>69.20981</td>\n",
       "      <td>0.000000e+00</td>\n",
       "      <td>NaN</td>\n",
       "    </tr>\n",
       "    <tr>\n",
       "      <th>Thaïlande</th>\n",
       "      <td>Palmistes</td>\n",
       "      <td>vegetale</td>\n",
       "      <td>0.000000e+00</td>\n",
       "      <td>0.0</td>\n",
       "      <td>0.0</td>\n",
       "      <td>0.00</td>\n",
       "      <td>0.00</td>\n",
       "      <td>0.00</td>\n",
       "      <td>4.350000e+08</td>\n",
       "      <td>1.600000e+07</td>\n",
       "      <td>...</td>\n",
       "      <td>0.000000e+00</td>\n",
       "      <td>0.0</td>\n",
       "      <td>4.500000e+08</td>\n",
       "      <td>0.0</td>\n",
       "      <td>4.350000e+08</td>\n",
       "      <td>0.000000e+00</td>\n",
       "      <td>2017</td>\n",
       "      <td>69.20981</td>\n",
       "      <td>0.000000e+00</td>\n",
       "      <td>NaN</td>\n",
       "    </tr>\n",
       "  </tbody>\n",
       "</table>\n",
       "<p>5 rows × 21 columns</p>\n",
       "</div>"
      ],
      "text/plain": [
       "                    Produit   Origine  Aliments pour animaux  \\\n",
       "Zone                                                           \n",
       "Thaïlande      Sucre, canne  vegetale           0.000000e+00   \n",
       "Thaïlande              Soja  vegetale           0.000000e+00   \n",
       "Thaïlande  Riz (Eq Blanchi)  vegetale           2.405000e+09   \n",
       "Thaïlande              Orge  vegetale           0.000000e+00   \n",
       "Thaïlande         Palmistes  vegetale           0.000000e+00   \n",
       "\n",
       "           Autres Utilisations  \\\n",
       "Zone                             \n",
       "Thaïlande                  0.0   \n",
       "Thaïlande          194000000.0   \n",
       "Thaïlande                  0.0   \n",
       "Thaïlande                  0.0   \n",
       "Thaïlande                  0.0   \n",
       "\n",
       "           Disponibilité alimentaire (Kcal/personne/jour)  \\\n",
       "Zone                                                        \n",
       "Thaïlande                                            49.0   \n",
       "Thaïlande                                            22.0   \n",
       "Thaïlande                                          1139.0   \n",
       "Thaïlande                                             0.0   \n",
       "Thaïlande                                             0.0   \n",
       "\n",
       "           Disponibilité alimentaire en quantité (kg/personne/an)  \\\n",
       "Zone                                                                \n",
       "Thaïlande                                              61.11        \n",
       "Thaïlande                                               2.13        \n",
       "Thaïlande                                             114.57        \n",
       "Thaïlande                                               0.00        \n",
       "Thaïlande                                               0.00        \n",
       "\n",
       "           Disponibilité de matière grasse en quantité (g/personne/jour)  \\\n",
       "Zone                                                                       \n",
       "Thaïlande                                               0.33               \n",
       "Thaïlande                                               0.98               \n",
       "Thaïlande                                               2.50               \n",
       "Thaïlande                                               0.00               \n",
       "Thaïlande                                               0.00               \n",
       "\n",
       "           Disponibilité de protéines en quantité (g/personne/jour)  \\\n",
       "Zone                                                                  \n",
       "Thaïlande                                               0.17          \n",
       "Thaïlande                                               1.96          \n",
       "Thaïlande                                              19.97          \n",
       "Thaïlande                                               0.00          \n",
       "Thaïlande                                               0.00          \n",
       "\n",
       "           Disponibilité intérieure  Exportations - Quantité  ...  \\\n",
       "Zone                                                          ...   \n",
       "Thaïlande              1.000960e+11             0.000000e+00  ...   \n",
       "Thaïlande              1.860000e+09             1.200000e+07  ...   \n",
       "Thaïlande              1.360500e+10             6.860000e+09  ...   \n",
       "Thaïlande              4.410000e+08             0.000000e+00  ...   \n",
       "Thaïlande              4.350000e+08             1.600000e+07  ...   \n",
       "\n",
       "             Nourriture  Pertes    Production     Semences    Traitement  \\\n",
       "Zone                                                                       \n",
       "Thaïlande  4.095000e+09  1001.0  1.000960e+11          0.0  9.500000e+10   \n",
       "Thaïlande  1.430000e+08    93.0  1.900000e+08    3000000.0  1.428000e+09   \n",
       "Thaïlande  7.677000e+09  1786.0  2.405400e+10  606000000.0  1.130000e+09   \n",
       "Thaïlande  0.000000e+00     0.0  9.500000e+07    1000000.0  4.400000e+08   \n",
       "Thaïlande  0.000000e+00     0.0  4.500000e+08          0.0  4.350000e+08   \n",
       "\n",
       "           Variation de stock  Année  Population    dispo_kcal  \\\n",
       "Zone                                                             \n",
       "Thaïlande        0.000000e+00   2017    69.20981  1.237817e+06   \n",
       "Thaïlande        0.000000e+00   2017    69.20981  5.557548e+05   \n",
       "Thaïlande       -3.638000e+09   2017    69.20981  2.877294e+07   \n",
       "Thaïlande        1.100000e+07   2017    69.20981  0.000000e+00   \n",
       "Thaïlande        0.000000e+00   2017    69.20981  0.000000e+00   \n",
       "\n",
       "           Valeur nutritionnelle en protéine (pour 100g d'aliment/pers/jour)  \n",
       "Zone                                                                          \n",
       "Thaïlande                                           0.101538                  \n",
       "Thaïlande                                          33.586854                  \n",
       "Thaïlande                                           6.362093                  \n",
       "Thaïlande                                                NaN                  \n",
       "Thaïlande                                                NaN                  \n",
       "\n",
       "[5 rows x 21 columns]"
      ]
     },
     "execution_count": 436,
     "metadata": {},
     "output_type": "execute_result"
    }
   ],
   "source": [
    "df_dispo_alim.loc[\"Thaïlande\"].sort_values(by=\"Traitement\", ascending=False).head()"
   ]
  },
  {
   "cell_type": "code",
   "execution_count": 445,
   "metadata": {},
   "outputs": [],
   "source": [
    "trait_thai5 = df_dispo_alim.loc[\"Thaïlande\"].sort_values(by=\"Traitement\", ascending=False).head()"
   ]
  },
  {
   "cell_type": "code",
   "execution_count": 446,
   "metadata": {},
   "outputs": [],
   "source": [
    "trait_thai5 = trait_thai5[[\"Produit\"] + [\"Traitement\"] + [\"Disponibilité intérieure\"] + [\"Exportations - Quantité\"]]"
   ]
  },
  {
   "cell_type": "code",
   "execution_count": 447,
   "metadata": {},
   "outputs": [],
   "source": [
    "trait_thai5[\"Taux de Traitement\"] = trait_thai5[\"Traitement\"] / trait_thai5[\"Disponibilité intérieure\"] * 100"
   ]
  },
  {
   "cell_type": "code",
   "execution_count": 448,
   "metadata": {},
   "outputs": [
    {
     "data": {
      "text/html": [
       "<div>\n",
       "<style scoped>\n",
       "    .dataframe tbody tr th:only-of-type {\n",
       "        vertical-align: middle;\n",
       "    }\n",
       "\n",
       "    .dataframe tbody tr th {\n",
       "        vertical-align: top;\n",
       "    }\n",
       "\n",
       "    .dataframe thead th {\n",
       "        text-align: right;\n",
       "    }\n",
       "</style>\n",
       "<table border=\"1\" class=\"dataframe\">\n",
       "  <thead>\n",
       "    <tr style=\"text-align: right;\">\n",
       "      <th></th>\n",
       "      <th>Produit</th>\n",
       "      <th>Traitement</th>\n",
       "      <th>Disponibilité intérieure</th>\n",
       "      <th>Exportations - Quantité</th>\n",
       "      <th>Taux de Traitement</th>\n",
       "    </tr>\n",
       "    <tr>\n",
       "      <th>Zone</th>\n",
       "      <th></th>\n",
       "      <th></th>\n",
       "      <th></th>\n",
       "      <th></th>\n",
       "      <th></th>\n",
       "    </tr>\n",
       "  </thead>\n",
       "  <tbody>\n",
       "    <tr>\n",
       "      <th>Thaïlande</th>\n",
       "      <td>Sucre, canne</td>\n",
       "      <td>9.500000e+10</td>\n",
       "      <td>1.000960e+11</td>\n",
       "      <td>0.000000e+00</td>\n",
       "      <td>94.908887</td>\n",
       "    </tr>\n",
       "    <tr>\n",
       "      <th>Thaïlande</th>\n",
       "      <td>Soja</td>\n",
       "      <td>1.428000e+09</td>\n",
       "      <td>1.860000e+09</td>\n",
       "      <td>1.200000e+07</td>\n",
       "      <td>76.774194</td>\n",
       "    </tr>\n",
       "    <tr>\n",
       "      <th>Thaïlande</th>\n",
       "      <td>Riz (Eq Blanchi)</td>\n",
       "      <td>1.130000e+09</td>\n",
       "      <td>1.360500e+10</td>\n",
       "      <td>6.860000e+09</td>\n",
       "      <td>8.305770</td>\n",
       "    </tr>\n",
       "    <tr>\n",
       "      <th>Thaïlande</th>\n",
       "      <td>Orge</td>\n",
       "      <td>4.400000e+08</td>\n",
       "      <td>4.410000e+08</td>\n",
       "      <td>0.000000e+00</td>\n",
       "      <td>99.773243</td>\n",
       "    </tr>\n",
       "    <tr>\n",
       "      <th>Thaïlande</th>\n",
       "      <td>Palmistes</td>\n",
       "      <td>4.350000e+08</td>\n",
       "      <td>4.350000e+08</td>\n",
       "      <td>1.600000e+07</td>\n",
       "      <td>100.000000</td>\n",
       "    </tr>\n",
       "  </tbody>\n",
       "</table>\n",
       "</div>"
      ],
      "text/plain": [
       "                    Produit    Traitement  Disponibilité intérieure  \\\n",
       "Zone                                                                  \n",
       "Thaïlande      Sucre, canne  9.500000e+10              1.000960e+11   \n",
       "Thaïlande              Soja  1.428000e+09              1.860000e+09   \n",
       "Thaïlande  Riz (Eq Blanchi)  1.130000e+09              1.360500e+10   \n",
       "Thaïlande              Orge  4.400000e+08              4.410000e+08   \n",
       "Thaïlande         Palmistes  4.350000e+08              4.350000e+08   \n",
       "\n",
       "           Exportations - Quantité  Taux de Traitement  \n",
       "Zone                                                    \n",
       "Thaïlande             0.000000e+00           94.908887  \n",
       "Thaïlande             1.200000e+07           76.774194  \n",
       "Thaïlande             6.860000e+09            8.305770  \n",
       "Thaïlande             0.000000e+00           99.773243  \n",
       "Thaïlande             1.600000e+07          100.000000  "
      ]
     },
     "execution_count": 448,
     "metadata": {},
     "output_type": "execute_result"
    }
   ],
   "source": [
    "trait_thai5"
   ]
  },
  {
   "cell_type": "markdown",
   "metadata": {},
   "source": [
    "Le sucre de canne est le produit le plus traité et raffiné de Thaïlande. La Thäilande fait parti du top 5 des pays les plus exportateurs de sucre dans le monde. Mais sur les données de la FAO, le nombre d'exportation n'est pas renseigné. "
   ]
  },
  {
   "cell_type": "markdown",
   "metadata": {},
   "source": [
    "Après quelques recherches , **\"un “Plan National pour l’Energie de la Thailande” dont l’objectif est de développer des débouchés alternatifs à la canne via la production d’éthanol avec l’objectif que 25% des carburants proviennent de biocarburants d’ici 2036\"** qui expliquerait ce taux de traitement en plus du commerce de base de la canne à sucre dans le monde."
   ]
  },
  {
   "cell_type": "markdown",
   "metadata": {},
   "source": [
    "## **(Requête Secondaire) Top 20 des Pays qui ont le plus bénéficié d'aide alimentaire depuis 2013**"
   ]
  },
  {
   "cell_type": "markdown",
   "metadata": {},
   "source": [
    "#### Créer une liste unique des pays aidés"
   ]
  },
  {
   "cell_type": "code",
   "execution_count": 322,
   "metadata": {},
   "outputs": [],
   "source": [
    "List_df_aide_alim = df_aide_alim.index.unique().tolist()"
   ]
  },
  {
   "cell_type": "markdown",
   "metadata": {},
   "source": [
    "#### Créer un DataFrame représentant la valeur totale des aides envoyées pour chaque pays depuis 2013"
   ]
  },
  {
   "cell_type": "code",
   "execution_count": 323,
   "metadata": {},
   "outputs": [],
   "source": [
    "data= []\n",
    "for i in List_df_aide_alim:\n",
    "    val_list = {\"Pays\" : i,\n",
    "              \"Valeur\" : df_aide_alim.loc[i][\"Valeur\"].sum() }\n",
    "    data.append(val_list)"
   ]
  },
  {
   "cell_type": "markdown",
   "metadata": {},
   "source": [
    "Je convertis la colonne **Pays** en tant qu'index "
   ]
  },
  {
   "cell_type": "code",
   "execution_count": 324,
   "metadata": {},
   "outputs": [],
   "source": [
    "df_aide_alim_Top = pd.DataFrame(data=data)\n",
    "df_aide_alim_Top.set_index('Pays',inplace=True)"
   ]
  },
  {
   "cell_type": "code",
   "execution_count": 89,
   "metadata": {},
   "outputs": [
    {
     "data": {
      "text/html": [
       "<div>\n",
       "<style scoped>\n",
       "    .dataframe tbody tr th:only-of-type {\n",
       "        vertical-align: middle;\n",
       "    }\n",
       "\n",
       "    .dataframe tbody tr th {\n",
       "        vertical-align: top;\n",
       "    }\n",
       "\n",
       "    .dataframe thead th {\n",
       "        text-align: right;\n",
       "    }\n",
       "</style>\n",
       "<table border=\"1\" class=\"dataframe\">\n",
       "  <thead>\n",
       "    <tr style=\"text-align: right;\">\n",
       "      <th></th>\n",
       "      <th>Valeur</th>\n",
       "    </tr>\n",
       "    <tr>\n",
       "      <th>Pays</th>\n",
       "      <th></th>\n",
       "    </tr>\n",
       "  </thead>\n",
       "  <tbody>\n",
       "    <tr>\n",
       "      <th>République arabe syrienne</th>\n",
       "      <td>1858943</td>\n",
       "    </tr>\n",
       "    <tr>\n",
       "      <th>Éthiopie</th>\n",
       "      <td>1381294</td>\n",
       "    </tr>\n",
       "    <tr>\n",
       "      <th>Yémen</th>\n",
       "      <td>1206484</td>\n",
       "    </tr>\n",
       "    <tr>\n",
       "      <th>Soudan du Sud</th>\n",
       "      <td>695248</td>\n",
       "    </tr>\n",
       "    <tr>\n",
       "      <th>Soudan</th>\n",
       "      <td>669784</td>\n",
       "    </tr>\n",
       "    <tr>\n",
       "      <th>Kenya</th>\n",
       "      <td>552836</td>\n",
       "    </tr>\n",
       "    <tr>\n",
       "      <th>Bangladesh</th>\n",
       "      <td>348188</td>\n",
       "    </tr>\n",
       "    <tr>\n",
       "      <th>Somalie</th>\n",
       "      <td>292678</td>\n",
       "    </tr>\n",
       "    <tr>\n",
       "      <th>République démocratique du Congo</th>\n",
       "      <td>288502</td>\n",
       "    </tr>\n",
       "    <tr>\n",
       "      <th>Niger</th>\n",
       "      <td>276344</td>\n",
       "    </tr>\n",
       "    <tr>\n",
       "      <th>Tchad</th>\n",
       "      <td>267966</td>\n",
       "    </tr>\n",
       "    <tr>\n",
       "      <th>Pakistan</th>\n",
       "      <td>231072</td>\n",
       "    </tr>\n",
       "    <tr>\n",
       "      <th>République populaire démocratique de Corée</th>\n",
       "      <td>187412</td>\n",
       "    </tr>\n",
       "    <tr>\n",
       "      <th>Afghanistan</th>\n",
       "      <td>185452</td>\n",
       "    </tr>\n",
       "    <tr>\n",
       "      <th>République-Unie de Tanzanie</th>\n",
       "      <td>172022</td>\n",
       "    </tr>\n",
       "    <tr>\n",
       "      <th>Philippines</th>\n",
       "      <td>171722</td>\n",
       "    </tr>\n",
       "    <tr>\n",
       "      <th>Palestine</th>\n",
       "      <td>169684</td>\n",
       "    </tr>\n",
       "    <tr>\n",
       "      <th>Mali</th>\n",
       "      <td>149586</td>\n",
       "    </tr>\n",
       "    <tr>\n",
       "      <th>Haïti</th>\n",
       "      <td>116450</td>\n",
       "    </tr>\n",
       "    <tr>\n",
       "      <th>Nicaragua</th>\n",
       "      <td>115332</td>\n",
       "    </tr>\n",
       "  </tbody>\n",
       "</table>\n",
       "</div>"
      ],
      "text/plain": [
       "                                             Valeur\n",
       "Pays                                               \n",
       "République arabe syrienne                   1858943\n",
       "Éthiopie                                    1381294\n",
       "Yémen                                       1206484\n",
       "Soudan du Sud                                695248\n",
       "Soudan                                       669784\n",
       "Kenya                                        552836\n",
       "Bangladesh                                   348188\n",
       "Somalie                                      292678\n",
       "République démocratique du Congo             288502\n",
       "Niger                                        276344\n",
       "Tchad                                        267966\n",
       "Pakistan                                     231072\n",
       "République populaire démocratique de Corée   187412\n",
       "Afghanistan                                  185452\n",
       "République-Unie de Tanzanie                  172022\n",
       "Philippines                                  171722\n",
       "Palestine                                    169684\n",
       "Mali                                         149586\n",
       "Haïti                                        116450\n",
       "Nicaragua                                    115332"
      ]
     },
     "execution_count": 89,
     "metadata": {},
     "output_type": "execute_result"
    }
   ],
   "source": [
    "df_aide_alim_Top.sort_values(by = \"Valeur\", ascending= False).head(20)"
   ]
  },
  {
   "cell_type": "markdown",
   "metadata": {},
   "source": [
    "#### Représontons par un graphique les 5 Pays qui ont le plus bénéficié d'aide alimentaire depuis 2013"
   ]
  },
  {
   "cell_type": "code",
   "execution_count": 325,
   "metadata": {},
   "outputs": [],
   "source": [
    "top5_aide_alim = df_aide_alim_Top.sort_values(by = \"Valeur\", ascending= False).head(5)"
   ]
  },
  {
   "cell_type": "code",
   "execution_count": 329,
   "metadata": {
    "jupyter": {
     "source_hidden": true
    }
   },
   "outputs": [
    {
     "data": {
      "text/plain": [
       "Text(0.5, 0.98, \"Top 5 Pays qui ont le plus bénéficié d'aide alimentaire depuis 2013\")"
      ]
     },
     "execution_count": 329,
     "metadata": {},
     "output_type": "execute_result"
    },
    {
     "data": {
      "image/png": "[encoded data removed]",
      "text/plain": [
       "<Figure size 864x432 with 1 Axes>"
      ]
     },
     "metadata": {
      "needs_background": "light"
     },
     "output_type": "display_data"
    }
   ],
   "source": [
    "names = top5_aide_alim.index\n",
    "values = top5_aide_alim.Valeur\n",
    "def tonnes(x, pos):\n",
    "    \"\"\"The two args are the value and tick position.\"\"\"\n",
    "    return '{:1.1f} T'.format(x*1e-6)\n",
    "fig, axs = plt.subplots(1, figsize=(12, 6))\n",
    "axs.yaxis.set_major_formatter(tonnes)\n",
    "axs.bar(names, values, color= ['red', 'orange', 'yellow', 'blue', 'green'])\n",
    "\n",
    "totals = []\n",
    "\n",
    "# find the values and append to list\n",
    "for i in axs.patches:\n",
    "    totals.append(i.get_height())\n",
    "# set individual bar lables using above list\n",
    "total = sum(totals)\n",
    "# set individual bar lables using above list\n",
    "for i in axs.patches:\n",
    "    \n",
    "    # get_x pulls left or right; get_height pushes up or down\n",
    "    axs.text(i.get_x()+.12, i.get_height()-3, \\\n",
    "            str(round((i.get_height()/(df_aide_alim.Valeur.sum() ))*100, 2))+'%', fontsize=22,\n",
    "                color='black')\n",
    "fig.suptitle(\"Top 5 Pays qui ont le plus bénéficié d'aide alimentaire depuis 2013\")"
   ]
  },
  {
   "cell_type": "markdown",
   "metadata": {},
   "source": [
    "## ****(Requête Secondaire) Pays pour lesquels la proportion de personnes sous-alimentées est la plus forte en 2017****"
   ]
  },
  {
   "cell_type": "markdown",
   "metadata": {},
   "source": [
    "Je prends simplement les données de df_sous_nutr pour l'année 2017"
   ]
  },
  {
   "cell_type": "code",
   "execution_count": 208,
   "metadata": {},
   "outputs": [],
   "source": [
    "df_sous_nutr17= df_sous_nutr[(df_sous_nutr[\"Année\"] == \"2017\") ]"
   ]
  },
  {
   "cell_type": "markdown",
   "metadata": {},
   "source": [
    "#### Nombre de pays dans le dataframe df_sous_nutr"
   ]
  },
  {
   "cell_type": "code",
   "execution_count": 210,
   "metadata": {},
   "outputs": [
    {
     "data": {
      "text/plain": [
       "203"
      ]
     },
     "execution_count": 210,
     "metadata": {},
     "output_type": "execute_result"
    }
   ],
   "source": [
    "df_sous_nutr17.index.value_counts().shape[0]"
   ]
  },
  {
   "cell_type": "markdown",
   "metadata": {},
   "source": [
    "Le nombre total de personnes en état de malnutrition dans le monde en 2017 est de 537.7 millions"
   ]
  },
  {
   "cell_type": "code",
   "execution_count": 36,
   "metadata": {},
   "outputs": [
    {
     "data": {
      "text/plain": [
       "537.7"
      ]
     },
     "execution_count": 36,
     "metadata": {},
     "output_type": "execute_result"
    }
   ],
   "source": [
    "df_sous_nutr17.Valeur.sum()"
   ]
  },
  {
   "cell_type": "markdown",
   "metadata": {},
   "source": [
    "#### **Top 10 des pays où le nombre de personnnes (en millions) en état de malnutrition est le plus fort en 2017**"
   ]
  },
  {
   "cell_type": "code",
   "execution_count": 219,
   "metadata": {},
   "outputs": [
    {
     "data": {
      "text/plain": [
       "Zone\n",
       "Inde                                          190.1\n",
       "Pakistan                                       24.8\n",
       "Indonésie                                      23.6\n",
       "Nigéria                                        22.8\n",
       "Bangladesh                                     21.5\n",
       "Éthiopie                                       21.1\n",
       "Philippines                                    15.7\n",
       "République-Unie de Tanzanie                    13.4\n",
       "République populaire démocratique de Corée     12.0\n",
       "Kenya                                          11.9\n",
       "Name: Valeur, dtype: float64"
      ]
     },
     "execution_count": 219,
     "metadata": {},
     "output_type": "execute_result"
    }
   ],
   "source": [
    "df_sous_nutr17.Valeur.sort_values(ascending=False).head(10)"
   ]
  },
  {
   "cell_type": "markdown",
   "metadata": {},
   "source": [
    "#### **Top 10 Pays où la Proportion des personnes en état de malnutrition est la plus forte en 2017 par rapport au nb Total de personnes sous alimentées dans le monde** "
   ]
  },
  {
   "cell_type": "code",
   "execution_count": 220,
   "metadata": {},
   "outputs": [
    {
     "data": {
      "text/plain": [
       "Zone\n",
       "Inde                                          35.486280\n",
       "Pakistan                                       4.629457\n",
       "Indonésie                                      4.405451\n",
       "Nigéria                                        4.256113\n",
       "Bangladesh                                     4.013440\n",
       "Éthiopie                                       3.938772\n",
       "Philippines                                    2.930745\n",
       "République-Unie de Tanzanie                    2.501400\n",
       "République populaire démocratique de Corée     2.240060\n",
       "Kenya                                          2.221393\n",
       "Name: Valeur, dtype: float64"
      ]
     },
     "execution_count": 220,
     "metadata": {},
     "output_type": "execute_result"
    }
   ],
   "source": [
    "df_sous_nutr17.Valeur.sort_values(ascending=False).head(10) / df_sous_nutr17.Valeur.sum() *100"
   ]
  },
  {
   "cell_type": "markdown",
   "metadata": {},
   "source": [
    "Ces résultats ne répondent pas à la requête mais permettent de simplement voir la répartition mondiale de personnes en état de malnutrition.\n"
   ]
  },
  {
   "cell_type": "markdown",
   "metadata": {},
   "source": [
    "#### Maintenant regardons de plus près la proportion de la population en état de malnutrition par pays"
   ]
  },
  {
   "cell_type": "markdown",
   "metadata": {},
   "source": [
    "Je crée un DataFrame pour évaluer cette proportion"
   ]
  },
  {
   "cell_type": "markdown",
   "metadata": {},
   "source": [
    "Je filtre par ordre décroissant le df sous_nutr17 sur la colonne **Valeur** qui représente le nb de personnes en état de sous nutrition"
   ]
  },
  {
   "cell_type": "code",
   "execution_count": 162,
   "metadata": {},
   "outputs": [],
   "source": [
    "df_sous_nutr17_pop = df_sous_nutr17.sort_values(by=\"Valeur\" ,ascending=False)"
   ]
  },
  {
   "cell_type": "markdown",
   "metadata": {},
   "source": [
    "Je crée une liste unique des pays en sous nutrtion"
   ]
  },
  {
   "cell_type": "code",
   "execution_count": 163,
   "metadata": {},
   "outputs": [],
   "source": [
    "List_df_pop = df_sous_nutr17_pop.index.unique().tolist()"
   ]
  },
  {
   "cell_type": "code",
   "execution_count": 172,
   "metadata": {},
   "outputs": [],
   "source": [
    "data= []\n",
    "for i in List_df_pop:\n",
    "    val_list = {\"Pays\" : i,\n",
    "                \"Pop.Totale (en millions)\" : df_pop.loc[i][\"Valeur\"][df_pop.loc[i][\"Année\"] == 2017][0],\n",
    "              \"Pop. Malnutrition (en millions)\" : df_sous_nutr17_pop.loc[i][\"Valeur\"] }\n",
    "    data.append(val_list)"
   ]
  },
  {
   "cell_type": "markdown",
   "metadata": {},
   "source": [
    "Je convertis la colonne **Pays** du nouveau DataFrame en tant qu'index "
   ]
  },
  {
   "cell_type": "code",
   "execution_count": 173,
   "metadata": {},
   "outputs": [],
   "source": [
    "df_pop_Top = pd.DataFrame(data=data)\n",
    "df_pop_Top.set_index('Pays',inplace=True)"
   ]
  },
  {
   "cell_type": "markdown",
   "metadata": {},
   "source": [
    "J'ajoute une colonne **Proportion de personnes en malnutrition**"
   ]
  },
  {
   "cell_type": "code",
   "execution_count": 176,
   "metadata": {},
   "outputs": [],
   "source": [
    "df_pop_Top[\"Proportion de personnes en malnutrition(%)\"] =df_pop_Top[\"Pop. Malnutrition (en millions)\"] / df_pop_Top[\"Pop.Totale (en millions)\"] * 100"
   ]
  },
  {
   "cell_type": "markdown",
   "metadata": {},
   "source": [
    "Et là, je réponds à la requête :"
   ]
  },
  {
   "cell_type": "markdown",
   "metadata": {},
   "source": [
    "### **Top 10 des pays où la proportion des personnes en état de malnutrition est la plus forte en 2017**"
   ]
  },
  {
   "cell_type": "code",
   "execution_count": 194,
   "metadata": {},
   "outputs": [
    {
     "data": {
      "text/html": [
       "<div>\n",
       "<style scoped>\n",
       "    .dataframe tbody tr th:only-of-type {\n",
       "        vertical-align: middle;\n",
       "    }\n",
       "\n",
       "    .dataframe tbody tr th {\n",
       "        vertical-align: top;\n",
       "    }\n",
       "\n",
       "    .dataframe thead th {\n",
       "        text-align: right;\n",
       "    }\n",
       "</style>\n",
       "<table border=\"1\" class=\"dataframe\">\n",
       "  <thead>\n",
       "    <tr style=\"text-align: right;\">\n",
       "      <th></th>\n",
       "      <th>Pop.Totale (en millions)</th>\n",
       "      <th>Pop. Malnutrition (en millions)</th>\n",
       "      <th>Proportion de personnes en malnutrition(%)</th>\n",
       "    </tr>\n",
       "    <tr>\n",
       "      <th>Pays</th>\n",
       "      <th></th>\n",
       "      <th></th>\n",
       "      <th></th>\n",
       "    </tr>\n",
       "  </thead>\n",
       "  <tbody>\n",
       "    <tr>\n",
       "      <th>Haïti</th>\n",
       "      <td>10.982366</td>\n",
       "      <td>5.3</td>\n",
       "      <td>48.259182</td>\n",
       "    </tr>\n",
       "    <tr>\n",
       "      <th>République populaire démocratique de Corée</th>\n",
       "      <td>25.429825</td>\n",
       "      <td>12.0</td>\n",
       "      <td>47.188685</td>\n",
       "    </tr>\n",
       "    <tr>\n",
       "      <th>Madagascar</th>\n",
       "      <td>25.570512</td>\n",
       "      <td>10.5</td>\n",
       "      <td>41.062924</td>\n",
       "    </tr>\n",
       "    <tr>\n",
       "      <th>Libéria</th>\n",
       "      <td>4.702226</td>\n",
       "      <td>1.8</td>\n",
       "      <td>38.279742</td>\n",
       "    </tr>\n",
       "    <tr>\n",
       "      <th>Lesotho</th>\n",
       "      <td>2.091534</td>\n",
       "      <td>0.8</td>\n",
       "      <td>38.249438</td>\n",
       "    </tr>\n",
       "    <tr>\n",
       "      <th>Tchad</th>\n",
       "      <td>15.016753</td>\n",
       "      <td>5.7</td>\n",
       "      <td>37.957606</td>\n",
       "    </tr>\n",
       "    <tr>\n",
       "      <th>Rwanda</th>\n",
       "      <td>11.980961</td>\n",
       "      <td>4.2</td>\n",
       "      <td>35.055619</td>\n",
       "    </tr>\n",
       "    <tr>\n",
       "      <th>Mozambique</th>\n",
       "      <td>28.649018</td>\n",
       "      <td>9.4</td>\n",
       "      <td>32.810898</td>\n",
       "    </tr>\n",
       "    <tr>\n",
       "      <th>Timor-Leste</th>\n",
       "      <td>1.243258</td>\n",
       "      <td>0.4</td>\n",
       "      <td>32.173531</td>\n",
       "    </tr>\n",
       "    <tr>\n",
       "      <th>Afghanistan</th>\n",
       "      <td>36.296113</td>\n",
       "      <td>10.5</td>\n",
       "      <td>28.928718</td>\n",
       "    </tr>\n",
       "    <tr>\n",
       "      <th>Congo</th>\n",
       "      <td>5.110695</td>\n",
       "      <td>1.4</td>\n",
       "      <td>27.393535</td>\n",
       "    </tr>\n",
       "    <tr>\n",
       "      <th>Venezuela (République bolivarienne du)</th>\n",
       "      <td>29.402484</td>\n",
       "      <td>8.0</td>\n",
       "      <td>27.208586</td>\n",
       "    </tr>\n",
       "    <tr>\n",
       "      <th>Sierra Leone</th>\n",
       "      <td>7.488423</td>\n",
       "      <td>2.0</td>\n",
       "      <td>26.707893</td>\n",
       "    </tr>\n",
       "    <tr>\n",
       "      <th>République-Unie de Tanzanie</th>\n",
       "      <td>54.660339</td>\n",
       "      <td>13.4</td>\n",
       "      <td>24.515033</td>\n",
       "    </tr>\n",
       "    <tr>\n",
       "      <th>Iraq</th>\n",
       "      <td>37.552781</td>\n",
       "      <td>9.0</td>\n",
       "      <td>23.966268</td>\n",
       "    </tr>\n",
       "    <tr>\n",
       "      <th>Kenya</th>\n",
       "      <td>50.221142</td>\n",
       "      <td>11.9</td>\n",
       "      <td>23.695200</td>\n",
       "    </tr>\n",
       "    <tr>\n",
       "      <th>Botswana</th>\n",
       "      <td>2.205080</td>\n",
       "      <td>0.5</td>\n",
       "      <td>22.674914</td>\n",
       "    </tr>\n",
       "    <tr>\n",
       "      <th>Togo</th>\n",
       "      <td>7.698474</td>\n",
       "      <td>1.6</td>\n",
       "      <td>20.783340</td>\n",
       "    </tr>\n",
       "    <tr>\n",
       "      <th>Côte d'Ivoire</th>\n",
       "      <td>24.437470</td>\n",
       "      <td>4.9</td>\n",
       "      <td>20.051176</td>\n",
       "    </tr>\n",
       "    <tr>\n",
       "      <th>Éthiopie</th>\n",
       "      <td>106.399924</td>\n",
       "      <td>21.1</td>\n",
       "      <td>19.830841</td>\n",
       "    </tr>\n",
       "  </tbody>\n",
       "</table>\n",
       "</div>"
      ],
      "text/plain": [
       "                                            Pop.Totale (en millions)  \\\n",
       "Pays                                                                   \n",
       "Haïti                                                      10.982366   \n",
       "République populaire démocratique de Corée                 25.429825   \n",
       "Madagascar                                                 25.570512   \n",
       "Libéria                                                     4.702226   \n",
       "Lesotho                                                     2.091534   \n",
       "Tchad                                                      15.016753   \n",
       "Rwanda                                                     11.980961   \n",
       "Mozambique                                                 28.649018   \n",
       "Timor-Leste                                                 1.243258   \n",
       "Afghanistan                                                36.296113   \n",
       "Congo                                                       5.110695   \n",
       "Venezuela (République bolivarienne du)                     29.402484   \n",
       "Sierra Leone                                                7.488423   \n",
       "République-Unie de Tanzanie                                54.660339   \n",
       "Iraq                                                       37.552781   \n",
       "Kenya                                                      50.221142   \n",
       "Botswana                                                    2.205080   \n",
       "Togo                                                        7.698474   \n",
       "Côte d'Ivoire                                              24.437470   \n",
       "Éthiopie                                                  106.399924   \n",
       "\n",
       "                                            Pop. Malnutrition (en millions)  \\\n",
       "Pays                                                                          \n",
       "Haïti                                                                   5.3   \n",
       "République populaire démocratique de Corée                             12.0   \n",
       "Madagascar                                                             10.5   \n",
       "Libéria                                                                 1.8   \n",
       "Lesotho                                                                 0.8   \n",
       "Tchad                                                                   5.7   \n",
       "Rwanda                                                                  4.2   \n",
       "Mozambique                                                              9.4   \n",
       "Timor-Leste                                                             0.4   \n",
       "Afghanistan                                                            10.5   \n",
       "Congo                                                                   1.4   \n",
       "Venezuela (République bolivarienne du)                                  8.0   \n",
       "Sierra Leone                                                            2.0   \n",
       "République-Unie de Tanzanie                                            13.4   \n",
       "Iraq                                                                    9.0   \n",
       "Kenya                                                                  11.9   \n",
       "Botswana                                                                0.5   \n",
       "Togo                                                                    1.6   \n",
       "Côte d'Ivoire                                                           4.9   \n",
       "Éthiopie                                                               21.1   \n",
       "\n",
       "                                            Proportion de personnes en malnutrition(%)  \n",
       "Pays                                                                                    \n",
       "Haïti                                                                        48.259182  \n",
       "République populaire démocratique de Corée                                   47.188685  \n",
       "Madagascar                                                                   41.062924  \n",
       "Libéria                                                                      38.279742  \n",
       "Lesotho                                                                      38.249438  \n",
       "Tchad                                                                        37.957606  \n",
       "Rwanda                                                                       35.055619  \n",
       "Mozambique                                                                   32.810898  \n",
       "Timor-Leste                                                                  32.173531  \n",
       "Afghanistan                                                                  28.928718  \n",
       "Congo                                                                        27.393535  \n",
       "Venezuela (République bolivarienne du)                                       27.208586  \n",
       "Sierra Leone                                                                 26.707893  \n",
       "République-Unie de Tanzanie                                                  24.515033  \n",
       "Iraq                                                                         23.966268  \n",
       "Kenya                                                                        23.695200  \n",
       "Botswana                                                                     22.674914  \n",
       "Togo                                                                         20.783340  \n",
       "Côte d'Ivoire                                                                20.051176  \n",
       "Éthiopie                                                                     19.830841  "
      ]
     },
     "execution_count": 194,
     "metadata": {},
     "output_type": "execute_result"
    }
   ],
   "source": [
    "df_pop_Top.sort_values(by=\"Proportion de personnes en malnutrition(%)\", ascending=False).head(20)"
   ]
  },
  {
   "cell_type": "markdown",
   "metadata": {},
   "source": [
    "### **Top 10 des pays où la proportion des personnes en état de malnutrition est la plus faible en 2017**"
   ]
  },
  {
   "cell_type": "code",
   "execution_count": 203,
   "metadata": {},
   "outputs": [
    {
     "data": {
      "text/html": [
       "<div>\n",
       "<style scoped>\n",
       "    .dataframe tbody tr th:only-of-type {\n",
       "        vertical-align: middle;\n",
       "    }\n",
       "\n",
       "    .dataframe tbody tr th {\n",
       "        vertical-align: top;\n",
       "    }\n",
       "\n",
       "    .dataframe thead th {\n",
       "        text-align: right;\n",
       "    }\n",
       "</style>\n",
       "<table border=\"1\" class=\"dataframe\">\n",
       "  <thead>\n",
       "    <tr style=\"text-align: right;\">\n",
       "      <th></th>\n",
       "      <th>Pop.Totale (en millions)</th>\n",
       "      <th>Pop. Malnutrition (en millions)</th>\n",
       "      <th>Proportion de personnes en malnutrition(%)</th>\n",
       "    </tr>\n",
       "    <tr>\n",
       "      <th>Pays</th>\n",
       "      <th></th>\n",
       "      <th></th>\n",
       "      <th></th>\n",
       "    </tr>\n",
       "  </thead>\n",
       "  <tbody>\n",
       "    <tr>\n",
       "      <th>Bulgarie</th>\n",
       "      <td>7.102444</td>\n",
       "      <td>0.2</td>\n",
       "      <td>2.815932</td>\n",
       "    </tr>\n",
       "    <tr>\n",
       "      <th>Ouzbékistan</th>\n",
       "      <td>31.959785</td>\n",
       "      <td>0.9</td>\n",
       "      <td>2.816039</td>\n",
       "    </tr>\n",
       "    <tr>\n",
       "      <th>Algérie</th>\n",
       "      <td>41.389189</td>\n",
       "      <td>1.3</td>\n",
       "      <td>3.140917</td>\n",
       "    </tr>\n",
       "    <tr>\n",
       "      <th>Émirats arabes unis</th>\n",
       "      <td>9.487203</td>\n",
       "      <td>0.3</td>\n",
       "      <td>3.162154</td>\n",
       "    </tr>\n",
       "    <tr>\n",
       "      <th>Malaisie</th>\n",
       "      <td>31.104646</td>\n",
       "      <td>1.0</td>\n",
       "      <td>3.214954</td>\n",
       "    </tr>\n",
       "    <tr>\n",
       "      <th>Chili</th>\n",
       "      <td>18.470439</td>\n",
       "      <td>0.6</td>\n",
       "      <td>3.248434</td>\n",
       "    </tr>\n",
       "    <tr>\n",
       "      <th>Ukraine</th>\n",
       "      <td>44.487709</td>\n",
       "      <td>1.5</td>\n",
       "      <td>3.371718</td>\n",
       "    </tr>\n",
       "    <tr>\n",
       "      <th>Argentine</th>\n",
       "      <td>43.937140</td>\n",
       "      <td>1.5</td>\n",
       "      <td>3.413968</td>\n",
       "    </tr>\n",
       "    <tr>\n",
       "      <th>Turkménistan</th>\n",
       "      <td>5.757667</td>\n",
       "      <td>0.2</td>\n",
       "      <td>3.473629</td>\n",
       "    </tr>\n",
       "    <tr>\n",
       "      <th>Chine, Taiwan Province de</th>\n",
       "      <td>23.674546</td>\n",
       "      <td>0.9</td>\n",
       "      <td>3.801551</td>\n",
       "    </tr>\n",
       "  </tbody>\n",
       "</table>\n",
       "</div>"
      ],
      "text/plain": [
       "                           Pop.Totale (en millions)  \\\n",
       "Pays                                                  \n",
       "Bulgarie                                   7.102444   \n",
       "Ouzbékistan                               31.959785   \n",
       "Algérie                                   41.389189   \n",
       "Émirats arabes unis                        9.487203   \n",
       "Malaisie                                  31.104646   \n",
       "Chili                                     18.470439   \n",
       "Ukraine                                   44.487709   \n",
       "Argentine                                 43.937140   \n",
       "Turkménistan                               5.757667   \n",
       "Chine, Taiwan Province de                 23.674546   \n",
       "\n",
       "                           Pop. Malnutrition (en millions)  \\\n",
       "Pays                                                         \n",
       "Bulgarie                                               0.2   \n",
       "Ouzbékistan                                            0.9   \n",
       "Algérie                                                1.3   \n",
       "Émirats arabes unis                                    0.3   \n",
       "Malaisie                                               1.0   \n",
       "Chili                                                  0.6   \n",
       "Ukraine                                                1.5   \n",
       "Argentine                                              1.5   \n",
       "Turkménistan                                           0.2   \n",
       "Chine, Taiwan Province de                              0.9   \n",
       "\n",
       "                           Proportion de personnes en malnutrition(%)  \n",
       "Pays                                                                   \n",
       "Bulgarie                                                     2.815932  \n",
       "Ouzbékistan                                                  2.816039  \n",
       "Algérie                                                      3.140917  \n",
       "Émirats arabes unis                                          3.162154  \n",
       "Malaisie                                                     3.214954  \n",
       "Chili                                                        3.248434  \n",
       "Ukraine                                                      3.371718  \n",
       "Argentine                                                    3.413968  \n",
       "Turkménistan                                                 3.473629  \n",
       "Chine, Taiwan Province de                                    3.801551  "
      ]
     },
     "execution_count": 203,
     "metadata": {},
     "output_type": "execute_result"
    }
   ],
   "source": [
    "df_pop_Top.sort_values(by=\"Proportion de personnes en malnutrition(%)\", ascending=True).head(10)"
   ]
  },
  {
   "cell_type": "markdown",
   "metadata": {},
   "source": [
    "## **(Requête Secondaire) Pays où la Disponibilité alimentaire est la plus forte par habitant en 2013**"
   ]
  },
  {
   "cell_type": "markdown",
   "metadata": {},
   "source": [
    "Je crée un DataFrame représentant la disponibilité alimentaire totale en (kcal/pers/an) et par pays pour l'année 2013 "
   ]
  },
  {
   "cell_type": "code",
   "execution_count": 452,
   "metadata": {},
   "outputs": [],
   "source": [
    "List_df_dispo_alim = df_dispo_alim.index.unique().tolist()"
   ]
  },
  {
   "cell_type": "code",
   "execution_count": 461,
   "metadata": {},
   "outputs": [],
   "source": [
    "data= []\n",
    "for i in List_df_dispo_alim:\n",
    "    val_list = {\"Pays\" : i,\n",
    "              \"Dispo_alim (kcal/pers/an)\" : df_dispo_alim.loc[i][\"Disponibilité alimentaire (Kcal/personne/jour)\"].sum() * 365 }\n",
    "    data.append(val_list)"
   ]
  },
  {
   "cell_type": "code",
   "execution_count": 462,
   "metadata": {},
   "outputs": [],
   "source": [
    "df_dispo_alim_Top = pd.DataFrame(data=data)\n",
    "df_dispo_alim_Top.set_index('Pays',inplace=True)"
   ]
  },
  {
   "cell_type": "markdown",
   "metadata": {},
   "source": [
    "#### Je réponds à la requête : **Top 20 Pays où la Disponibilité alimentaire est la plus forte par habitant en 2013**"
   ]
  },
  {
   "cell_type": "code",
   "execution_count": 464,
   "metadata": {},
   "outputs": [
    {
     "data": {
      "text/html": [
       "<div>\n",
       "<style scoped>\n",
       "    .dataframe tbody tr th:only-of-type {\n",
       "        vertical-align: middle;\n",
       "    }\n",
       "\n",
       "    .dataframe tbody tr th {\n",
       "        vertical-align: top;\n",
       "    }\n",
       "\n",
       "    .dataframe thead th {\n",
       "        text-align: right;\n",
       "    }\n",
       "</style>\n",
       "<table border=\"1\" class=\"dataframe\">\n",
       "  <thead>\n",
       "    <tr style=\"text-align: right;\">\n",
       "      <th></th>\n",
       "      <th>Dispo_alim (kcal/pers/an)</th>\n",
       "    </tr>\n",
       "    <tr>\n",
       "      <th>Pays</th>\n",
       "      <th></th>\n",
       "    </tr>\n",
       "  </thead>\n",
       "  <tbody>\n",
       "    <tr>\n",
       "      <th>Autriche</th>\n",
       "      <td>1376050.0</td>\n",
       "    </tr>\n",
       "    <tr>\n",
       "      <th>Belgique</th>\n",
       "      <td>1364005.0</td>\n",
       "    </tr>\n",
       "    <tr>\n",
       "      <th>Turquie</th>\n",
       "      <td>1353420.0</td>\n",
       "    </tr>\n",
       "    <tr>\n",
       "      <th>États-Unis d'Amérique</th>\n",
       "      <td>1343930.0</td>\n",
       "    </tr>\n",
       "    <tr>\n",
       "      <th>Israël</th>\n",
       "      <td>1317650.0</td>\n",
       "    </tr>\n",
       "    <tr>\n",
       "      <th>Irlande</th>\n",
       "      <td>1314730.0</td>\n",
       "    </tr>\n",
       "    <tr>\n",
       "      <th>Italie</th>\n",
       "      <td>1305970.0</td>\n",
       "    </tr>\n",
       "    <tr>\n",
       "      <th>Luxembourg</th>\n",
       "      <td>1292100.0</td>\n",
       "    </tr>\n",
       "    <tr>\n",
       "      <th>Égypte</th>\n",
       "      <td>1284070.0</td>\n",
       "    </tr>\n",
       "    <tr>\n",
       "      <th>Allemagne</th>\n",
       "      <td>1278595.0</td>\n",
       "    </tr>\n",
       "    <tr>\n",
       "      <th>Canada</th>\n",
       "      <td>1277135.0</td>\n",
       "    </tr>\n",
       "    <tr>\n",
       "      <th>Koweït</th>\n",
       "      <td>1277135.0</td>\n",
       "    </tr>\n",
       "    <tr>\n",
       "      <th>Monténégro</th>\n",
       "      <td>1273850.0</td>\n",
       "    </tr>\n",
       "    <tr>\n",
       "      <th>Norvège</th>\n",
       "      <td>1271295.0</td>\n",
       "    </tr>\n",
       "    <tr>\n",
       "      <th>France</th>\n",
       "      <td>1270930.0</td>\n",
       "    </tr>\n",
       "    <tr>\n",
       "      <th>Portugal</th>\n",
       "      <td>1267280.0</td>\n",
       "    </tr>\n",
       "    <tr>\n",
       "      <th>Pologne</th>\n",
       "      <td>1259250.0</td>\n",
       "    </tr>\n",
       "    <tr>\n",
       "      <th>Lituanie</th>\n",
       "      <td>1246110.0</td>\n",
       "    </tr>\n",
       "    <tr>\n",
       "      <th>Maroc</th>\n",
       "      <td>1241730.0</td>\n",
       "    </tr>\n",
       "    <tr>\n",
       "      <th>Cuba</th>\n",
       "      <td>1241730.0</td>\n",
       "    </tr>\n",
       "  </tbody>\n",
       "</table>\n",
       "</div>"
      ],
      "text/plain": [
       "                       Dispo_alim (kcal/pers/an)\n",
       "Pays                                            \n",
       "Autriche                               1376050.0\n",
       "Belgique                               1364005.0\n",
       "Turquie                                1353420.0\n",
       "États-Unis d'Amérique                  1343930.0\n",
       "Israël                                 1317650.0\n",
       "Irlande                                1314730.0\n",
       "Italie                                 1305970.0\n",
       "Luxembourg                             1292100.0\n",
       "Égypte                                 1284070.0\n",
       "Allemagne                              1278595.0\n",
       "Canada                                 1277135.0\n",
       "Koweït                                 1277135.0\n",
       "Monténégro                             1273850.0\n",
       "Norvège                                1271295.0\n",
       "France                                 1270930.0\n",
       "Portugal                               1267280.0\n",
       "Pologne                                1259250.0\n",
       "Lituanie                               1246110.0\n",
       "Maroc                                  1241730.0\n",
       "Cuba                                   1241730.0"
      ]
     },
     "execution_count": 464,
     "metadata": {},
     "output_type": "execute_result"
    }
   ],
   "source": [
    "df_dispo_alim_Top.sort_values(by = \"Dispo_alim (kcal/pers/an)\", ascending= False).head(20)"
   ]
  },
  {
   "cell_type": "markdown",
   "metadata": {},
   "source": [
    "Représentation graphique du top 5 des pays où la disponibilité alimentaire est la plus forte par habitant en 2013"
   ]
  },
  {
   "cell_type": "code",
   "execution_count": 466,
   "metadata": {},
   "outputs": [],
   "source": [
    "top5_dispo_alim = df_dispo_alim_Top.sort_values(by = \"Dispo_alim (kcal/pers/an)\", ascending= False).head(5)"
   ]
  },
  {
   "cell_type": "code",
   "execution_count": 469,
   "metadata": {
    "jupyter": {
     "source_hidden": true
    }
   },
   "outputs": [
    {
     "data": {
      "text/plain": [
       "Text(0.5, 0.98, 'Top 5 Pays où la disponibilité alimentaire est la plus forte par habitant (par jour) en 2013')"
      ]
     },
     "execution_count": 469,
     "metadata": {},
     "output_type": "execute_result"
    },
    {
     "data": {
      "image/png": "[encoded data removed]",
      "text/plain": [
       "<Figure size 864x432 with 1 Axes>"
      ]
     },
     "metadata": {
      "needs_background": "light"
     },
     "output_type": "display_data"
    }
   ],
   "source": [
    "names = top5_dispo_alim.index\n",
    "values = top5_dispo_alim[\"Dispo_alim (kcal/pers/an)\"]\n",
    "def kcal(x, pos):\n",
    "    \"\"\"The two args are the value and tick position.\"\"\"\n",
    "    return '{:1.1f} kcal'.format(x)\n",
    "fig, axs = plt.subplots(1, figsize=(12, 6))\n",
    "axs.yaxis.set_major_formatter(kcal)\n",
    "axs.bar(names, values, color= ['green', 'blue', 'yellow', 'orange', 'red'])\n",
    "fig.suptitle('Top 5 Pays où la disponibilité alimentaire est la plus forte par habitant (par jour) en 2013')"
   ]
  },
  {
   "cell_type": "markdown",
   "metadata": {},
   "source": [
    "## **(Requête Secondaire) Pays où la Disponibilité alimentaire est la plus faible par habitant en 2013**"
   ]
  },
  {
   "cell_type": "markdown",
   "metadata": {},
   "source": [
    "Je filtre le DataFrame crée précedemment par ordre croissant sur la colonne **Dispo_alim (kcal/pers/an)** pour répondre à la requête."
   ]
  },
  {
   "cell_type": "code",
   "execution_count": 470,
   "metadata": {},
   "outputs": [],
   "source": [
    "flop5_dispo_alim = df_dispo_alim_Top.sort_values(by = \"Dispo_alim (kcal/pers/an)\", ascending= True).head(5)"
   ]
  },
  {
   "cell_type": "markdown",
   "metadata": {},
   "source": [
    "Représentation graphique du top 5 des pays où la disponibilité alimentaire est la plus faible par habitant en 2013"
   ]
  },
  {
   "cell_type": "code",
   "execution_count": 472,
   "metadata": {
    "jupyter": {
     "source_hidden": true
    }
   },
   "outputs": [
    {
     "data": {
      "text/plain": [
       "Text(0.5, 0.98, 'Top 5 Pays où la disponibilité alimentaire est la plus faible par habitant (par jour) en 2013')"
      ]
     },
     "execution_count": 472,
     "metadata": {},
     "output_type": "execute_result"
    },
    {
     "data": {
      "image/png": "[encoded data removed]",
      "text/plain": [
       "<Figure size 864x576 with 1 Axes>"
      ]
     },
     "metadata": {
      "needs_background": "light"
     },
     "output_type": "display_data"
    }
   ],
   "source": [
    "names = flop5_dispo_alim.index\n",
    "values = flop5_dispo_alim[\"Dispo_alim (kcal/pers/an)\"]\n",
    "def kcal(x, pos):\n",
    "    \"\"\"The two args are the value and tick position.\"\"\"\n",
    "    return '{:1.1f} kcal'.format(x)\n",
    "fig, axs = plt.subplots(1, figsize=(12, 8))\n",
    "axs.yaxis.set_major_formatter(kcal)\n",
    "axs.bar(names, values,color= ['red', 'orange', 'yellow', 'blue', 'green'])\n",
    "fig.suptitle('Top 5 Pays où la disponibilité alimentaire est la plus faible par habitant (par jour) en 2013')"
   ]
  },
  {
   "cell_type": "markdown",
   "metadata": {},
   "source": [
    "## **EXTRA- Lien entre l'exportation et la valeur nutritionnelle des aliments**"
   ]
  },
  {
   "cell_type": "markdown",
   "metadata": {},
   "source": [
    "#### Ajouter une colonne **Valeur nutritionnelle en protéine (pour 100g d'aliment/pers/jour)**"
   ]
  },
  {
   "cell_type": "code",
   "execution_count": 117,
   "metadata": {},
   "outputs": [],
   "source": [
    "df_dispo_alim[\"Valeur nutritionnelle en protéine (pour 100g d'aliment/pers/jour)\"] = 100 / ((df_dispo_alim[\"Disponibilité alimentaire en quantité (kg/personne/an)\"] * 1000) / 365) * df_dispo_alim[\"Disponibilité de protéines en quantité (g/personne/jour)\"]"
   ]
  },
  {
   "cell_type": "markdown",
   "metadata": {},
   "source": [
    "#### Ajouter une colonne **Valeur nutritionnelle en matiere grasse (pour 100g d'aliment/pers/jour)**"
   ]
  },
  {
   "cell_type": "code",
   "execution_count": 476,
   "metadata": {},
   "outputs": [],
   "source": [
    "df_dispo_alim[\"Valeur nutritionnelle en matiere grasse (pour 100g d'aliment/pers/jour)\"] = 100 / ((df_dispo_alim[\"Disponibilité alimentaire en quantité (kg/personne/an)\"] * 1000) / 365) * df_dispo_alim[\"Disponibilité de matière grasse en quantité (g/personne/jour)\"]"
   ]
  },
  {
   "cell_type": "markdown",
   "metadata": {},
   "source": [
    "Créer un DataFrame ciblé sur l'exportation et la valeur nutrtionnelle des produits en Ethiopie (pays du tiers-monde)"
   ]
  },
  {
   "cell_type": "code",
   "execution_count": 477,
   "metadata": {},
   "outputs": [],
   "source": [
    "df_ethio_export = df_dispo_alim.loc[\"Éthiopie\"].sort_values(by = \"Exportations - Quantité\", ascending= False).head(10)"
   ]
  },
  {
   "cell_type": "code",
   "execution_count": 478,
   "metadata": {},
   "outputs": [
    {
     "data": {
      "text/html": [
       "<div>\n",
       "<style scoped>\n",
       "    .dataframe tbody tr th:only-of-type {\n",
       "        vertical-align: middle;\n",
       "    }\n",
       "\n",
       "    .dataframe tbody tr th {\n",
       "        vertical-align: top;\n",
       "    }\n",
       "\n",
       "    .dataframe thead th {\n",
       "        text-align: right;\n",
       "    }\n",
       "</style>\n",
       "<table border=\"1\" class=\"dataframe\">\n",
       "  <thead>\n",
       "    <tr style=\"text-align: right;\">\n",
       "      <th></th>\n",
       "      <th>Produit</th>\n",
       "      <th>Exportations - Quantité</th>\n",
       "      <th>Valeur nutritionnelle en protéine (pour 100g d'aliment/pers/jour)</th>\n",
       "      <th>Valeur nutritionnelle en matiere grasse (pour 100g d'aliment/pers/jour)</th>\n",
       "      <th>Disponibilité alimentaire (Kcal/personne/jour)</th>\n",
       "    </tr>\n",
       "    <tr>\n",
       "      <th>Zone</th>\n",
       "      <th></th>\n",
       "      <th></th>\n",
       "      <th></th>\n",
       "      <th></th>\n",
       "      <th></th>\n",
       "    </tr>\n",
       "  </thead>\n",
       "  <tbody>\n",
       "    <tr>\n",
       "      <th>Éthiopie</th>\n",
       "      <td>Café</td>\n",
       "      <td>204000000.0</td>\n",
       "      <td>6.778571</td>\n",
       "      <td>0.000000</td>\n",
       "      <td>1.0</td>\n",
       "    </tr>\n",
       "    <tr>\n",
       "      <th>Éthiopie</th>\n",
       "      <td>Sésame</td>\n",
       "      <td>175000000.0</td>\n",
       "      <td>16.590909</td>\n",
       "      <td>49.772727</td>\n",
       "      <td>2.0</td>\n",
       "    </tr>\n",
       "    <tr>\n",
       "      <th>Éthiopie</th>\n",
       "      <td>Haricots</td>\n",
       "      <td>148000000.0</td>\n",
       "      <td>22.179426</td>\n",
       "      <td>1.746411</td>\n",
       "      <td>20.0</td>\n",
       "    </tr>\n",
       "    <tr>\n",
       "      <th>Éthiopie</th>\n",
       "      <td>Légumineuses Autres</td>\n",
       "      <td>121000000.0</td>\n",
       "      <td>23.735756</td>\n",
       "      <td>2.473969</td>\n",
       "      <td>96.0</td>\n",
       "    </tr>\n",
       "    <tr>\n",
       "      <th>Éthiopie</th>\n",
       "      <td>Légumes, Autres</td>\n",
       "      <td>66000000.0</td>\n",
       "      <td>1.723480</td>\n",
       "      <td>0.236093</td>\n",
       "      <td>15.0</td>\n",
       "    </tr>\n",
       "    <tr>\n",
       "      <th>Éthiopie</th>\n",
       "      <td>Pommes de Terre</td>\n",
       "      <td>52000000.0</td>\n",
       "      <td>1.591729</td>\n",
       "      <td>0.109774</td>\n",
       "      <td>12.0</td>\n",
       "    </tr>\n",
       "    <tr>\n",
       "      <th>Éthiopie</th>\n",
       "      <td>Plantes Oleiferes, Autre</td>\n",
       "      <td>36000000.0</td>\n",
       "      <td>16.846154</td>\n",
       "      <td>33.692308</td>\n",
       "      <td>2.0</td>\n",
       "    </tr>\n",
       "    <tr>\n",
       "      <th>Éthiopie</th>\n",
       "      <td>Tomates</td>\n",
       "      <td>19000000.0</td>\n",
       "      <td>1.073529</td>\n",
       "      <td>0.000000</td>\n",
       "      <td>0.0</td>\n",
       "    </tr>\n",
       "    <tr>\n",
       "      <th>Éthiopie</th>\n",
       "      <td>Arachides Decortiquees</td>\n",
       "      <td>17000000.0</td>\n",
       "      <td>26.545455</td>\n",
       "      <td>50.436364</td>\n",
       "      <td>9.0</td>\n",
       "    </tr>\n",
       "    <tr>\n",
       "      <th>Éthiopie</th>\n",
       "      <td>Épices, Autres</td>\n",
       "      <td>15000000.0</td>\n",
       "      <td>11.327586</td>\n",
       "      <td>15.103448</td>\n",
       "      <td>3.0</td>\n",
       "    </tr>\n",
       "  </tbody>\n",
       "</table>\n",
       "</div>"
      ],
      "text/plain": [
       "                           Produit  Exportations - Quantité  \\\n",
       "Zone                                                          \n",
       "Éthiopie                      Café              204000000.0   \n",
       "Éthiopie                    Sésame              175000000.0   \n",
       "Éthiopie                  Haricots              148000000.0   \n",
       "Éthiopie       Légumineuses Autres              121000000.0   \n",
       "Éthiopie           Légumes, Autres               66000000.0   \n",
       "Éthiopie           Pommes de Terre               52000000.0   \n",
       "Éthiopie  Plantes Oleiferes, Autre               36000000.0   \n",
       "Éthiopie                   Tomates               19000000.0   \n",
       "Éthiopie    Arachides Decortiquees               17000000.0   \n",
       "Éthiopie            Épices, Autres               15000000.0   \n",
       "\n",
       "          Valeur nutritionnelle en protéine (pour 100g d'aliment/pers/jour)  \\\n",
       "Zone                                                                          \n",
       "Éthiopie                                           6.778571                   \n",
       "Éthiopie                                          16.590909                   \n",
       "Éthiopie                                          22.179426                   \n",
       "Éthiopie                                          23.735756                   \n",
       "Éthiopie                                           1.723480                   \n",
       "Éthiopie                                           1.591729                   \n",
       "Éthiopie                                          16.846154                   \n",
       "Éthiopie                                           1.073529                   \n",
       "Éthiopie                                          26.545455                   \n",
       "Éthiopie                                          11.327586                   \n",
       "\n",
       "          Valeur nutritionnelle en matiere grasse (pour 100g d'aliment/pers/jour)  \\\n",
       "Zone                                                                                \n",
       "Éthiopie                                           0.000000                         \n",
       "Éthiopie                                          49.772727                         \n",
       "Éthiopie                                           1.746411                         \n",
       "Éthiopie                                           2.473969                         \n",
       "Éthiopie                                           0.236093                         \n",
       "Éthiopie                                           0.109774                         \n",
       "Éthiopie                                          33.692308                         \n",
       "Éthiopie                                           0.000000                         \n",
       "Éthiopie                                          50.436364                         \n",
       "Éthiopie                                          15.103448                         \n",
       "\n",
       "          Disponibilité alimentaire (Kcal/personne/jour)  \n",
       "Zone                                                      \n",
       "Éthiopie                                             1.0  \n",
       "Éthiopie                                             2.0  \n",
       "Éthiopie                                            20.0  \n",
       "Éthiopie                                            96.0  \n",
       "Éthiopie                                            15.0  \n",
       "Éthiopie                                            12.0  \n",
       "Éthiopie                                             2.0  \n",
       "Éthiopie                                             0.0  \n",
       "Éthiopie                                             9.0  \n",
       "Éthiopie                                             3.0  "
      ]
     },
     "execution_count": 478,
     "metadata": {},
     "output_type": "execute_result"
    }
   ],
   "source": [
    "df_ethio_export[[\"Produit\"] + [\"Exportations - Quantité\"] + [\"Valeur nutritionnelle en protéine (pour 100g d'aliment/pers/jour)\"] + [\"Valeur nutritionnelle en matiere grasse (pour 100g d'aliment/pers/jour)\"] + [\"Disponibilité alimentaire (Kcal/personne/jour)\"]]"
   ]
  },
  {
   "cell_type": "markdown",
   "metadata": {},
   "source": [
    "L'on voit que les produits exportés sont d'une valeur nutritionnelle élevée, ce qui pourrait nourrir plus de personnes dans ces pays du tiers-monde sans l'exportation."
   ]
  },
  {
   "cell_type": "markdown",
   "metadata": {},
   "source": [
    " "
   ]
  },
  {
   "cell_type": "markdown",
   "metadata": {},
   "source": [
    "Comparons la répartition de la valeur nutritionnelle selon la disponibilité alimentaire d'un pays pauvre et d'un pays développé "
   ]
  },
  {
   "cell_type": "markdown",
   "metadata": {},
   "source": [
    " "
   ]
  },
  {
   "cell_type": "code",
   "execution_count": 84,
   "metadata": {
    "jupyter": {
     "source_hidden": true
    }
   },
   "outputs": [
    {
     "data": {
      "image/png": "[encoded data removed]",
      "text/plain": [
       "<Figure size 432x288 with 1 Axes>"
      ]
     },
     "metadata": {},
     "output_type": "display_data"
    }
   ],
   "source": [
    "labels = 'Proteine', 'Restes (Sucres)', 'Fat'\n",
    "sizes = [23,\n",
    "          45,\n",
    "           32\n",
    "           ]\n",
    "explode = (0, 0.1, 0)  # only \"explode\" the 2nd slice (i.e. 'Hogs')\n",
    "\n",
    "fig1, ax1 = plt.subplots()\n",
    "ax1.pie(sizes, explode=explode, labels=labels, autopct='%1.1f%%',\n",
    "        shadow=True, startangle=90)\n",
    "ax1.axis('equal')  # Equal aspect ratio ensures that pie is drawn as a circle.\n",
    "\n",
    "plt.show()"
   ]
  },
  {
   "cell_type": "markdown",
   "metadata": {},
   "source": [
    "Répartition idéal des macronutriments par rapport aux calories totales"
   ]
  },
  {
   "cell_type": "code",
   "execution_count": 122,
   "metadata": {
    "jupyter": {
     "source_hidden": true
    }
   },
   "outputs": [
    {
     "data": {
      "image/png": "[encoded data removed]",
      "text/plain": [
       "<Figure size 432x288 with 1 Axes>"
      ]
     },
     "metadata": {},
     "output_type": "display_data"
    }
   ],
   "source": [
    "# Pie chart, where the slices will be ordered and plotted counter-clockwise:\n",
    "labels = 'Proteine', 'Restes (Sucres)', 'Fat'\n",
    "sizes = [df_dispo_alim.loc[\"Éthiopie\"][\"Disponibilité de protéines en quantité (g/personne/jour)\"].sum(),\n",
    "         562.5 -(df_dispo_alim.loc[\"Éthiopie\"][\"Disponibilité de protéines en quantité (g/personne/jour)\"].sum() + (df_dispo_alim.loc[\"Éthiopie\"][\"Disponibilité de matière grasse en quantité (g/personne/jour)\"].sum() * 2.25)  ),\n",
    "           df_dispo_alim.loc[\"Éthiopie\"][\"Disponibilité de matière grasse en quantité (g/personne/jour)\"].sum() * 2.25\n",
    "           ]\n",
    "explode = (0, 0.1, 0)  # only \"explode\" the 2nd slice (i.e. 'Hogs')\n",
    "\n",
    "fig1, ax1 = plt.subplots()\n",
    "ax1.pie(sizes, explode=explode, labels=labels, autopct='%1.1f%%',\n",
    "        shadow=True, startangle=90)\n",
    "ax1.axis('equal')  # Equal aspect ratio ensures that pie is drawn as a circle.\n",
    "\n",
    "plt.show()"
   ]
  },
  {
   "cell_type": "markdown",
   "metadata": {},
   "source": [
    "Répartition des macronutriments par rapport aux calories totales en Ethiopie"
   ]
  },
  {
   "cell_type": "code",
   "execution_count": 123,
   "metadata": {
    "jupyter": {
     "source_hidden": true
    }
   },
   "outputs": [
    {
     "data": {
      "image/png": "[encoded data removed]",
      "text/plain": [
       "<Figure size 432x288 with 1 Axes>"
      ]
     },
     "metadata": {},
     "output_type": "display_data"
    }
   ],
   "source": [
    "labels = 'Proteine', 'Restes (Sucres)', 'Fat'\n",
    "sizes = [df_dispo_alim.loc[\"France\"][\"Disponibilité de protéines en quantité (g/personne/jour)\"].sum(),\n",
    "         ( df_dispo_alim.loc[\"France\"][\"Disponibilité de protéines en quantité (g/personne/jour)\"].sum() + (df_dispo_alim.loc[\"France\"][\"Disponibilité de matière grasse en quantité (g/personne/jour)\"].sum() * 2.25)  ) -375,\n",
    "           df_dispo_alim.loc[\"France\"][\"Disponibilité de matière grasse en quantité (g/personne/jour)\"].sum() * 2.25\n",
    "           ]\n",
    "explode = (0, 0.1, 0)  # only \"explode\" the 2nd slice (i.e. 'Hogs')\n",
    "\n",
    "fig1, ax1 = plt.subplots()\n",
    "ax1.pie(sizes, explode=explode, labels=labels, autopct='%1.1f%%',\n",
    "        shadow=True, startangle=90)\n",
    "ax1.axis('equal')  # Equal aspect ratio ensures that pie is drawn as a circle.\n",
    "\n",
    "plt.show()"
   ]
  },
  {
   "cell_type": "markdown",
   "metadata": {},
   "source": [
    "Répartition des macronutriments par rapport aux calories totales en France"
   ]
  },
  {
   "cell_type": "markdown",
   "metadata": {},
   "source": [
    "## **EXTRA- Les Pays les plus peuplés en 2017**"
   ]
  },
  {
   "cell_type": "code",
   "execution_count": 318,
   "metadata": {
    "jupyter": {
     "source_hidden": true
    }
   },
   "outputs": [
    {
     "data": {
      "text/plain": [
       "Text(0.5, 0.98, 'Top 5 Pays les plus peuplés en 2017')"
      ]
     },
     "execution_count": 318,
     "metadata": {},
     "output_type": "execute_result"
    },
    {
     "data": {
      "image/png": "[encoded data removed]",
      "text/plain": [
       "<Figure size 864x576 with 1 Axes>"
      ]
     },
     "metadata": {
      "needs_background": "light"
     },
     "output_type": "display_data"
    }
   ],
   "source": [
    "names = df_pop17.index\n",
    "values = df_pop17.Valeur\n",
    "def millions(x, pos):\n",
    "    \"\"\"The two args are the value and tick position.\"\"\"\n",
    "    return '{:1.1f} M'.format(x)\n",
    "fig, axs = plt.subplots(1, figsize=(12, 8))\n",
    "axs.yaxis.set_major_formatter(millions)\n",
    "axs.bar(names, values,color= ['red', 'orange', 'yellow', 'blue', 'green'])\n",
    "totals = []\n",
    "\n",
    "# find the values and append to list\n",
    "for i in axs.patches:\n",
    "    totals.append(i.get_height())\n",
    "# set individual bar lables using above list\n",
    "total = sum(totals)\n",
    "# set individual bar lables using above list\n",
    "for i in axs.patches:\n",
    "    \n",
    "    # get_x pulls left or right; get_height pushes up or down\n",
    "    axs.text(i.get_x()+.12, i.get_height()-3, \\\n",
    "            str(round((i.get_height()/(df_ss_nutr_Sum.loc[df_ss_nutr_Sum.index == \"2017\"][\"Pop_Mondiale\"][0] *1000))*100, 2))+'%', fontsize=22,\n",
    "                color='black')\n",
    "fig.suptitle('Top 5 Pays les plus peuplés en 2017')"
   ]
  },
  {
   "cell_type": "markdown",
   "metadata": {},
   "source": [
    "La Chine et l'Inde représentent 1/3 de la population mondiale !"
   ]
  }
 ],
 "metadata": {
  "kernelspec": {
   "display_name": "Python 3",
   "language": "python",
   "name": "python3"
  },
  "language_info": {
   "codemirror_mode": {
    "name": "ipython",
    "version": 3
   },
   "file_extension": ".py",
   "mimetype": "text/x-python",
   "name": "python",
   "nbconvert_exporter": "python",
   "pygments_lexer": "ipython3",
   "version": "3.8.5"
  }
 },
 "nbformat": 4,
 "nbformat_minor": 4
}
